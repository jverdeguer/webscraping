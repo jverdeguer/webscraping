{
 "cells": [
  {
   "cell_type": "code",
   "execution_count": 6,
   "id": "c21cb4bd-dcdf-4a2f-9898-634c33033a72",
   "metadata": {},
   "outputs": [],
   "source": [
    "import asyncio\n",
    "from bs4 import BeautifulSoup\n",
    "from playwright.async_api import async_playwright\n",
    "import pandas as pd\n",
    "from os import path\n",
    "import os\n",
    "import json\n",
    "import numpy as np\n",
    "from tqdm import tqdm\n",
    "import time\n",
    "from datetime import date\n",
    "import glob\n",
    "import re\n",
    "from decimal import Decimal\n",
    "import plotly.express as px\n",
    "pd.set_option('display.max_columns', None)\n",
    "\n",
    "path =r'/Users/juan.verdeguer/Desktop/python/secrets/secrets.json' \n",
    "\n",
    "secrets=open(path)\n",
    "secrets=json.load(secrets)"
   ]
  },
  {
   "cell_type": "code",
   "execution_count": 7,
   "id": "99690a11-b03f-4533-a0e1-3aca8dc51f99",
   "metadata": {},
   "outputs": [],
   "source": [
    "import psycopg2\n",
    "import psycopg2.extensions\n",
    "\n",
    "psycopg2.extensions.register_type(psycopg2.extensions.UNICODE)\n",
    "psycopg2.extensions.register_type(psycopg2.extensions.UNICODEARRAY)\n",
    "psycopg2.extensions.register_type(psycopg2.extensions.new_type((705,), 'UNKNOWN', psycopg2.extensions.UNICODE))\n",
    "\n",
    "\n",
    "def connect(**kwargs):\n",
    "    conn = psycopg2.connect(**kwargs)\n",
    "    conn.set_session(autocommit=True)\n",
    "    conn.set_client_encoding('UNICODE')\n",
    "    return conn\n",
    "def execute(conn, sql):\n",
    "    cur = conn.cursor() \n",
    "    cur.execute(sql)\n",
    "    cur.close()\n",
    "def fetchall(conn, sql):\n",
    "    cur = conn.cursor()\n",
    "    cur.execute(sql)\n",
    "    res = cur.fetchall()\n",
    "    column_names=cur.description\n",
    "    cur.close()\n",
    "    return res,column_names\n",
    "\n",
    "\n",
    "# try:\n",
    "conn=connect(host=\"localhost\",\n",
    "                          dbname=\"core\",\n",
    "                          user=secrets['db_user'],\n",
    "                          password=secrets['db_password'])\n",
    "\n",
    "\n"
   ]
  },
  {
   "cell_type": "code",
   "execution_count": 8,
   "id": "abc6d0e7-8652-45ea-b0ee-913dd956939f",
   "metadata": {},
   "outputs": [
    {
     "name": "stdout",
     "output_type": "stream",
     "text": [
      "['shipment_id', 'quote_id', 'created_at', 'fulfilment_strategy', 'price', 'transport_base', 'transport_locationpair', 'transport_seasonal', 'pick_up_address', 'drop_off_address', 'name', 'flag_conversion', 'truck_type']\n"
     ]
    }
   ],
   "source": [
    "query=\"\"\"\n",
    "\n",
    "\n",
    "\n",
    "\n",
    "\n",
    "\n",
    "WITH detailed AS (\n",
    "\n",
    "SELECT s.shipment_id,\n",
    "quote_id,\n",
    "company_id,\n",
    "q.created_at,\n",
    "s.fulfilment_strategy,\n",
    "price,\n",
    "transport_base,\n",
    "transport_locationpair ,\n",
    "transport_seasonal ,\n",
    "cargo_type,\n",
    "cargo_subtype,\n",
    "truck_id,\n",
    "CASE WHEN pickup_country IS NOT NULL AND pickup_postcode IS NOT NULL THEN pickup_country||' '||pickup_postcode ELSE pickup_location end pick_up_address,\n",
    "CASE WHEN drop_off_country IS NOT NULL AND drop_off_postcode IS NOT NULL THEN drop_off_country||' '||drop_off_postcode   ELSE drop_off_location end drop_off_address\n",
    "FROM analytics.fct_quote q\n",
    "LEFT JOIN analytics.dim_shipment s \n",
    "ON q.shipment_id =s.shipment_id \n",
    "\n",
    "WHERE q.created_at BETWEEN '2023-05-08'  AND '2023-05-14' --created_at BETWEEN current_date - INTERVAL '2 weeks'  AND current_date - INTERVAL '0 weeks'\n",
    "AND (q.fulfilment_strategy='fullTruck' OR q.fulfilment_strategy='bulk')\n",
    "--AND QUOTE_id=373868\n",
    "AND q.distance>0\n",
    "--AND quote_id IN ('374192','374191')\n",
    "AND q.flag_created_by_is_impersonated IS null\n",
    "ORDER BY q.created_at DESC)\n",
    "\n",
    "SELECT\n",
    "\n",
    "shipment_id,\n",
    "quote_id,\n",
    "d.created_at,\n",
    "fulfilment_strategy,\n",
    "price,\n",
    "transport_base,\n",
    "transport_locationpair,\n",
    "transport_seasonal,\n",
    "pick_up_address,\n",
    "drop_off_address,\n",
    "co.\"name\", \n",
    "--category_name,\n",
    "--\"type\", \n",
    "--cargo_subtype,\n",
    "CASE WHEN shipment_id IS NOT NULL THEN 1 ELSE 0 END flag_conversion,\n",
    "CASE WHEN category_name='sprinter' AND \"type\" ='plane' THEN 'Tarp Sprinter'\n",
    "WHEN (category_name='sevenFiveTons'OR  REPLACE(cargo_subtype,'\"','')='sevenFiveTons') THEN 'Truck 7.5t'\n",
    "WHEN (category_name='twelveTons' OR  REPLACE(cargo_subtype,'\"','')='twelveTons')  THEN 'Truck 12t'\n",
    "WHEN (category_name='fortyTons'  OR  REPLACE(cargo_subtype,'\"','')='fortyTons') THEN 'Semitrailer 40t'\n",
    "ELSE REPLACE(cargo_subtype,'\"','') END truck_type \n",
    "FROM detailed d\n",
    "LEFT JOIN analytics.dim_truck t \n",
    "ON d.truck_id=t.truck_id \n",
    "LEFT JOIN analytics.dim_company co ON\n",
    "d.company_id=co.company_id\n",
    "\n",
    "\n",
    "\n",
    "\n",
    "\n",
    "\n",
    "\"\"\" \n",
    "cr, column_names =fetchall(conn, query)\n",
    "\n",
    "column_names_clean=[]\n",
    "column_names_clean=[elem[0] for elem in column_names] # retrieve the first element of every element in the tuple\n",
    "print(column_names_clean)\n",
    "\n",
    "\n",
    "df = pd.DataFrame(cr, columns=column_names_clean)"
   ]
  },
  {
   "cell_type": "code",
   "execution_count": 9,
   "id": "5f7e3a67-84e9-4d40-84aa-126062653db7",
   "metadata": {},
   "outputs": [
    {
     "data": {
      "text/html": [
       "<div>\n",
       "<style scoped>\n",
       "    .dataframe tbody tr th:only-of-type {\n",
       "        vertical-align: middle;\n",
       "    }\n",
       "\n",
       "    .dataframe tbody tr th {\n",
       "        vertical-align: top;\n",
       "    }\n",
       "\n",
       "    .dataframe thead th {\n",
       "        text-align: right;\n",
       "    }\n",
       "</style>\n",
       "<table border=\"1\" class=\"dataframe\">\n",
       "  <thead>\n",
       "    <tr style=\"text-align: right;\">\n",
       "      <th></th>\n",
       "      <th>shipment_id</th>\n",
       "      <th>quote_id</th>\n",
       "      <th>created_at</th>\n",
       "      <th>fulfilment_strategy</th>\n",
       "      <th>price</th>\n",
       "      <th>transport_base</th>\n",
       "      <th>transport_locationpair</th>\n",
       "      <th>transport_seasonal</th>\n",
       "      <th>pick_up_address</th>\n",
       "      <th>drop_off_address</th>\n",
       "      <th>name</th>\n",
       "      <th>flag_conversion</th>\n",
       "      <th>truck_type</th>\n",
       "    </tr>\n",
       "  </thead>\n",
       "  <tbody>\n",
       "    <tr>\n",
       "      <th>0</th>\n",
       "      <td>NaN</td>\n",
       "      <td>374808</td>\n",
       "      <td>2023-05-12 16:22:35+00:00</td>\n",
       "      <td>None</td>\n",
       "      <td>653.0000000000000000</td>\n",
       "      <td>611.5800000000000000</td>\n",
       "      <td>-159.0100000000000000</td>\n",
       "      <td>200.0000000000000000</td>\n",
       "      <td>DE 96317</td>\n",
       "      <td>BE 4460</td>\n",
       "      <td>None</td>\n",
       "      <td>0</td>\n",
       "      <td>None</td>\n",
       "    </tr>\n",
       "    <tr>\n",
       "      <th>1</th>\n",
       "      <td>335182.0</td>\n",
       "      <td>374807</td>\n",
       "      <td>2023-05-12 14:53:41+00:00</td>\n",
       "      <td>fullTruck</td>\n",
       "      <td>415.0000000000000000</td>\n",
       "      <td>334.8000000000000000</td>\n",
       "      <td>46.8700000000000000</td>\n",
       "      <td>33.4800000000000000</td>\n",
       "      <td>BE 2830</td>\n",
       "      <td>FR 57430</td>\n",
       "      <td>Milliken Europe bv.</td>\n",
       "      <td>1</td>\n",
       "      <td>Tarp Sprinter</td>\n",
       "    </tr>\n",
       "    <tr>\n",
       "      <th>2</th>\n",
       "      <td>335170.0</td>\n",
       "      <td>374805</td>\n",
       "      <td>2023-05-12 14:51:10+00:00</td>\n",
       "      <td>fullTruck</td>\n",
       "      <td>835.0000000000000000</td>\n",
       "      <td>802.4400000000000000</td>\n",
       "      <td>-48.1400000000000000</td>\n",
       "      <td>80.2400000000000000</td>\n",
       "      <td>BE 8830</td>\n",
       "      <td>DE 63741</td>\n",
       "      <td>Rainer Bartsch GmbHInternationale Spedition</td>\n",
       "      <td>1</td>\n",
       "      <td>Semitrailer 40t</td>\n",
       "    </tr>\n",
       "    <tr>\n",
       "      <th>3</th>\n",
       "      <td>NaN</td>\n",
       "      <td>374804</td>\n",
       "      <td>2023-05-12 14:51:09+00:00</td>\n",
       "      <td>None</td>\n",
       "      <td>835.0000000000000000</td>\n",
       "      <td>802.4400000000000000</td>\n",
       "      <td>-48.1400000000000000</td>\n",
       "      <td>80.2400000000000000</td>\n",
       "      <td>BE 8830</td>\n",
       "      <td>DE 63741</td>\n",
       "      <td>None</td>\n",
       "      <td>0</td>\n",
       "      <td>Semitrailer 40t</td>\n",
       "    </tr>\n",
       "    <tr>\n",
       "      <th>4</th>\n",
       "      <td>335154.0</td>\n",
       "      <td>374803</td>\n",
       "      <td>2023-05-12 14:24:23+00:00</td>\n",
       "      <td>fullTruck</td>\n",
       "      <td>481.0000000000000000</td>\n",
       "      <td>453.7400000000000000</td>\n",
       "      <td>-18.1400000000000000</td>\n",
       "      <td>45.3700000000000000</td>\n",
       "      <td>FR 08430</td>\n",
       "      <td>BE 2800</td>\n",
       "      <td>TRANSALLIANCE EUROPE DUDELANGE</td>\n",
       "      <td>1</td>\n",
       "      <td>Semitrailer 40t</td>\n",
       "    </tr>\n",
       "    <tr>\n",
       "      <th>...</th>\n",
       "      <td>...</td>\n",
       "      <td>...</td>\n",
       "      <td>...</td>\n",
       "      <td>...</td>\n",
       "      <td>...</td>\n",
       "      <td>...</td>\n",
       "      <td>...</td>\n",
       "      <td>...</td>\n",
       "      <td>...</td>\n",
       "      <td>...</td>\n",
       "      <td>...</td>\n",
       "      <td>...</td>\n",
       "      <td>...</td>\n",
       "    </tr>\n",
       "    <tr>\n",
       "      <th>421</th>\n",
       "      <td>NaN</td>\n",
       "      <td>374201</td>\n",
       "      <td>2023-05-08 06:52:59+00:00</td>\n",
       "      <td>None</td>\n",
       "      <td>760.0000000000000000</td>\n",
       "      <td>649.8100000000000000</td>\n",
       "      <td>45.4800000000000000</td>\n",
       "      <td>64.9800000000000000</td>\n",
       "      <td>DE 48346</td>\n",
       "      <td>DE 66663</td>\n",
       "      <td>None</td>\n",
       "      <td>0</td>\n",
       "      <td>Semitrailer 40t</td>\n",
       "    </tr>\n",
       "    <tr>\n",
       "      <th>422</th>\n",
       "      <td>333908.0</td>\n",
       "      <td>374200</td>\n",
       "      <td>2023-05-08 06:31:46+00:00</td>\n",
       "      <td>fullTruck</td>\n",
       "      <td>757.1500000000000000</td>\n",
       "      <td>594.5600000000000000</td>\n",
       "      <td>83.2300000000000000</td>\n",
       "      <td>59.4600000000000000</td>\n",
       "      <td>BE 3600</td>\n",
       "      <td>FR 57740</td>\n",
       "      <td>KUEHNE+NAGEL Sàrl</td>\n",
       "      <td>1</td>\n",
       "      <td>Semitrailer 40t</td>\n",
       "    </tr>\n",
       "    <tr>\n",
       "      <th>423</th>\n",
       "      <td>NaN</td>\n",
       "      <td>374199</td>\n",
       "      <td>2023-05-08 06:06:56+00:00</td>\n",
       "      <td>None</td>\n",
       "      <td>851.0000000000000000</td>\n",
       "      <td>693.4400000000000000</td>\n",
       "      <td>27.7300000000000000</td>\n",
       "      <td>69.3400000000000000</td>\n",
       "      <td>DE 81925</td>\n",
       "      <td>DE 10115</td>\n",
       "      <td>None</td>\n",
       "      <td>0</td>\n",
       "      <td>Truck 7.5t</td>\n",
       "    </tr>\n",
       "    <tr>\n",
       "      <th>424</th>\n",
       "      <td>NaN</td>\n",
       "      <td>374198</td>\n",
       "      <td>2023-05-08 06:06:28+00:00</td>\n",
       "      <td>None</td>\n",
       "      <td>791.0000000000000000</td>\n",
       "      <td>693.4400000000000000</td>\n",
       "      <td>27.7300000000000000</td>\n",
       "      <td>69.3400000000000000</td>\n",
       "      <td>Lohengrinstraße 31, 81925 München, DE</td>\n",
       "      <td>Torstraße 205, 10115 Berlin, DE</td>\n",
       "      <td>None</td>\n",
       "      <td>0</td>\n",
       "      <td>Truck 7.5t</td>\n",
       "    </tr>\n",
       "    <tr>\n",
       "      <th>425</th>\n",
       "      <td>NaN</td>\n",
       "      <td>374197</td>\n",
       "      <td>2023-05-08 06:06:18+00:00</td>\n",
       "      <td>None</td>\n",
       "      <td>791.0000000000000000</td>\n",
       "      <td>693.4400000000000000</td>\n",
       "      <td>27.7300000000000000</td>\n",
       "      <td>69.3400000000000000</td>\n",
       "      <td>DE 81925</td>\n",
       "      <td>DE 10115</td>\n",
       "      <td>None</td>\n",
       "      <td>0</td>\n",
       "      <td>Truck 7.5t</td>\n",
       "    </tr>\n",
       "  </tbody>\n",
       "</table>\n",
       "<p>426 rows × 13 columns</p>\n",
       "</div>"
      ],
      "text/plain": [
       "     shipment_id  quote_id                created_at fulfilment_strategy  \\\n",
       "0            NaN    374808 2023-05-12 16:22:35+00:00                None   \n",
       "1       335182.0    374807 2023-05-12 14:53:41+00:00           fullTruck   \n",
       "2       335170.0    374805 2023-05-12 14:51:10+00:00           fullTruck   \n",
       "3            NaN    374804 2023-05-12 14:51:09+00:00                None   \n",
       "4       335154.0    374803 2023-05-12 14:24:23+00:00           fullTruck   \n",
       "..           ...       ...                       ...                 ...   \n",
       "421          NaN    374201 2023-05-08 06:52:59+00:00                None   \n",
       "422     333908.0    374200 2023-05-08 06:31:46+00:00           fullTruck   \n",
       "423          NaN    374199 2023-05-08 06:06:56+00:00                None   \n",
       "424          NaN    374198 2023-05-08 06:06:28+00:00                None   \n",
       "425          NaN    374197 2023-05-08 06:06:18+00:00                None   \n",
       "\n",
       "                    price        transport_base transport_locationpair  \\\n",
       "0    653.0000000000000000  611.5800000000000000  -159.0100000000000000   \n",
       "1    415.0000000000000000  334.8000000000000000    46.8700000000000000   \n",
       "2    835.0000000000000000  802.4400000000000000   -48.1400000000000000   \n",
       "3    835.0000000000000000  802.4400000000000000   -48.1400000000000000   \n",
       "4    481.0000000000000000  453.7400000000000000   -18.1400000000000000   \n",
       "..                    ...                   ...                    ...   \n",
       "421  760.0000000000000000  649.8100000000000000    45.4800000000000000   \n",
       "422  757.1500000000000000  594.5600000000000000    83.2300000000000000   \n",
       "423  851.0000000000000000  693.4400000000000000    27.7300000000000000   \n",
       "424  791.0000000000000000  693.4400000000000000    27.7300000000000000   \n",
       "425  791.0000000000000000  693.4400000000000000    27.7300000000000000   \n",
       "\n",
       "       transport_seasonal                        pick_up_address  \\\n",
       "0    200.0000000000000000                               DE 96317   \n",
       "1     33.4800000000000000                                BE 2830   \n",
       "2     80.2400000000000000                                BE 8830   \n",
       "3     80.2400000000000000                                BE 8830   \n",
       "4     45.3700000000000000                               FR 08430   \n",
       "..                    ...                                    ...   \n",
       "421   64.9800000000000000                               DE 48346   \n",
       "422   59.4600000000000000                                BE 3600   \n",
       "423   69.3400000000000000                               DE 81925   \n",
       "424   69.3400000000000000  Lohengrinstraße 31, 81925 München, DE   \n",
       "425   69.3400000000000000                               DE 81925   \n",
       "\n",
       "                    drop_off_address  \\\n",
       "0                            BE 4460   \n",
       "1                           FR 57430   \n",
       "2                           DE 63741   \n",
       "3                           DE 63741   \n",
       "4                            BE 2800   \n",
       "..                               ...   \n",
       "421                         DE 66663   \n",
       "422                         FR 57740   \n",
       "423                         DE 10115   \n",
       "424  Torstraße 205, 10115 Berlin, DE   \n",
       "425                         DE 10115   \n",
       "\n",
       "                                            name  flag_conversion  \\\n",
       "0                                           None                0   \n",
       "1                            Milliken Europe bv.                1   \n",
       "2    Rainer Bartsch GmbHInternationale Spedition                1   \n",
       "3                                           None                0   \n",
       "4                 TRANSALLIANCE EUROPE DUDELANGE                1   \n",
       "..                                           ...              ...   \n",
       "421                                         None                0   \n",
       "422                            KUEHNE+NAGEL Sàrl                1   \n",
       "423                                         None                0   \n",
       "424                                         None                0   \n",
       "425                                         None                0   \n",
       "\n",
       "          truck_type  \n",
       "0               None  \n",
       "1      Tarp Sprinter  \n",
       "2    Semitrailer 40t  \n",
       "3    Semitrailer 40t  \n",
       "4    Semitrailer 40t  \n",
       "..               ...  \n",
       "421  Semitrailer 40t  \n",
       "422  Semitrailer 40t  \n",
       "423       Truck 7.5t  \n",
       "424       Truck 7.5t  \n",
       "425       Truck 7.5t  \n",
       "\n",
       "[426 rows x 13 columns]"
      ]
     },
     "execution_count": 9,
     "metadata": {},
     "output_type": "execute_result"
    }
   ],
   "source": [
    "df"
   ]
  },
  {
   "cell_type": "code",
   "execution_count": 7,
   "id": "39ff80c2-b14d-4ff8-976b-821a919894fc",
   "metadata": {},
   "outputs": [],
   "source": [
    "## Copy paste in terminal \"playwright codegen --target python -o cargoboard.ipynb https://www.linkedin.de/\""
   ]
  },
  {
   "cell_type": "code",
   "execution_count": 8,
   "id": "ced5e227-1325-435d-9869-f9eae71f650f",
   "metadata": {},
   "outputs": [],
   "source": [
    "### Fix unique pick_up and drop_off combos"
   ]
  },
  {
   "cell_type": "code",
   "execution_count": 334,
   "id": "26cbd57f-d44d-4910-a7f2-5c6c0e8677e0",
   "metadata": {},
   "outputs": [],
   "source": [
    "# Rerun when scraper fails\n",
    "quotes_not_found = []\n",
    "for value in df['quote_id']:\n",
    "\n",
    "    directory_path =  r'/Users/juan.verdeguer/Desktop/python/webscraper/pricing/20230515/' \n",
    "    file_name_pattern = f'{value}.csv'\n",
    "   # print(file_name_pattern)\n",
    "    # Construct the search pattern\n",
    "    search_pattern = directory_path  + file_name_pattern\n",
    "   # print('search pattern: '+str(search_pattern))\n",
    "   \n",
    "    matching_files = glob.glob(search_pattern, recursive=True)\n",
    "  #  print(search_pattern)\n",
    "   # print('matching files: '+str(matching_files))\n",
    "# Iterate over all files in the search pattern\n",
    "   # for file_path in glob.iglob(search_pattern, recursive=True):\n",
    "    #print(search_pattern)\n",
    "        # Check if the file path is not in the list of matching files\n",
    "    if search_pattern not in matching_files:\n",
    "            quotes_not_found.append(file_name_pattern.replace(\".csv\",'').strip())\n"
   ]
  },
  {
   "cell_type": "code",
   "execution_count": 336,
   "id": "f1447092-ede6-42b8-866e-8b2800ba27d6",
   "metadata": {},
   "outputs": [
    {
     "data": {
      "text/html": [
       "<div>\n",
       "<style scoped>\n",
       "    .dataframe tbody tr th:only-of-type {\n",
       "        vertical-align: middle;\n",
       "    }\n",
       "\n",
       "    .dataframe tbody tr th {\n",
       "        vertical-align: top;\n",
       "    }\n",
       "\n",
       "    .dataframe thead th {\n",
       "        text-align: right;\n",
       "    }\n",
       "</style>\n",
       "<table border=\"1\" class=\"dataframe\">\n",
       "  <thead>\n",
       "    <tr style=\"text-align: right;\">\n",
       "      <th></th>\n",
       "      <th>shipment_id</th>\n",
       "      <th>quote_id</th>\n",
       "      <th>created_at</th>\n",
       "      <th>fulfilment_strategy</th>\n",
       "      <th>price</th>\n",
       "      <th>transport_base</th>\n",
       "      <th>transport_locationpair</th>\n",
       "      <th>transport_seasonal</th>\n",
       "      <th>pick_up_address</th>\n",
       "      <th>drop_off_address</th>\n",
       "      <th>name</th>\n",
       "      <th>truck_type</th>\n",
       "    </tr>\n",
       "  </thead>\n",
       "  <tbody>\n",
       "    <tr>\n",
       "      <th>0</th>\n",
       "      <td>334148.0</td>\n",
       "      <td>374328</td>\n",
       "      <td>2023-05-09 07:02:59+00:00</td>\n",
       "      <td>fullTruck</td>\n",
       "      <td>988.0000000000000000</td>\n",
       "      <td>866.3600000000000000</td>\n",
       "      <td>34.6500000000000000</td>\n",
       "      <td>86.6400000000000000</td>\n",
       "      <td>DE 66129</td>\n",
       "      <td>DE 14974</td>\n",
       "      <td>Home24 Outlet GmbH</td>\n",
       "      <td>Truck 12t</td>\n",
       "    </tr>\n",
       "    <tr>\n",
       "      <th>1</th>\n",
       "      <td>NaN</td>\n",
       "      <td>374326</td>\n",
       "      <td>2023-05-09 06:46:32+00:00</td>\n",
       "      <td>None</td>\n",
       "      <td>516.0000000000000000</td>\n",
       "      <td>465.3100000000000000</td>\n",
       "      <td>4.6500000000000000</td>\n",
       "      <td>46.5300000000000000</td>\n",
       "      <td>DE 35415</td>\n",
       "      <td>DE 45883</td>\n",
       "      <td>None</td>\n",
       "      <td>Semitrailer 40t</td>\n",
       "    </tr>\n",
       "    <tr>\n",
       "      <th>2</th>\n",
       "      <td>NaN</td>\n",
       "      <td>374323</td>\n",
       "      <td>2023-05-09 06:13:17+00:00</td>\n",
       "      <td>None</td>\n",
       "      <td>1245.0000000000000000</td>\n",
       "      <td>819.8000000000000000</td>\n",
       "      <td>-131.1600000000000000</td>\n",
       "      <td>200.0000000000000000</td>\n",
       "      <td>DE 23556</td>\n",
       "      <td>DE 91054</td>\n",
       "      <td>None</td>\n",
       "      <td></td>\n",
       "    </tr>\n",
       "    <tr>\n",
       "      <th>3</th>\n",
       "      <td>334113.0</td>\n",
       "      <td>374322</td>\n",
       "      <td>2023-05-09 05:57:45+00:00</td>\n",
       "      <td>fullTruck</td>\n",
       "      <td>1062.0000000000000000</td>\n",
       "      <td>1206.7700000000000000</td>\n",
       "      <td>-265.4800000000000000</td>\n",
       "      <td>120.6800000000000000</td>\n",
       "      <td>DE 98701</td>\n",
       "      <td>IT 40010</td>\n",
       "      <td>Lightweight containers B.V.</td>\n",
       "      <td>Semitrailer 40t</td>\n",
       "    </tr>\n",
       "    <tr>\n",
       "      <th>4</th>\n",
       "      <td>NaN</td>\n",
       "      <td>374321</td>\n",
       "      <td>2023-05-09 04:44:23+00:00</td>\n",
       "      <td>None</td>\n",
       "      <td>658.0000000000000000</td>\n",
       "      <td>587.7800000000000000</td>\n",
       "      <td>-129.3100000000000000</td>\n",
       "      <td>200.0000000000000000</td>\n",
       "      <td>37627 Deensen</td>\n",
       "      <td>IT 37141</td>\n",
       "      <td>None</td>\n",
       "      <td></td>\n",
       "    </tr>\n",
       "    <tr>\n",
       "      <th>...</th>\n",
       "      <td>...</td>\n",
       "      <td>...</td>\n",
       "      <td>...</td>\n",
       "      <td>...</td>\n",
       "      <td>...</td>\n",
       "      <td>...</td>\n",
       "      <td>...</td>\n",
       "      <td>...</td>\n",
       "      <td>...</td>\n",
       "      <td>...</td>\n",
       "      <td>...</td>\n",
       "      <td>...</td>\n",
       "    </tr>\n",
       "    <tr>\n",
       "      <th>89</th>\n",
       "      <td>NaN</td>\n",
       "      <td>374201</td>\n",
       "      <td>2023-05-08 06:52:59+00:00</td>\n",
       "      <td>None</td>\n",
       "      <td>760.0000000000000000</td>\n",
       "      <td>649.8100000000000000</td>\n",
       "      <td>45.4800000000000000</td>\n",
       "      <td>64.9800000000000000</td>\n",
       "      <td>DE 48346</td>\n",
       "      <td>DE 66663</td>\n",
       "      <td>None</td>\n",
       "      <td>Semitrailer 40t</td>\n",
       "    </tr>\n",
       "    <tr>\n",
       "      <th>90</th>\n",
       "      <td>333908.0</td>\n",
       "      <td>374200</td>\n",
       "      <td>2023-05-08 06:31:46+00:00</td>\n",
       "      <td>fullTruck</td>\n",
       "      <td>757.1500000000000000</td>\n",
       "      <td>594.5600000000000000</td>\n",
       "      <td>83.2300000000000000</td>\n",
       "      <td>59.4600000000000000</td>\n",
       "      <td>BE 3600</td>\n",
       "      <td>FR 57740</td>\n",
       "      <td>KUEHNE+NAGEL Sàrl</td>\n",
       "      <td>Semitrailer 40t</td>\n",
       "    </tr>\n",
       "    <tr>\n",
       "      <th>91</th>\n",
       "      <td>NaN</td>\n",
       "      <td>374199</td>\n",
       "      <td>2023-05-08 06:06:56+00:00</td>\n",
       "      <td>None</td>\n",
       "      <td>851.0000000000000000</td>\n",
       "      <td>693.4400000000000000</td>\n",
       "      <td>27.7300000000000000</td>\n",
       "      <td>69.3400000000000000</td>\n",
       "      <td>DE 81925</td>\n",
       "      <td>DE 10115</td>\n",
       "      <td>None</td>\n",
       "      <td>sevenFiveTons</td>\n",
       "    </tr>\n",
       "    <tr>\n",
       "      <th>92</th>\n",
       "      <td>NaN</td>\n",
       "      <td>374198</td>\n",
       "      <td>2023-05-08 06:06:28+00:00</td>\n",
       "      <td>None</td>\n",
       "      <td>791.0000000000000000</td>\n",
       "      <td>693.4400000000000000</td>\n",
       "      <td>27.7300000000000000</td>\n",
       "      <td>69.3400000000000000</td>\n",
       "      <td>Lohengrinstraße 31, 81925 München, DE</td>\n",
       "      <td>Torstraße 205, 10115 Berlin, DE</td>\n",
       "      <td>None</td>\n",
       "      <td>sevenFiveTons</td>\n",
       "    </tr>\n",
       "    <tr>\n",
       "      <th>93</th>\n",
       "      <td>NaN</td>\n",
       "      <td>374197</td>\n",
       "      <td>2023-05-08 06:06:18+00:00</td>\n",
       "      <td>None</td>\n",
       "      <td>791.0000000000000000</td>\n",
       "      <td>693.4400000000000000</td>\n",
       "      <td>27.7300000000000000</td>\n",
       "      <td>69.3400000000000000</td>\n",
       "      <td>DE 81925</td>\n",
       "      <td>DE 10115</td>\n",
       "      <td>None</td>\n",
       "      <td>sevenFiveTons</td>\n",
       "    </tr>\n",
       "  </tbody>\n",
       "</table>\n",
       "<p>94 rows × 12 columns</p>\n",
       "</div>"
      ],
      "text/plain": [
       "    shipment_id  quote_id                created_at fulfilment_strategy  \\\n",
       "0      334148.0    374328 2023-05-09 07:02:59+00:00           fullTruck   \n",
       "1           NaN    374326 2023-05-09 06:46:32+00:00                None   \n",
       "2           NaN    374323 2023-05-09 06:13:17+00:00                None   \n",
       "3      334113.0    374322 2023-05-09 05:57:45+00:00           fullTruck   \n",
       "4           NaN    374321 2023-05-09 04:44:23+00:00                None   \n",
       "..          ...       ...                       ...                 ...   \n",
       "89          NaN    374201 2023-05-08 06:52:59+00:00                None   \n",
       "90     333908.0    374200 2023-05-08 06:31:46+00:00           fullTruck   \n",
       "91          NaN    374199 2023-05-08 06:06:56+00:00                None   \n",
       "92          NaN    374198 2023-05-08 06:06:28+00:00                None   \n",
       "93          NaN    374197 2023-05-08 06:06:18+00:00                None   \n",
       "\n",
       "                    price         transport_base transport_locationpair  \\\n",
       "0    988.0000000000000000   866.3600000000000000    34.6500000000000000   \n",
       "1    516.0000000000000000   465.3100000000000000     4.6500000000000000   \n",
       "2   1245.0000000000000000   819.8000000000000000  -131.1600000000000000   \n",
       "3   1062.0000000000000000  1206.7700000000000000  -265.4800000000000000   \n",
       "4    658.0000000000000000   587.7800000000000000  -129.3100000000000000   \n",
       "..                    ...                    ...                    ...   \n",
       "89   760.0000000000000000   649.8100000000000000    45.4800000000000000   \n",
       "90   757.1500000000000000   594.5600000000000000    83.2300000000000000   \n",
       "91   851.0000000000000000   693.4400000000000000    27.7300000000000000   \n",
       "92   791.0000000000000000   693.4400000000000000    27.7300000000000000   \n",
       "93   791.0000000000000000   693.4400000000000000    27.7300000000000000   \n",
       "\n",
       "      transport_seasonal                        pick_up_address  \\\n",
       "0    86.6400000000000000                               DE 66129   \n",
       "1    46.5300000000000000                               DE 35415   \n",
       "2   200.0000000000000000                               DE 23556   \n",
       "3   120.6800000000000000                               DE 98701   \n",
       "4   200.0000000000000000                          37627 Deensen   \n",
       "..                   ...                                    ...   \n",
       "89   64.9800000000000000                               DE 48346   \n",
       "90   59.4600000000000000                                BE 3600   \n",
       "91   69.3400000000000000                               DE 81925   \n",
       "92   69.3400000000000000  Lohengrinstraße 31, 81925 München, DE   \n",
       "93   69.3400000000000000                               DE 81925   \n",
       "\n",
       "                   drop_off_address                         name  \\\n",
       "0                          DE 14974           Home24 Outlet GmbH   \n",
       "1                          DE 45883                         None   \n",
       "2                          DE 91054                         None   \n",
       "3                          IT 40010  Lightweight containers B.V.   \n",
       "4                          IT 37141                         None   \n",
       "..                              ...                          ...   \n",
       "89                         DE 66663                         None   \n",
       "90                         FR 57740            KUEHNE+NAGEL Sàrl   \n",
       "91                         DE 10115                         None   \n",
       "92  Torstraße 205, 10115 Berlin, DE                         None   \n",
       "93                         DE 10115                         None   \n",
       "\n",
       "         truck_type  \n",
       "0         Truck 12t  \n",
       "1   Semitrailer 40t  \n",
       "2                    \n",
       "3   Semitrailer 40t  \n",
       "4                    \n",
       "..              ...  \n",
       "89  Semitrailer 40t  \n",
       "90  Semitrailer 40t  \n",
       "91    sevenFiveTons  \n",
       "92    sevenFiveTons  \n",
       "93    sevenFiveTons  \n",
       "\n",
       "[94 rows x 12 columns]"
      ]
     },
     "execution_count": 336,
     "metadata": {},
     "output_type": "execute_result"
    }
   ],
   "source": [
    "cleaned_df=df[df['quote_id'].astype(str).isin(quotes_not_found)].reset_index(drop=True)\n",
    "cleaned_df\n"
   ]
  },
  {
   "cell_type": "code",
   "execution_count": 68,
   "id": "c681cc21-73c8-45c8-9ab3-de26080feaec",
   "metadata": {},
   "outputs": [],
   "source": [
    "#cleaned_df"
   ]
  },
  {
   "cell_type": "code",
   "execution_count": 337,
   "id": "faaa2843-189e-44da-8549-754c441c1f30",
   "metadata": {
    "tags": []
   },
   "outputs": [
    {
     "name": "stdout",
     "output_type": "stream",
     "text": [
      "exception\n",
      "374306.csv\n",
      "exception\n",
      "374260.csv\n",
      "exception\n",
      "374213.csv\n",
      "exception\n",
      "374198.csv\n"
     ]
    }
   ],
   "source": [
    "from bs4 import BeautifulSoup\n",
    "import re\n",
    "import asyncio\n",
    "from playwright.async_api import async_playwright\n",
    "\n",
    "folder_path =r'/Users/juan.verdeguer/Desktop/python/webscraper/pricing/20230515/' \n",
    "\n",
    "\n",
    "\n",
    "\n",
    "responses=[]\n",
    "pick_up=[]\n",
    "drop_off=[]\n",
    "quotes_id=[]\n",
    "i=0\n",
    "for value in list(cleaned_df['pick_up_address']):\n",
    "   # print(i)\n",
    "    quote=cleaned_df['quote_id'][i]\n",
    "    quotes_id.append(quote)\n",
    "    \n",
    "    pick_up_=cleaned_df['pick_up_address'][i]\n",
    "   # print(pick_up_)\n",
    "    pick_up.append(cleaned_df['pick_up_address'][i])\n",
    "   \n",
    "    drop_off_=cleaned_df['drop_off_address'][i]\n",
    "  #  print(drop_off_)\n",
    "    drop_off.append(cleaned_df['drop_off_address'][i])\n",
    "    \n",
    "   # print('from:'+str(cleaned_df['pick_up_address'][i])+' to: '+str(cleaned_df['drop_off_address'][i]))\n",
    "\n",
    "    playwright = await async_playwright().start()\n",
    "\n",
    "    browser = await playwright.chromium.launch(headless=False)\n",
    "    context = await browser.new_context()\n",
    "    page = await context.new_page()\n",
    "\n",
    "    await page.goto(\"https://cargoboard.com/de\")\n",
    "    await page.get_by_role(\"button\", name=\"OK\").click()\n",
    "    await page.get_by_placeholder(\"Abholort\").click()\n",
    "    await page.get_by_placeholder(\"Abholort\").fill(f'{pick_up_}')\n",
    "    await page.get_by_placeholder(\"Zustellort\").click()\n",
    "    await page.get_by_placeholder(\"Zustellort\").fill(f'{drop_off_}')\n",
    "    await asyncio.sleep(3)\n",
    "    await page.get_by_role(\"button\", name=\"Buchen\", exact=True).click()\n",
    "    #await page.goto(\"https://my.cargoboard.com/?country=FR&locality=Paris&postal_code=75001&country2=DE&locality2=Berlin&postal_code2=10117&_gl=1*huphsn*_ga*NTA0NzA0OTE4LjE2ODMyODAwMDA.*_ga_2G3KS58SS0*MTY4MzI4MDAwMC4xLjAuMTY4MzI4MDAwMC4wLjAuMA..\")\n",
    "    await asyncio.sleep(2)\n",
    "    await page.get_by_role(\"tab\", name=\" Book a whole Truck (Fast & Direct)\").click()\n",
    "    await asyncio.sleep(2)\n",
    "    await page.get_by_placeholder(\"Pickup: Postcode or City\").click()\n",
    "    await page.get_by_placeholder(\"Pickup: Postcode or City\").fill(f'{pick_up_}')\n",
    "    await page.get_by_placeholder(\"Delivery: Postcode or City\").click()\n",
    "    await page.get_by_placeholder(\"Delivery: Postcode or City\").fill(f'{drop_off_}')\n",
    "    await asyncio.sleep(1)\n",
    "    await page.locator(\"#page-content > div:nth-child(4) > div\").click()\n",
    "    await asyncio.sleep(3)\n",
    "    try:\n",
    "        await page.get_by_role(\"button\", name=\"Calculate transport price now\").click(force=True)\n",
    "        #await page.locator(\"#van div\").filter(has_text=\"Calculate transport price now\").nth(1).click()\n",
    "        await asyncio.sleep(3)\n",
    "        await page.is_visible(\"button\")\n",
    "        await page.get_by_role(\"button\", name=\"Close\").click()\n",
    "        await page.is_visible('div.card h-100')\n",
    "        #await page.locator(\"#deliveryTypeModal select[name=\\\"partload_type_source\\\"]\").select_option(\"ramp\")\n",
    "        #await page.locator(\"#deliveryTypeModal select[name=\\\"partload_type_destination\\\"]\").select_option(\"ramp\")\n",
    "        await asyncio.sleep(1)\n",
    "      #  await page.get_by_role(\"button\", name=\"Close\").click()\n",
    "        html= await page.inner_html('#content')\n",
    "        soup= BeautifulSoup(html,'html.parser')\n",
    "        responses.append(soup)\n",
    "        await browser.close()\n",
    "        file_name = f'{quote}.csv'\n",
    "     #   print(file_name)\n",
    "    # Generate the full file path\n",
    "        file_path = folder_path + file_name\n",
    "        data={'quote_id': quote, 'pick_up': pick_up_, 'drop_off':drop_off_,'response':soup} \n",
    "        #response=pd.DataFrame(zip(str(quote),str(pick_up_),str(drop_off_),soup), columns=['quote_id','pick_up', 'drop_off','response'])\n",
    "        response=pd.DataFrame([data])\n",
    "    # Save the DataFrame as a CSV file in the specified folder\n",
    "        response.to_csv(file_path, index=False)\n",
    "       ## context.close()\n",
    "    except Exception:\n",
    "        print('exception')\n",
    "        file_name = f'{quote}.csv'\n",
    "        print(file_name)\n",
    "    # Generate the full file path\n",
    "        file_path = folder_path + file_name\n",
    "        data={'quote_id': quote, 'pick_up': pick_up_, 'drop_off':drop_off_,'response':'failed_response'} \n",
    "        #response=pd.DataFrame(zip(str(quote),str(pick_up_),str(drop_off_),soup), columns=['quote_id','pick_up', 'drop_off','response'])\n",
    "        response=pd.DataFrame([data])\n",
    "        response.to_csv(file_path, index=False)\n",
    "    i+=1           \n",
    "#await page.get_by_role(\"button\", name=\"Close\").click()\n",
    "    # ---------------------\n",
    "   ## context.close()\n",
    "   ## browser.close()\n"
   ]
  },
  {
   "cell_type": "code",
   "execution_count": null,
   "id": "6d99a7d1-f5ae-4fa5-bb03-6c9521babd68",
   "metadata": {},
   "outputs": [],
   "source": [
    "# truck_type=[]\n",
    "# truck_offer=[]\n",
    "# #pick_up=[]\n",
    "# #drop_off=[]\n",
    " \n",
    "# quote_id=[]\n",
    "# x=0\n",
    "# for response in responses:\n",
    "    \n",
    "#     for i in response.find_all('h3', attrs={'class': 'card-title mb-0'}): \n",
    "#       truck_type.append(i.text)  \n",
    "\n",
    "#     for i in response.find_all('div', attrs={'class': 'h4 mb-0 text-start'}): \n",
    "#         cleaned_string = int(re.sub(r'[.,€\\s]', '', i.text))/100\n",
    "#         truck_offer.append(cleaned_string)     \n",
    "\n",
    "\n",
    "#     # Truck attributes\n",
    "#     # Truck_attributes=[]\n",
    "#     # c=0\n",
    "#     # for i in soup.find_all('div', attrs={'class': 'position-relative ps-4'}): \n",
    "#     #    print(c)\n",
    "#     #    print(i.text)   \n",
    "#     #    c+=1\n",
    "#    # for x in range(len(responses)):\n",
    "#     for i in response.find_all('h3', attrs={'class': 'card-title mb-0'}): \n",
    "#            # t=response.find('div', attrs={'class': 'd-flex flex-wrap gap-3 justify-content-md-evenly'})\n",
    "#            # regex_pick_up=re.search('From:(.*)According',t.text).group(1).replace(\" \\xa0 \",'').strip()\n",
    "#            # pick_up.append(regex_pick_up)\n",
    "#            # regex_drop_off=re.search('According to:(.*)',t.text).group(1).replace(\" \\xa0 \",'').strip() \n",
    "#            # drop_off.append(regex_drop_off)\n",
    "#            quote_id.append(df['quote_id'][x]) \n",
    "#             #pick_up.append(df['pick_up_address'][x])\n",
    "#             #drop_off.append(df['drop_off_address'][x])\n",
    "#     x=+1      "
   ]
  },
  {
   "cell_type": "markdown",
   "id": "2c1e55a3-f12d-4658-9c2a-873e2e1eee96",
   "metadata": {},
   "source": [
    "3 Consolidate csv files into master export"
   ]
  },
  {
   "cell_type": "code",
   "execution_count": 62,
   "id": "d40f1f70-7fcf-49ef-a7a5-21af120e9e53",
   "metadata": {},
   "outputs": [],
   "source": [
    "import pandas as pd\n",
    "from datetime import date\n",
    "import os\n",
    "\n",
    "\n",
    "def consolidate_files(filepath):\n",
    "# Get a list of all files in the specified filepath\n",
    "    files = os.listdir(filepath)\n",
    "\n",
    "# Create an empty list to store the DataFrames\n",
    "    dfs = []\n",
    "\n",
    "    # Iterate over each file\n",
    "    for file in files:\n",
    "        # Check if the file is a CSV file\n",
    "        if file.endswith('.csv'):\n",
    "            # Construct the full file path\n",
    "            file_path = os.path.join(filepath, file)\n",
    "\n",
    "            # Read the file into a DataFrame\n",
    "            df = pd.read_csv(file_path)\n",
    "\n",
    "            # Append the DataFrame to the list\n",
    "            dfs.append(df)\n",
    "\n",
    "    # Concatenate the list of DataFrames into a single DataFrame\n",
    "    consolidated_df = pd.concat(dfs, ignore_index=True)\n",
    "\n",
    "    # Export the consolidated DataFrame as a CSV file with today's date\n",
    "    export_date = date.today().strftime(\"%Y-%m-%d\")\n",
    "    export_filename = f\"consolidated_data_{export_date}.csv\"\n",
    "    consolidated_df\n",
    "\n",
    "\n",
    "    quote_id=[]\n",
    "    truck_type=[]\n",
    "    truck_offer=[]\n",
    "    x=0\n",
    "    for response in consolidated_df['response']:\n",
    "       # print(response)\n",
    "       # print(x)\n",
    "        response=BeautifulSoup(response, 'html.parser')\n",
    "        for i in response.find_all('h3', attrs={'class': 'card-title mb-0'}): \n",
    "        #  print(i.text)\n",
    "          truck_type.append(i.text)  \n",
    "\n",
    "        for i in response.find_all('div', attrs={'class': 'h4 mb-0 text-start'}): \n",
    "            #print(i.text)\n",
    "            try:\n",
    "                cleaned_string = int(re.sub(r'[.,€\\s]', '', i.text))/100\n",
    "               # print(cleaned_string)\n",
    "                #truck_offer.append(cleaned_string)  \n",
    "            except:\n",
    "                cleaned_string=0 \n",
    "            truck_offer.append(cleaned_string)     \n",
    "\n",
    "\n",
    "        # Truck attributes\n",
    "        # Truck_attributes=[]\n",
    "        # c=0\n",
    "        # for i in soup.find_all('div', attrs={'class': 'position-relative ps-4'}): \n",
    "        #    print(c)\n",
    "        #    print(i.text)   \n",
    "        #    c+=1\n",
    "       # for x in range(len(responses)):\n",
    "\n",
    "        for i in response.find_all('h3', attrs={'class': 'card-title mb-0'}): \n",
    "               # t=response.find('div', attrs={'class': 'd-flex flex-wrap gap-3 justify-content-md-evenly'})\n",
    "               # regex_pick_up=re.search('From:(.*)According',t.text).group(1).replace(\" \\xa0 \",'').strip()\n",
    "               # pick_up.append(regex_pick_up)\n",
    "               # regex_drop_off=re.search('According to:(.*)',t.text).group(1).replace(\" \\xa0 \",'').strip() \n",
    "               # drop_off.append(regex_drop_off)\n",
    "             #  print(consolidated_df['quote_id'][x])\n",
    "               quote_id.append(consolidated_df['quote_id'][x]) \n",
    "                #pick_up.append(df['pick_up_address'][x])\n",
    "                #drop_off.append(df['drop_off_address'][x])\n",
    "        x+=1   \n",
    "\n",
    "        # print('quote length: '+str(len(quote_id)))\n",
    "        # print('truck type length: '+str(len(truck_type)))\n",
    "        # print('truck type length: '+str(len(truck_offer)))\n",
    "\n",
    "    df_response_extracted= pd.DataFrame(zip(quote_id,truck_type, truck_offer), columns=['quote_id', 'truck_type','truck_offer'])\n",
    "    df_response_extracted=df_response_extracted.pivot_table(values='truck_offer', index=['quote_id'], columns=['truck_type']).reset_index()\n",
    "    final_df = pd.merge(consolidated_df, df_response_extracted, on='quote_id', how='left')\n",
    "\n",
    "    final_df.to_csv(export_filename, index=False)\n",
    "\n",
    "    print(f\"Consolidated data exported to: {export_filename}\")\n",
    "\n",
    "    # Specify the filepath where the files are located\n",
    "    #filepath = r'/Users/juan.verdeguer/Desktop/python/webscraper/pricing/20230510/' \n",
    "\n",
    "# Call the function to consolidate the files\n",
    "\n",
    "\n",
    "\n",
    "\n"
   ]
  },
  {
   "cell_type": "code",
   "execution_count": 63,
   "id": "a9bc7aeb-807a-4187-8ceb-2ce72e9664d9",
   "metadata": {},
   "outputs": [
    {
     "name": "stdout",
     "output_type": "stream",
     "text": [
      "Consolidated data exported to: consolidated_data_2023-05-15.csv\n"
     ]
    }
   ],
   "source": [
    "\n",
    "filepath = r'/Users/juan.verdeguer/Desktop/python/webscraper/pricing/20230515/' \n",
    "\n",
    "\n",
    "consolidate_files(filepath)\n"
   ]
  },
  {
   "cell_type": "markdown",
   "id": "8bec10d5-47d2-4912-a3d8-00eca91721a3",
   "metadata": {},
   "source": [
    "4. Read and merge csv export"
   ]
  },
  {
   "cell_type": "code",
   "execution_count": 10,
   "id": "55a1a598-5d72-45b9-8606-20d3184c70e9",
   "metadata": {},
   "outputs": [
    {
     "name": "stdout",
     "output_type": "stream",
     "text": [
      "436.25 € \n",
      "436.25\n",
      "495.00 € \n",
      "495.0\n",
      "638.94 € \n",
      "638.94\n",
      "861.89 € \n",
      "861.89\n",
      "919.69 € \n",
      "919.69\n"
     ]
    }
   ],
   "source": [
    "# Read and caa\n",
    "read_file_df_2023_05_15= pd.read_csv(r'/Users/juan.verdeguer/Desktop/python/webscraper/pricing/consolidated_data_2023-05-15.csv')\n",
    "read_file_df_2023_05_12= pd.read_csv(r'/Users/juan.verdeguer/Desktop/python/webscraper/pricing/consolidated_data_2023-05-12.csv')\n",
    "\n",
    "\n",
    "\n",
    "df_concatenate=pd.concat([read_file_df_2023_05_15, read_file_df_2023_05_12],ignore_index=True).drop_duplicates()\n",
    "\n",
    "df_concatenate.to_csv('2023_05_12_and_15.csv', index=False)\n",
    "\n",
    "\n",
    "truck_offer=[]\n",
    "x=0\n",
    "for number,response in enumerate(df_concatenate['response'][0:1]):\n",
    "    response=BeautifulSoup(response, 'html.parser')\n",
    "   # print(response)\n",
    "    \n",
    "    for i in response.find_all('div', attrs={'class': 'h4 mb-0 text-start'}): \n",
    "          #  print(i.text)\n",
    "          #  print(response.find_all('div', attrs={'class': 'h4 mb-0 text-start'}))\n",
    "            try:\n",
    "                print(i.text)\n",
    "                cleaned_string = int(re.sub(r'[.,€\\s]', '', i.text))/100\n",
    "                print(cleaned_string)\n",
    "                #truck_offer.append(cleaned_string)  \n",
    "            except:\n",
    "            \n",
    "                cleaned_string=0 \n",
    "            truck_offer.append(cleaned_string)    \n"
   ]
  },
  {
   "cell_type": "markdown",
   "id": "0d744d6c-144d-4d4d-bd09-8f0f874e4726",
   "metadata": {},
   "source": [
    "5.Merge response and quote funnel"
   ]
  },
  {
   "cell_type": "code",
   "execution_count": 11,
   "id": "7c8a9d07-da49-4c0e-9b36-ec3011456a6f",
   "metadata": {},
   "outputs": [
    {
     "data": {
      "text/html": [
       "<div>\n",
       "<style scoped>\n",
       "    .dataframe tbody tr th:only-of-type {\n",
       "        vertical-align: middle;\n",
       "    }\n",
       "\n",
       "    .dataframe tbody tr th {\n",
       "        vertical-align: top;\n",
       "    }\n",
       "\n",
       "    .dataframe thead th {\n",
       "        text-align: right;\n",
       "    }\n",
       "</style>\n",
       "<table border=\"1\" class=\"dataframe\">\n",
       "  <thead>\n",
       "    <tr style=\"text-align: right;\">\n",
       "      <th></th>\n",
       "      <th>shipment_id</th>\n",
       "      <th>quote_id</th>\n",
       "      <th>created_at</th>\n",
       "      <th>fulfilment_strategy</th>\n",
       "      <th>price</th>\n",
       "      <th>transport_base</th>\n",
       "      <th>transport_locationpair</th>\n",
       "      <th>transport_seasonal</th>\n",
       "      <th>pick_up_address</th>\n",
       "      <th>drop_off_address</th>\n",
       "      <th>name</th>\n",
       "      <th>flag_conversion</th>\n",
       "      <th>truck_type</th>\n",
       "      <th>pick_up</th>\n",
       "      <th>drop_off</th>\n",
       "      <th>response</th>\n",
       "      <th>Semitrailer 40t</th>\n",
       "      <th>Tarp Sprinter</th>\n",
       "      <th>Tarpaulin Sprinter XXL</th>\n",
       "      <th>Truck 12t</th>\n",
       "      <th>Truck 7.5t</th>\n",
       "    </tr>\n",
       "  </thead>\n",
       "  <tbody>\n",
       "    <tr>\n",
       "      <th>0</th>\n",
       "      <td>NaN</td>\n",
       "      <td>374808</td>\n",
       "      <td>2023-05-12 16:22:35+00:00</td>\n",
       "      <td>None</td>\n",
       "      <td>653.0000000000000000</td>\n",
       "      <td>611.5800000000000000</td>\n",
       "      <td>-159.0100000000000000</td>\n",
       "      <td>200.0000000000000000</td>\n",
       "      <td>DE 96317</td>\n",
       "      <td>BE 4460</td>\n",
       "      <td>None</td>\n",
       "      <td>0</td>\n",
       "      <td>None</td>\n",
       "      <td>DE 96317</td>\n",
       "      <td>BE 4460</td>\n",
       "      <td>&lt;div class=\"container-fluid ps-0 pe-0\"&gt;&lt;div cl...</td>\n",
       "      <td>1247.16</td>\n",
       "      <td>529.43</td>\n",
       "      <td>582.30</td>\n",
       "      <td>1135.79</td>\n",
       "      <td>839.86</td>\n",
       "    </tr>\n",
       "    <tr>\n",
       "      <th>1</th>\n",
       "      <td>335182.0</td>\n",
       "      <td>374807</td>\n",
       "      <td>2023-05-12 14:53:41+00:00</td>\n",
       "      <td>fullTruck</td>\n",
       "      <td>415.0000000000000000</td>\n",
       "      <td>334.8000000000000000</td>\n",
       "      <td>46.8700000000000000</td>\n",
       "      <td>33.4800000000000000</td>\n",
       "      <td>BE 2830</td>\n",
       "      <td>FR 57430</td>\n",
       "      <td>Milliken Europe bv.</td>\n",
       "      <td>1</td>\n",
       "      <td>Tarp Sprinter</td>\n",
       "      <td>BE 2830</td>\n",
       "      <td>FR 57430</td>\n",
       "      <td>&lt;div class=\"container-fluid ps-0 pe-0\"&gt;&lt;div cl...</td>\n",
       "      <td>0.00</td>\n",
       "      <td>395.12</td>\n",
       "      <td>448.00</td>\n",
       "      <td>785.81</td>\n",
       "      <td>583.12</td>\n",
       "    </tr>\n",
       "    <tr>\n",
       "      <th>2</th>\n",
       "      <td>335170.0</td>\n",
       "      <td>374805</td>\n",
       "      <td>2023-05-12 14:51:10+00:00</td>\n",
       "      <td>fullTruck</td>\n",
       "      <td>835.0000000000000000</td>\n",
       "      <td>802.4400000000000000</td>\n",
       "      <td>-48.1400000000000000</td>\n",
       "      <td>80.2400000000000000</td>\n",
       "      <td>BE 8830</td>\n",
       "      <td>DE 63741</td>\n",
       "      <td>Rainer Bartsch GmbHInternationale Spedition</td>\n",
       "      <td>1</td>\n",
       "      <td>Semitrailer 40t</td>\n",
       "      <td>BE 8830</td>\n",
       "      <td>DE 63741</td>\n",
       "      <td>&lt;div class=\"container-fluid ps-0 pe-0\"&gt;&lt;div cl...</td>\n",
       "      <td>1066.90</td>\n",
       "      <td>529.43</td>\n",
       "      <td>582.30</td>\n",
       "      <td>1135.79</td>\n",
       "      <td>839.86</td>\n",
       "    </tr>\n",
       "    <tr>\n",
       "      <th>3</th>\n",
       "      <td>NaN</td>\n",
       "      <td>374804</td>\n",
       "      <td>2023-05-12 14:51:09+00:00</td>\n",
       "      <td>None</td>\n",
       "      <td>835.0000000000000000</td>\n",
       "      <td>802.4400000000000000</td>\n",
       "      <td>-48.1400000000000000</td>\n",
       "      <td>80.2400000000000000</td>\n",
       "      <td>BE 8830</td>\n",
       "      <td>DE 63741</td>\n",
       "      <td>None</td>\n",
       "      <td>0</td>\n",
       "      <td>Semitrailer 40t</td>\n",
       "      <td>BE 8830</td>\n",
       "      <td>DE 63741</td>\n",
       "      <td>&lt;div class=\"container-fluid ps-0 pe-0\"&gt;&lt;div cl...</td>\n",
       "      <td>1066.90</td>\n",
       "      <td>529.43</td>\n",
       "      <td>582.30</td>\n",
       "      <td>1135.79</td>\n",
       "      <td>839.86</td>\n",
       "    </tr>\n",
       "    <tr>\n",
       "      <th>4</th>\n",
       "      <td>335154.0</td>\n",
       "      <td>374803</td>\n",
       "      <td>2023-05-12 14:24:23+00:00</td>\n",
       "      <td>fullTruck</td>\n",
       "      <td>481.0000000000000000</td>\n",
       "      <td>453.7400000000000000</td>\n",
       "      <td>-18.1400000000000000</td>\n",
       "      <td>45.3700000000000000</td>\n",
       "      <td>FR 08430</td>\n",
       "      <td>BE 2800</td>\n",
       "      <td>TRANSALLIANCE EUROPE DUDELANGE</td>\n",
       "      <td>1</td>\n",
       "      <td>Semitrailer 40t</td>\n",
       "      <td>FR 08430</td>\n",
       "      <td>BE 2800</td>\n",
       "      <td>&lt;div class=\"container-fluid ps-0 pe-0\"&gt;&lt;div cl...</td>\n",
       "      <td>0.00</td>\n",
       "      <td>289.38</td>\n",
       "      <td>342.25</td>\n",
       "      <td>709.73</td>\n",
       "      <td>527.31</td>\n",
       "    </tr>\n",
       "    <tr>\n",
       "      <th>...</th>\n",
       "      <td>...</td>\n",
       "      <td>...</td>\n",
       "      <td>...</td>\n",
       "      <td>...</td>\n",
       "      <td>...</td>\n",
       "      <td>...</td>\n",
       "      <td>...</td>\n",
       "      <td>...</td>\n",
       "      <td>...</td>\n",
       "      <td>...</td>\n",
       "      <td>...</td>\n",
       "      <td>...</td>\n",
       "      <td>...</td>\n",
       "      <td>...</td>\n",
       "      <td>...</td>\n",
       "      <td>...</td>\n",
       "      <td>...</td>\n",
       "      <td>...</td>\n",
       "      <td>...</td>\n",
       "      <td>...</td>\n",
       "      <td>...</td>\n",
       "    </tr>\n",
       "    <tr>\n",
       "      <th>421</th>\n",
       "      <td>NaN</td>\n",
       "      <td>374201</td>\n",
       "      <td>2023-05-08 06:52:59+00:00</td>\n",
       "      <td>None</td>\n",
       "      <td>760.0000000000000000</td>\n",
       "      <td>649.8100000000000000</td>\n",
       "      <td>45.4800000000000000</td>\n",
       "      <td>64.9800000000000000</td>\n",
       "      <td>DE 48346</td>\n",
       "      <td>DE 66663</td>\n",
       "      <td>None</td>\n",
       "      <td>0</td>\n",
       "      <td>Semitrailer 40t</td>\n",
       "      <td>DE 48346</td>\n",
       "      <td>DE 66663</td>\n",
       "      <td>&lt;div class=\"container-fluid ps-0 pe-0\"&gt;&lt;div cl...</td>\n",
       "      <td>1058.55</td>\n",
       "      <td>441.75</td>\n",
       "      <td>500.50</td>\n",
       "      <td>791.31</td>\n",
       "      <td>588.62</td>\n",
       "    </tr>\n",
       "    <tr>\n",
       "      <th>422</th>\n",
       "      <td>333908.0</td>\n",
       "      <td>374200</td>\n",
       "      <td>2023-05-08 06:31:46+00:00</td>\n",
       "      <td>fullTruck</td>\n",
       "      <td>757.1500000000000000</td>\n",
       "      <td>594.5600000000000000</td>\n",
       "      <td>83.2300000000000000</td>\n",
       "      <td>59.4600000000000000</td>\n",
       "      <td>BE 3600</td>\n",
       "      <td>FR 57740</td>\n",
       "      <td>KUEHNE+NAGEL Sàrl</td>\n",
       "      <td>1</td>\n",
       "      <td>Semitrailer 40t</td>\n",
       "      <td>BE 3600</td>\n",
       "      <td>FR 57740</td>\n",
       "      <td>&lt;div class=\"container-fluid ps-0 pe-0\"&gt;&lt;div cl...</td>\n",
       "      <td>0.00</td>\n",
       "      <td>395.12</td>\n",
       "      <td>448.00</td>\n",
       "      <td>785.81</td>\n",
       "      <td>583.12</td>\n",
       "    </tr>\n",
       "    <tr>\n",
       "      <th>423</th>\n",
       "      <td>NaN</td>\n",
       "      <td>374199</td>\n",
       "      <td>2023-05-08 06:06:56+00:00</td>\n",
       "      <td>None</td>\n",
       "      <td>851.0000000000000000</td>\n",
       "      <td>693.4400000000000000</td>\n",
       "      <td>27.7300000000000000</td>\n",
       "      <td>69.3400000000000000</td>\n",
       "      <td>DE 81925</td>\n",
       "      <td>DE 10115</td>\n",
       "      <td>None</td>\n",
       "      <td>0</td>\n",
       "      <td>Truck 7.5t</td>\n",
       "      <td>DE 81925</td>\n",
       "      <td>DE 10115</td>\n",
       "      <td>&lt;div class=\"container-fluid ps-0 pe-0\"&gt;&lt;div cl...</td>\n",
       "      <td>936.75</td>\n",
       "      <td>534.93</td>\n",
       "      <td>587.80</td>\n",
       "      <td>1141.29</td>\n",
       "      <td>845.36</td>\n",
       "    </tr>\n",
       "    <tr>\n",
       "      <th>424</th>\n",
       "      <td>NaN</td>\n",
       "      <td>374198</td>\n",
       "      <td>2023-05-08 06:06:28+00:00</td>\n",
       "      <td>None</td>\n",
       "      <td>791.0000000000000000</td>\n",
       "      <td>693.4400000000000000</td>\n",
       "      <td>27.7300000000000000</td>\n",
       "      <td>69.3400000000000000</td>\n",
       "      <td>Lohengrinstraße 31, 81925 München, DE</td>\n",
       "      <td>Torstraße 205, 10115 Berlin, DE</td>\n",
       "      <td>None</td>\n",
       "      <td>0</td>\n",
       "      <td>Truck 7.5t</td>\n",
       "      <td>Lohengrinstraße 31, 81925 München, DE</td>\n",
       "      <td>Torstraße 205, 10115 Berlin, DE</td>\n",
       "      <td>failed_response</td>\n",
       "      <td>NaN</td>\n",
       "      <td>NaN</td>\n",
       "      <td>NaN</td>\n",
       "      <td>NaN</td>\n",
       "      <td>NaN</td>\n",
       "    </tr>\n",
       "    <tr>\n",
       "      <th>425</th>\n",
       "      <td>NaN</td>\n",
       "      <td>374197</td>\n",
       "      <td>2023-05-08 06:06:18+00:00</td>\n",
       "      <td>None</td>\n",
       "      <td>791.0000000000000000</td>\n",
       "      <td>693.4400000000000000</td>\n",
       "      <td>27.7300000000000000</td>\n",
       "      <td>69.3400000000000000</td>\n",
       "      <td>DE 81925</td>\n",
       "      <td>DE 10115</td>\n",
       "      <td>None</td>\n",
       "      <td>0</td>\n",
       "      <td>Truck 7.5t</td>\n",
       "      <td>DE 81925</td>\n",
       "      <td>DE 10115</td>\n",
       "      <td>&lt;div class=\"container-fluid ps-0 pe-0\"&gt;&lt;div cl...</td>\n",
       "      <td>936.75</td>\n",
       "      <td>534.93</td>\n",
       "      <td>587.80</td>\n",
       "      <td>1141.29</td>\n",
       "      <td>845.36</td>\n",
       "    </tr>\n",
       "  </tbody>\n",
       "</table>\n",
       "<p>426 rows × 21 columns</p>\n",
       "</div>"
      ],
      "text/plain": [
       "     shipment_id  quote_id                created_at fulfilment_strategy  \\\n",
       "0            NaN    374808 2023-05-12 16:22:35+00:00                None   \n",
       "1       335182.0    374807 2023-05-12 14:53:41+00:00           fullTruck   \n",
       "2       335170.0    374805 2023-05-12 14:51:10+00:00           fullTruck   \n",
       "3            NaN    374804 2023-05-12 14:51:09+00:00                None   \n",
       "4       335154.0    374803 2023-05-12 14:24:23+00:00           fullTruck   \n",
       "..           ...       ...                       ...                 ...   \n",
       "421          NaN    374201 2023-05-08 06:52:59+00:00                None   \n",
       "422     333908.0    374200 2023-05-08 06:31:46+00:00           fullTruck   \n",
       "423          NaN    374199 2023-05-08 06:06:56+00:00                None   \n",
       "424          NaN    374198 2023-05-08 06:06:28+00:00                None   \n",
       "425          NaN    374197 2023-05-08 06:06:18+00:00                None   \n",
       "\n",
       "                    price        transport_base transport_locationpair  \\\n",
       "0    653.0000000000000000  611.5800000000000000  -159.0100000000000000   \n",
       "1    415.0000000000000000  334.8000000000000000    46.8700000000000000   \n",
       "2    835.0000000000000000  802.4400000000000000   -48.1400000000000000   \n",
       "3    835.0000000000000000  802.4400000000000000   -48.1400000000000000   \n",
       "4    481.0000000000000000  453.7400000000000000   -18.1400000000000000   \n",
       "..                    ...                   ...                    ...   \n",
       "421  760.0000000000000000  649.8100000000000000    45.4800000000000000   \n",
       "422  757.1500000000000000  594.5600000000000000    83.2300000000000000   \n",
       "423  851.0000000000000000  693.4400000000000000    27.7300000000000000   \n",
       "424  791.0000000000000000  693.4400000000000000    27.7300000000000000   \n",
       "425  791.0000000000000000  693.4400000000000000    27.7300000000000000   \n",
       "\n",
       "       transport_seasonal                        pick_up_address  \\\n",
       "0    200.0000000000000000                               DE 96317   \n",
       "1     33.4800000000000000                                BE 2830   \n",
       "2     80.2400000000000000                                BE 8830   \n",
       "3     80.2400000000000000                                BE 8830   \n",
       "4     45.3700000000000000                               FR 08430   \n",
       "..                    ...                                    ...   \n",
       "421   64.9800000000000000                               DE 48346   \n",
       "422   59.4600000000000000                                BE 3600   \n",
       "423   69.3400000000000000                               DE 81925   \n",
       "424   69.3400000000000000  Lohengrinstraße 31, 81925 München, DE   \n",
       "425   69.3400000000000000                               DE 81925   \n",
       "\n",
       "                    drop_off_address  \\\n",
       "0                            BE 4460   \n",
       "1                           FR 57430   \n",
       "2                           DE 63741   \n",
       "3                           DE 63741   \n",
       "4                            BE 2800   \n",
       "..                               ...   \n",
       "421                         DE 66663   \n",
       "422                         FR 57740   \n",
       "423                         DE 10115   \n",
       "424  Torstraße 205, 10115 Berlin, DE   \n",
       "425                         DE 10115   \n",
       "\n",
       "                                            name  flag_conversion  \\\n",
       "0                                           None                0   \n",
       "1                            Milliken Europe bv.                1   \n",
       "2    Rainer Bartsch GmbHInternationale Spedition                1   \n",
       "3                                           None                0   \n",
       "4                 TRANSALLIANCE EUROPE DUDELANGE                1   \n",
       "..                                           ...              ...   \n",
       "421                                         None                0   \n",
       "422                            KUEHNE+NAGEL Sàrl                1   \n",
       "423                                         None                0   \n",
       "424                                         None                0   \n",
       "425                                         None                0   \n",
       "\n",
       "          truck_type                                pick_up  \\\n",
       "0               None                               DE 96317   \n",
       "1      Tarp Sprinter                                BE 2830   \n",
       "2    Semitrailer 40t                                BE 8830   \n",
       "3    Semitrailer 40t                                BE 8830   \n",
       "4    Semitrailer 40t                               FR 08430   \n",
       "..               ...                                    ...   \n",
       "421  Semitrailer 40t                               DE 48346   \n",
       "422  Semitrailer 40t                                BE 3600   \n",
       "423       Truck 7.5t                               DE 81925   \n",
       "424       Truck 7.5t  Lohengrinstraße 31, 81925 München, DE   \n",
       "425       Truck 7.5t                               DE 81925   \n",
       "\n",
       "                            drop_off  \\\n",
       "0                            BE 4460   \n",
       "1                           FR 57430   \n",
       "2                           DE 63741   \n",
       "3                           DE 63741   \n",
       "4                            BE 2800   \n",
       "..                               ...   \n",
       "421                         DE 66663   \n",
       "422                         FR 57740   \n",
       "423                         DE 10115   \n",
       "424  Torstraße 205, 10115 Berlin, DE   \n",
       "425                         DE 10115   \n",
       "\n",
       "                                              response  Semitrailer 40t  \\\n",
       "0    <div class=\"container-fluid ps-0 pe-0\"><div cl...          1247.16   \n",
       "1    <div class=\"container-fluid ps-0 pe-0\"><div cl...             0.00   \n",
       "2    <div class=\"container-fluid ps-0 pe-0\"><div cl...          1066.90   \n",
       "3    <div class=\"container-fluid ps-0 pe-0\"><div cl...          1066.90   \n",
       "4    <div class=\"container-fluid ps-0 pe-0\"><div cl...             0.00   \n",
       "..                                                 ...              ...   \n",
       "421  <div class=\"container-fluid ps-0 pe-0\"><div cl...          1058.55   \n",
       "422  <div class=\"container-fluid ps-0 pe-0\"><div cl...             0.00   \n",
       "423  <div class=\"container-fluid ps-0 pe-0\"><div cl...           936.75   \n",
       "424                                    failed_response              NaN   \n",
       "425  <div class=\"container-fluid ps-0 pe-0\"><div cl...           936.75   \n",
       "\n",
       "     Tarp Sprinter  Tarpaulin Sprinter XXL  Truck 12t  Truck 7.5t  \n",
       "0           529.43                  582.30    1135.79      839.86  \n",
       "1           395.12                  448.00     785.81      583.12  \n",
       "2           529.43                  582.30    1135.79      839.86  \n",
       "3           529.43                  582.30    1135.79      839.86  \n",
       "4           289.38                  342.25     709.73      527.31  \n",
       "..             ...                     ...        ...         ...  \n",
       "421         441.75                  500.50     791.31      588.62  \n",
       "422         395.12                  448.00     785.81      583.12  \n",
       "423         534.93                  587.80    1141.29      845.36  \n",
       "424            NaN                     NaN        NaN         NaN  \n",
       "425         534.93                  587.80    1141.29      845.36  \n",
       "\n",
       "[426 rows x 21 columns]"
      ]
     },
     "execution_count": 11,
     "metadata": {},
     "output_type": "execute_result"
    }
   ],
   "source": [
    "final_df = pd.merge(df, df_concatenate, on='quote_id', how='left')\n",
    "final_df"
   ]
  },
  {
   "cell_type": "code",
   "execution_count": 163,
   "id": "51f1c36b-16cf-482f-99ea-6202ec716e84",
   "metadata": {},
   "outputs": [],
   "source": [
    "# test=df['response'][1:2].item()\n",
    "# individual_offer=BeautifulSoup(test, 'html.parser') \n",
    "# individual_offer.find_all('div', attrs={'class': 'h4 mb-0 text-start'}) \n",
    "# individual_offer\n"
   ]
  },
  {
   "cell_type": "code",
   "execution_count": 30,
   "id": "e8c012e3-b25f-4b1b-b6b8-eb6363bd1403",
   "metadata": {},
   "outputs": [
    {
     "data": {
      "text/html": [
       "<div>\n",
       "<style scoped>\n",
       "    .dataframe tbody tr th:only-of-type {\n",
       "        vertical-align: middle;\n",
       "    }\n",
       "\n",
       "    .dataframe tbody tr th {\n",
       "        vertical-align: top;\n",
       "    }\n",
       "\n",
       "    .dataframe thead th {\n",
       "        text-align: right;\n",
       "    }\n",
       "</style>\n",
       "<table border=\"1\" class=\"dataframe\">\n",
       "  <thead>\n",
       "    <tr style=\"text-align: right;\">\n",
       "      <th></th>\n",
       "      <th>shipment_id</th>\n",
       "      <th>quote_id</th>\n",
       "      <th>created_at</th>\n",
       "      <th>fulfilment_strategy</th>\n",
       "      <th>price</th>\n",
       "      <th>transport_base</th>\n",
       "      <th>transport_locationpair</th>\n",
       "      <th>transport_seasonal</th>\n",
       "      <th>pick_up_address</th>\n",
       "      <th>drop_off_address</th>\n",
       "      <th>name</th>\n",
       "      <th>truck_type</th>\n",
       "    </tr>\n",
       "  </thead>\n",
       "  <tbody>\n",
       "    <tr>\n",
       "      <th>0</th>\n",
       "      <td>NaN</td>\n",
       "      <td>374808</td>\n",
       "      <td>2023-05-12 16:22:35+00:00</td>\n",
       "      <td>None</td>\n",
       "      <td>653.0000000000000000</td>\n",
       "      <td>611.5800000000000000</td>\n",
       "      <td>-159.0100000000000000</td>\n",
       "      <td>200.0000000000000000</td>\n",
       "      <td>DE 96317</td>\n",
       "      <td>BE 4460</td>\n",
       "      <td>None</td>\n",
       "      <td></td>\n",
       "    </tr>\n",
       "    <tr>\n",
       "      <th>1</th>\n",
       "      <td>335182.0</td>\n",
       "      <td>374807</td>\n",
       "      <td>2023-05-12 14:53:41+00:00</td>\n",
       "      <td>fullTruck</td>\n",
       "      <td>415.0000000000000000</td>\n",
       "      <td>334.8000000000000000</td>\n",
       "      <td>46.8700000000000000</td>\n",
       "      <td>33.4800000000000000</td>\n",
       "      <td>BE 2830</td>\n",
       "      <td>FR 57430</td>\n",
       "      <td>Milliken Europe bv.</td>\n",
       "      <td>sprinter</td>\n",
       "    </tr>\n",
       "    <tr>\n",
       "      <th>2</th>\n",
       "      <td>335170.0</td>\n",
       "      <td>374805</td>\n",
       "      <td>2023-05-12 14:51:10+00:00</td>\n",
       "      <td>fullTruck</td>\n",
       "      <td>835.0000000000000000</td>\n",
       "      <td>802.4400000000000000</td>\n",
       "      <td>-48.1400000000000000</td>\n",
       "      <td>80.2400000000000000</td>\n",
       "      <td>BE 8830</td>\n",
       "      <td>DE 63741</td>\n",
       "      <td>Rainer Bartsch GmbHInternationale Spedition</td>\n",
       "      <td>Semitrailer 40t</td>\n",
       "    </tr>\n",
       "    <tr>\n",
       "      <th>3</th>\n",
       "      <td>NaN</td>\n",
       "      <td>374804</td>\n",
       "      <td>2023-05-12 14:51:09+00:00</td>\n",
       "      <td>None</td>\n",
       "      <td>835.0000000000000000</td>\n",
       "      <td>802.4400000000000000</td>\n",
       "      <td>-48.1400000000000000</td>\n",
       "      <td>80.2400000000000000</td>\n",
       "      <td>BE 8830</td>\n",
       "      <td>DE 63741</td>\n",
       "      <td>None</td>\n",
       "      <td>Semitrailer 40t</td>\n",
       "    </tr>\n",
       "    <tr>\n",
       "      <th>4</th>\n",
       "      <td>335154.0</td>\n",
       "      <td>374803</td>\n",
       "      <td>2023-05-12 14:24:23+00:00</td>\n",
       "      <td>fullTruck</td>\n",
       "      <td>481.0000000000000000</td>\n",
       "      <td>453.7400000000000000</td>\n",
       "      <td>-18.1400000000000000</td>\n",
       "      <td>45.3700000000000000</td>\n",
       "      <td>FR 08430</td>\n",
       "      <td>BE 2800</td>\n",
       "      <td>TRANSALLIANCE EUROPE DUDELANGE</td>\n",
       "      <td>Semitrailer 40t</td>\n",
       "    </tr>\n",
       "    <tr>\n",
       "      <th>5</th>\n",
       "      <td>NaN</td>\n",
       "      <td>374802</td>\n",
       "      <td>2023-05-12 14:18:08+00:00</td>\n",
       "      <td>None</td>\n",
       "      <td>994.0000000000000000</td>\n",
       "      <td>871.7600000000000000</td>\n",
       "      <td>34.8700000000000000</td>\n",
       "      <td>87.1800000000000000</td>\n",
       "      <td>DE 53881</td>\n",
       "      <td>DE 15713</td>\n",
       "      <td>None</td>\n",
       "      <td>Semitrailer 40t</td>\n",
       "    </tr>\n",
       "    <tr>\n",
       "      <th>6</th>\n",
       "      <td>335153.0</td>\n",
       "      <td>374801</td>\n",
       "      <td>2023-05-12 14:16:19+00:00</td>\n",
       "      <td>fullTruck</td>\n",
       "      <td>469.0000000000000000</td>\n",
       "      <td>442.5000000000000000</td>\n",
       "      <td>-17.7000000000000000</td>\n",
       "      <td>44.2500000000000000</td>\n",
       "      <td>FR 08430</td>\n",
       "      <td>BE 9400</td>\n",
       "      <td>TRANSALLIANCE EUROPE DUDELANGE</td>\n",
       "      <td>Semitrailer 40t</td>\n",
       "    </tr>\n",
       "    <tr>\n",
       "      <th>7</th>\n",
       "      <td>335152.0</td>\n",
       "      <td>374800</td>\n",
       "      <td>2023-05-12 14:06:30+00:00</td>\n",
       "      <td>fullTruck</td>\n",
       "      <td>518.0000000000000000</td>\n",
       "      <td>488.4500000000000000</td>\n",
       "      <td>-19.5300000000000000</td>\n",
       "      <td>48.8500000000000000</td>\n",
       "      <td>FR 08430</td>\n",
       "      <td>BE 8560</td>\n",
       "      <td>TRANSALLIANCE EUROPE DUDELANGE</td>\n",
       "      <td>Semitrailer 40t</td>\n",
       "    </tr>\n",
       "    <tr>\n",
       "      <th>8</th>\n",
       "      <td>335150.0</td>\n",
       "      <td>374799</td>\n",
       "      <td>2023-05-12 13:53:05+00:00</td>\n",
       "      <td>fullTruck</td>\n",
       "      <td>506.0000000000000000</td>\n",
       "      <td>476.8800000000000000</td>\n",
       "      <td>-19.0700000000000000</td>\n",
       "      <td>47.6900000000000000</td>\n",
       "      <td>FR 08430</td>\n",
       "      <td>BE 9100</td>\n",
       "      <td>TRANSALLIANCE EUROPE DUDELANGE</td>\n",
       "      <td>Semitrailer 40t</td>\n",
       "    </tr>\n",
       "    <tr>\n",
       "      <th>9</th>\n",
       "      <td>NaN</td>\n",
       "      <td>374798</td>\n",
       "      <td>2023-05-12 13:52:30+00:00</td>\n",
       "      <td>None</td>\n",
       "      <td>1092.0000000000000000</td>\n",
       "      <td>894.8600000000000000</td>\n",
       "      <td>107.3800000000000000</td>\n",
       "      <td>89.4900000000000000</td>\n",
       "      <td>DE 52353</td>\n",
       "      <td>DE 85664</td>\n",
       "      <td>None</td>\n",
       "      <td>Semitrailer 40t</td>\n",
       "    </tr>\n",
       "  </tbody>\n",
       "</table>\n",
       "</div>"
      ],
      "text/plain": [
       "   shipment_id  quote_id                created_at fulfilment_strategy  \\\n",
       "0          NaN    374808 2023-05-12 16:22:35+00:00                None   \n",
       "1     335182.0    374807 2023-05-12 14:53:41+00:00           fullTruck   \n",
       "2     335170.0    374805 2023-05-12 14:51:10+00:00           fullTruck   \n",
       "3          NaN    374804 2023-05-12 14:51:09+00:00                None   \n",
       "4     335154.0    374803 2023-05-12 14:24:23+00:00           fullTruck   \n",
       "5          NaN    374802 2023-05-12 14:18:08+00:00                None   \n",
       "6     335153.0    374801 2023-05-12 14:16:19+00:00           fullTruck   \n",
       "7     335152.0    374800 2023-05-12 14:06:30+00:00           fullTruck   \n",
       "8     335150.0    374799 2023-05-12 13:53:05+00:00           fullTruck   \n",
       "9          NaN    374798 2023-05-12 13:52:30+00:00                None   \n",
       "\n",
       "                   price        transport_base transport_locationpair  \\\n",
       "0   653.0000000000000000  611.5800000000000000  -159.0100000000000000   \n",
       "1   415.0000000000000000  334.8000000000000000    46.8700000000000000   \n",
       "2   835.0000000000000000  802.4400000000000000   -48.1400000000000000   \n",
       "3   835.0000000000000000  802.4400000000000000   -48.1400000000000000   \n",
       "4   481.0000000000000000  453.7400000000000000   -18.1400000000000000   \n",
       "5   994.0000000000000000  871.7600000000000000    34.8700000000000000   \n",
       "6   469.0000000000000000  442.5000000000000000   -17.7000000000000000   \n",
       "7   518.0000000000000000  488.4500000000000000   -19.5300000000000000   \n",
       "8   506.0000000000000000  476.8800000000000000   -19.0700000000000000   \n",
       "9  1092.0000000000000000  894.8600000000000000   107.3800000000000000   \n",
       "\n",
       "     transport_seasonal pick_up_address drop_off_address  \\\n",
       "0  200.0000000000000000        DE 96317          BE 4460   \n",
       "1   33.4800000000000000         BE 2830         FR 57430   \n",
       "2   80.2400000000000000         BE 8830         DE 63741   \n",
       "3   80.2400000000000000         BE 8830         DE 63741   \n",
       "4   45.3700000000000000        FR 08430          BE 2800   \n",
       "5   87.1800000000000000        DE 53881         DE 15713   \n",
       "6   44.2500000000000000        FR 08430          BE 9400   \n",
       "7   48.8500000000000000        FR 08430          BE 8560   \n",
       "8   47.6900000000000000        FR 08430          BE 9100   \n",
       "9   89.4900000000000000        DE 52353         DE 85664   \n",
       "\n",
       "                                          name       truck_type  \n",
       "0                                         None                   \n",
       "1                          Milliken Europe bv.         sprinter  \n",
       "2  Rainer Bartsch GmbHInternationale Spedition  Semitrailer 40t  \n",
       "3                                         None  Semitrailer 40t  \n",
       "4               TRANSALLIANCE EUROPE DUDELANGE  Semitrailer 40t  \n",
       "5                                         None  Semitrailer 40t  \n",
       "6               TRANSALLIANCE EUROPE DUDELANGE  Semitrailer 40t  \n",
       "7               TRANSALLIANCE EUROPE DUDELANGE  Semitrailer 40t  \n",
       "8               TRANSALLIANCE EUROPE DUDELANGE  Semitrailer 40t  \n",
       "9                                         None  Semitrailer 40t  "
      ]
     },
     "execution_count": 30,
     "metadata": {},
     "output_type": "execute_result"
    }
   ],
   "source": [
    "cleaned_df=df.copy()\n",
    "\n",
    "cleaned_df=cleaned_df[0:10].reset_index(drop=True)\n",
    "cleaned_df"
   ]
  },
  {
   "cell_type": "code",
   "execution_count": null,
   "id": "1d7c516e-922f-4655-b9ca-a2c2e455a3c4",
   "metadata": {},
   "outputs": [],
   "source": []
  },
  {
   "cell_type": "code",
   "execution_count": 274,
   "id": "c81142bc-2b14-44e2-bde5-9de189c296a5",
   "metadata": {},
   "outputs": [],
   "source": [
    "# import asyncio\n",
    "# from bs4 import BeautifulSoup\n",
    "# from playwright.async_api import async_playwright\n",
    "# import pandas as pd\n",
    "\n",
    "\n",
    "# async def process_quote(i, quote, pick_up_, drop_off_):\n",
    "\n",
    "    \n",
    "#     folder_path = r'/Users/juan.verdeguer/Desktop/python/webscraper/pricing/20230514/'\n",
    "#     responses = []\n",
    "#     pick_up = []\n",
    "#     drop_off = []\n",
    "#     quotes_id = []\n",
    "#    # print(i)\n",
    "#     quotes_id.append(quote)\n",
    "\n",
    "#     pick_up.append(cleaned_df['pick_up_address'][i])\n",
    "#     drop_off.append(cleaned_df['drop_off_address'][i])\n",
    "\n",
    "#  #   print('from: ' + str(pick_up_) + ' to: ' + str(drop_off_))\n",
    "\n",
    "#     playwright = await async_playwright().start()\n",
    "#     browser = await playwright.chromium.launch(headless=False)\n",
    "#     context = await browser.new_context()\n",
    "#     page = await context.new_page()\n",
    "\n",
    "#     try:\n",
    "#         await page.goto(\"https://cargoboard.com/de\")\n",
    "#         await page.is_visible('button[name=\"OK\"]')\n",
    "#         await  page.wait_for_selector(\"#CybotCookiebotDialogBodyLevelButtonAccept\")\n",
    "#         await page.click(\"#CybotCookiebotDialogBodyLevelButtonAccept\")\n",
    "#         await page.query_selector('input[placeholder=\"Abholort\"]')\n",
    "#         await page.click('input[placeholder=\"Abholort\"]')\n",
    "#         await page.fill('input[placeholder=\"Abholort\"]', f'{pick_up_}')\n",
    "#         await page.click('input[placeholder=\"Zustellort\"]')\n",
    "#         await page.fill('input[placeholder=\"Zustellort\"]', f'{drop_off_}')\n",
    "#         await asyncio.sleep(2)\n",
    "#         await page.query_selector('button:has-text(\"Buchen\")')  # Selector based on button text\n",
    "#         await page.click('button:has-text(\"Buchen\")')\n",
    "#         await asyncio.sleep(3)\n",
    "#         await page.wait_for_selector('span:has-text(\"Book a whole Truck (Fast & Direct)\")')  # Selector based on element text\n",
    "#         await page.click('span:has-text(\"Book a whole Truck (Fast & Direct)\")')\n",
    "#         await asyncio.sleep(2)\n",
    "#         await page.wait_for_selector('input[type=\"text\"][id=\"locations_pickUpLocation\"]')\n",
    "#         await page.click('input[placeholder=\"Pickup: Postcode or City\"]')\n",
    "#         await page.fill('input[placeholder=\"Pickup: Postcode or City\"]', f'{pick_up_}')\n",
    "#         await asyncio.sleep(2)\n",
    "#         await page.wait_for_selector('input[type=\"text\"][id=\"locations_deliveryLocation\"]')  \n",
    "#         await page.click('input[placeholder=\"Delivery: Postcode or City\"]')\n",
    "#         await page.fill('input[placeholder=\"Delivery: Postcode or City\"]', f'{drop_off_}')\n",
    "#       #  print(\"click\")\n",
    "        \n",
    "#         await asyncio.sleep(3)\n",
    "#       #  print(\"Calculate\")\n",
    "      \n",
    "#         await asyncio.sleep(3)\n",
    "        \n",
    "        \n",
    "#         try:\n",
    "#             await page.locator(\"#page-content > div:nth-child(4) > div\").click()\n",
    "#             await page.get_by_role(\"button\", name=\"Calculate transport price now\").click(force=True)\n",
    "#             await page.locator(\"#van div\").filter(has_text=\"Calculate transport price now\").nth(1).click()\n",
    "        \n",
    "#         except Exception:\n",
    "            \n",
    "#         #await page.wait_for_selector('span:has-text(\"Book a whole Truck (Fast & Direct)\")')\n",
    "#         #await page.wait_for_selector(\"button\", name=\"Calculate transport price now\").click()\n",
    "#           try:\n",
    "#             await page.wait_for_selector('button[type=\"submit\"][name=\"charges\"].acquisition-submit')\n",
    "#             await page.click('button[type=\"submit\"][name=\"charges\"].acquisition-submit')\n",
    "            \n",
    "  \n",
    "#        # await  page.get_by_role(\"button\", name=\"Calculate transport price now\").click(force=True)\n",
    "#           except Exception:\n",
    "#                 print('exception')\n",
    "#                 print('error' 'from: ' + str(pick_up_) + ' to: ' + str(drop_off_))\n",
    "#                 file_name = f'{quote}.csv'\n",
    "#                 file_path = folder_path + file_name\n",
    "#                 data = {'quote_id': quote, 'pick_up': pick_up_, 'drop_off': drop_off_, 'response': 'failed_response'}\n",
    "#                 response = pd.DataFrame([data])\n",
    "#                 response.to_csv(file_path, index=False)\n",
    "#                 await page.close()\n",
    "#                 await browser.close()\n",
    "\n",
    "#         await asyncio.sleep(3)\n",
    "#         # await page.wait_for_selector(\"button.btn-close\")\n",
    "#         # await page.click(\"button.btn-close\")\n",
    "#         # await page.is_visible('div.card h-100')\n",
    "#         #print(\"save content\")\n",
    "#         html = await page.inner_html('#content')\n",
    "#         soup = BeautifulSoup(html, 'html.parser')\n",
    "#         responses.append(soup)\n",
    "#         file_name = f'{quote}.csv'\n",
    "#         file_path = folder_path + file_name\n",
    "#         data = {'quote_id': quote, 'pick_up': pick_up_, 'drop_off': drop_off_, 'response': soup}\n",
    "#         response = pd.DataFrame([data])\n",
    "#         response.to_csv(file_path, index=False)\n",
    "#         await page.close()\n",
    "#         await browser.close()\n",
    "#     except Exception:\n",
    "#                 print('exception')\n",
    "#                 print('error' 'from: ' + str(pick_up_) + ' to: ' + str(drop_off_))\n",
    "#                 file_name = f'{quote}.csv'\n",
    "#                 file_path = folder_path + file_name\n",
    "#                 data = {'quote_id': quote, 'pick_up': pick_up_, 'drop_off': drop_off_, 'response': 'failed_response'}\n",
    "#                 response = pd.DataFrame([data])\n",
    "#                 response.to_csv(file_path, index=False)\n",
    "#                 await page.close()\n",
    "#                 await browser.close()\n",
    "   \n",
    "        \n",
    "\n",
    "# async def main():\n",
    "#      # Assuming you have the DataFrame 'cleaned_df' containing the data\n",
    "\n",
    "#     tasks = []\n",
    "#     batch_size = 1\n",
    "#     total_items = 1 #len(cleaned_df['pick_up_address'])\n",
    "\n",
    "#     for batch_start in tqdm(range(0, total_items, batch_size)):\n",
    "#      #   print(batch_start)\n",
    "#         batch_end = min(batch_start + batch_size, total_items)\n",
    "#      #   print(batch_end)\n",
    "#         batch = cleaned_df['pick_up_address'][batch_start:batch_end]\n",
    "\n",
    "#         for i, value in enumerate(batch):\n",
    "\n",
    "#      #   for i, value in enumerate(cleaned_df['pick_up_address'][0:100]):\n",
    "#             quote = cleaned_df['quote_id'][batch_start+i]\n",
    "#             pick_up_ = cleaned_df['pick_up_address'][batch_start+i]\n",
    "#             drop_off_ = cleaned_df['drop_off_address'][batch_start+i]\n",
    "#             task = asyncio.create_task(process_quote(i, quote, pick_up_, drop_off_))\n",
    "#             tasks.append(task)\n",
    "\n",
    "#         await asyncio.gather(*tasks)\n",
    "\n",
    "\n",
    "# # Check if an event loop is already running\n",
    "# if asyncio.get_event_loop().is_running():\n",
    "#     loop = asyncio.get_event_loop()\n",
    "#     loop.create_task(main())\n",
    "# else:\n",
    "#     asyncio.run(main())\n",
    "\n",
    "\n",
    "\n",
    "\n",
    "\n"
   ]
  },
  {
   "cell_type": "code",
   "execution_count": 34,
   "id": "7b6ca293-d930-419e-976a-1652846111b5",
   "metadata": {},
   "outputs": [],
   "source": [
    "# async def process_quote(i, quote, pick_up_, drop_off_):\n",
    "#     folder_path = r'/Users/juan.verdeguer/Desktop/python/webscraper/pricing/20230514/'\n",
    "#     responses = []\n",
    "#     pick_up = []\n",
    "#     drop_off = []\n",
    "#     quotes_id = []\n",
    "#     quotes_id.append(quote)\n",
    "#     pick_up.append(cleaned_df['pick_up_address'][i])\n",
    "#     drop_off.append(cleaned_df['drop_off_address'][i])\n",
    "#     drop_off.append(cleaned_df['drop_off_address'][i])\n",
    "\n",
    "#     playwright = await async_playwright().start()\n",
    "#     browser = await playwright.chromium.launch(headless=False)\n",
    "#     context = await browser.new_context()\n",
    "#     page = await context.new_page()\n",
    "\n",
    "#     try: \n",
    "#         await page.goto(\"https://cargoboard.com/de\")\n",
    "#         await page.is_visible('button[name=\"OK\"]')\n",
    "#         await page.wait_for_selector(\"#CybotCookiebotDialogBodyLevelButtonAccept\")\n",
    "#         await page.click(\"#CybotCookiebotDialogBodyLevelButtonAccept\")\n",
    "#         await page.query_selector('input[placeholder=\"Abholort\"]')\n",
    "#         await page.click('input[placeholder=\"Abholort\"]')\n",
    "#         await page.fill('input[placeholder=\"Abholort\"]', f'{pick_up_}')\n",
    "#         await page.click('input[placeholder=\"Zustellort\"]')\n",
    "#         await page.fill('input[placeholder=\"Zustellort\"]', f'{drop_off_}')\n",
    "#         await asyncio.sleep(2)\n",
    "#         await page.query_selector('button:has-text(\"Buchen\")')  # Selector based on button text\n",
    "#         await page.click('button:has-text(\"Buchen\")')\n",
    "#         await asyncio.sleep(3)\n",
    "#         await page.wait_for_selector('span:has-text(\"Book a whole Truck (Fast & Direct)\")')  # Selector based on element text\n",
    "#         await page.click('span:has-text(\"Book a whole Truck (Fast & Direct)\")')\n",
    "#         await asyncio.sleep(2)\n",
    "#         await page.wait_for_selector('input[type=\"text\"][id=\"locations_pickUpLocation\"]')\n",
    "#         await page.click('input[placeholder=\"Pickup: Postcode or City\"]')\n",
    "#         await page.fill('input[placeholder=\"Pickup: Postcode or City\"]', f'{pick_up_}')\n",
    "#         await asyncio.sleep(2)\n",
    "#         await page.wait_for_selector('input[type=\"text\"][id=\"locations_deliveryLocation\"]')  \n",
    "#         await page.click('input[placeholder=\"Delivery: Postcode or City\"]')\n",
    "#         await page.fill('input[placeholder=\"Delivery: Postcode or City\"]', f'{drop_off_}')\n",
    "#         await asyncio.sleep(3)\n",
    "\n",
    "#         try:\n",
    "\n",
    "#             await page.locator(\"#page-content > div:nth-child(4) > div\").click()\n",
    "#             await page.get_by_role(\"button\", name=\"Calculate transport price now\").click(force=True)\n",
    "#             await page.locator(\"#van div\").filter(has_text=\"Calculate transport price now\").nth(1).click()\n",
    "#             await page.is_visible('div.card h-100')\n",
    "#             await asyncio.sleep(10)\n",
    "\n",
    "       \n",
    "#          #   print(\"name locator\")\n",
    "\n",
    "\n",
    "#         except Exception:\n",
    "\n",
    "#             try:\n",
    "#                 await page.locator(\"#page-content > div:nth-child(4) > div\").click()\n",
    "#                 await page.wait_for_selector('button[type=\"submit\"][name=\"charges\"].acquisition-submit')\n",
    "#                 await page.click('button[type=\"submit\"][name=\"charges\"].acquisition-submit')\n",
    "#                 await page.is_visible('div.card h-100')\n",
    "#                 print(\"charges\")\n",
    "#             except Exception:\n",
    "#                 print('Exception occurred')\n",
    "#                 print('From: ' + str(pick_up_) + ' To: ' + str(drop_off_))\n",
    "#                 file_name = f'{quote}.csv'\n",
    "#                 file_path = folder_path + file_name\n",
    "            \n",
    "#             await page.close()\n",
    "#             await browser.close()\n",
    "#             await playwright.stop()\n",
    "\n",
    "\n",
    "#     except Exception:\n",
    "#                 print('Exception occurred')\n",
    "#                 print('From: ' + str(pick_up_) + ' To: ' + str(drop_off_))\n",
    "#                 file_name = f'{quote}.csv'\n",
    "#                 file_path = folder_path + file_name  \n",
    "\n",
    "\n",
    "\n",
    "#     # await page.wait_for_selector(\"button.btn-close\")\n",
    "#     # await page.click(\"button.btn-close\")\n",
    "#     # await page.is_visible('div.card h-100')\n",
    "#     print(\"save content\")\n",
    "\n",
    "#     html = await page.inner_html('#content')\n",
    "#     soup = BeautifulSoup(html, 'html.parser')\n",
    "#     responses.append(soup)\n",
    "#     file_name = f'{quote}.csv'\n",
    "#     file_path = folder_path + file_name\n",
    "#     data = {'quote_id': quote, 'pick_up': pick_up_, 'drop_off': drop_off_, 'response': soup}\n",
    "#     response = pd.DataFrame([data])\n",
    "#     response.to_csv(file_path, index=False)\n",
    "#     await page.close()\n",
    "#     await browser.close()\n",
    "#     await playwright.stop()\n",
    "\n",
    "\n",
    "\n",
    "\n",
    "# async def main():\n",
    "#      # Assuming you have the DataFrame 'cleaned_df' containing the data\n",
    "\n",
    "#     tasks = []\n",
    "#     batch_size = 3\n",
    "#     total_items =  len(cleaned_df['pick_up_address'])\n",
    "\n",
    "#     for batch_start in tqdm(range(0, total_items, batch_size)):\n",
    "#      #   print(batch_start)\n",
    "#         batch_end = min(batch_start + batch_size, total_items)\n",
    "#      #   print(batch_end)\n",
    "#         batch = cleaned_df['pick_up_address'][batch_start:batch_end]\n",
    "\n",
    "#         for i, value in enumerate(batch):\n",
    "\n",
    "#      #   for i, value in enumerate(cleaned_df['pick_up_address'][0:100]):\n",
    "#             quote = cleaned_df['quote_id'][batch_start+i]\n",
    "#             pick_up_ = cleaned_df['pick_up_address'][batch_start+i]\n",
    "#             drop_off_ = cleaned_df['drop_off_address'][batch_start+i]\n",
    "#             task = asyncio.create_task(process_quote(i, quote, pick_up_, drop_off_))\n",
    "#             tasks.append(task)\n",
    "\n",
    "#         await asyncio.gather(*tasks)\n",
    "\n",
    "\n",
    "# # Check if an event loop is already running\n",
    "# if asyncio.get_event_loop().is_running():\n",
    "#     loop = asyncio.get_event_loop()\n",
    "#     loop.create_task(main())\n",
    "# else:\n",
    "#     asyncio.run(main())\n"
   ]
  },
  {
   "cell_type": "code",
   "execution_count": null,
   "id": "f7ac9e8c-c9cd-4ca0-a8fd-3b22aebd9c03",
   "metadata": {},
   "outputs": [],
   "source": []
  },
  {
   "cell_type": "code",
   "execution_count": null,
   "id": "e8dab7a5-ab65-42b1-b6be-22d14cbad6d2",
   "metadata": {},
   "outputs": [],
   "source": [
    "# #df_test = pd.DataFrame(zip(pick_up,drop_off,truck_type, truck_offer), columns=['pick_up', 'drop_off', 'truck_type','truck_offer'])\n",
    "# df_response_extracted= pd.DataFrame(zip(quote_id,truck_type, truck_offer), columns=['quote_id', 'truck_type','truck_offer'])\n",
    "# df_response_extracted=df_response_extracted.pivot_table(values='truck_offer', index=['quote_id'], columns=['truck_type']).reset_index()\n",
    "# df_response_extracted\n"
   ]
  },
  {
   "cell_type": "code",
   "execution_count": 85,
   "id": "9e346700-b148-4e00-a262-46121ddfccac",
   "metadata": {},
   "outputs": [
    {
     "data": {
      "text/html": [
       "<div>\n",
       "<style scoped>\n",
       "    .dataframe tbody tr th:only-of-type {\n",
       "        vertical-align: middle;\n",
       "    }\n",
       "\n",
       "    .dataframe tbody tr th {\n",
       "        vertical-align: top;\n",
       "    }\n",
       "\n",
       "    .dataframe thead th {\n",
       "        text-align: right;\n",
       "    }\n",
       "</style>\n",
       "<table border=\"1\" class=\"dataframe\">\n",
       "  <thead>\n",
       "    <tr style=\"text-align: right;\">\n",
       "      <th></th>\n",
       "      <th>shipment_id</th>\n",
       "      <th>quote_id</th>\n",
       "      <th>created_at</th>\n",
       "      <th>fulfilment_strategy</th>\n",
       "      <th>price</th>\n",
       "      <th>transport_base</th>\n",
       "      <th>transport_locationpair</th>\n",
       "      <th>transport_seasonal</th>\n",
       "      <th>pick_up_address</th>\n",
       "      <th>drop_off_address</th>\n",
       "      <th>...</th>\n",
       "      <th>cargo_subtype</th>\n",
       "      <th>truck_type</th>\n",
       "      <th>pick_up</th>\n",
       "      <th>drop_off</th>\n",
       "      <th>response</th>\n",
       "      <th>Semitrailer 40t</th>\n",
       "      <th>Tarp Sprinter</th>\n",
       "      <th>Tarpaulin Sprinter XXL</th>\n",
       "      <th>Truck 12t</th>\n",
       "      <th>Truck 7.5t</th>\n",
       "    </tr>\n",
       "  </thead>\n",
       "  <tbody>\n",
       "    <tr>\n",
       "      <th>0</th>\n",
       "      <td>NaN</td>\n",
       "      <td>374808</td>\n",
       "      <td>2023-05-12 16:22:35+00:00</td>\n",
       "      <td>None</td>\n",
       "      <td>653.0000000000000000</td>\n",
       "      <td>611.5800000000000000</td>\n",
       "      <td>-159.0100000000000000</td>\n",
       "      <td>200.0000000000000000</td>\n",
       "      <td>DE 96317</td>\n",
       "      <td>BE 4460</td>\n",
       "      <td>...</td>\n",
       "      <td>\"\"</td>\n",
       "      <td></td>\n",
       "      <td>DE 96317</td>\n",
       "      <td>BE 4460</td>\n",
       "      <td>&lt;div class=\"container-fluid ps-0 pe-0\"&gt;&lt;div cl...</td>\n",
       "      <td>1247.16</td>\n",
       "      <td>529.43</td>\n",
       "      <td>582.30</td>\n",
       "      <td>1135.79</td>\n",
       "      <td>839.86</td>\n",
       "    </tr>\n",
       "    <tr>\n",
       "      <th>1</th>\n",
       "      <td>335182.0</td>\n",
       "      <td>374807</td>\n",
       "      <td>2023-05-12 14:53:41+00:00</td>\n",
       "      <td>fullTruck</td>\n",
       "      <td>415.0000000000000000</td>\n",
       "      <td>334.8000000000000000</td>\n",
       "      <td>46.8700000000000000</td>\n",
       "      <td>33.4800000000000000</td>\n",
       "      <td>BE 2830</td>\n",
       "      <td>FR 57430</td>\n",
       "      <td>...</td>\n",
       "      <td>\"sprinter\"</td>\n",
       "      <td>sprinter</td>\n",
       "      <td>BE 2830</td>\n",
       "      <td>FR 57430</td>\n",
       "      <td>&lt;div class=\"container-fluid ps-0 pe-0\"&gt;&lt;div cl...</td>\n",
       "      <td>0.00</td>\n",
       "      <td>395.12</td>\n",
       "      <td>448.00</td>\n",
       "      <td>785.81</td>\n",
       "      <td>583.12</td>\n",
       "    </tr>\n",
       "    <tr>\n",
       "      <th>2</th>\n",
       "      <td>335170.0</td>\n",
       "      <td>374805</td>\n",
       "      <td>2023-05-12 14:51:10+00:00</td>\n",
       "      <td>fullTruck</td>\n",
       "      <td>835.0000000000000000</td>\n",
       "      <td>802.4400000000000000</td>\n",
       "      <td>-48.1400000000000000</td>\n",
       "      <td>80.2400000000000000</td>\n",
       "      <td>BE 8830</td>\n",
       "      <td>DE 63741</td>\n",
       "      <td>...</td>\n",
       "      <td>\"fortyTons\"</td>\n",
       "      <td>fortyTons</td>\n",
       "      <td>BE 8830</td>\n",
       "      <td>DE 63741</td>\n",
       "      <td>&lt;div class=\"container-fluid ps-0 pe-0\"&gt;&lt;div cl...</td>\n",
       "      <td>1066.90</td>\n",
       "      <td>529.43</td>\n",
       "      <td>582.30</td>\n",
       "      <td>1135.79</td>\n",
       "      <td>839.86</td>\n",
       "    </tr>\n",
       "    <tr>\n",
       "      <th>3</th>\n",
       "      <td>NaN</td>\n",
       "      <td>374804</td>\n",
       "      <td>2023-05-12 14:51:09+00:00</td>\n",
       "      <td>None</td>\n",
       "      <td>835.0000000000000000</td>\n",
       "      <td>802.4400000000000000</td>\n",
       "      <td>-48.1400000000000000</td>\n",
       "      <td>80.2400000000000000</td>\n",
       "      <td>BE 8830</td>\n",
       "      <td>DE 63741</td>\n",
       "      <td>...</td>\n",
       "      <td>\"fortyTons\"</td>\n",
       "      <td>fortyTons</td>\n",
       "      <td>BE 8830</td>\n",
       "      <td>DE 63741</td>\n",
       "      <td>&lt;div class=\"container-fluid ps-0 pe-0\"&gt;&lt;div cl...</td>\n",
       "      <td>1066.90</td>\n",
       "      <td>529.43</td>\n",
       "      <td>582.30</td>\n",
       "      <td>1135.79</td>\n",
       "      <td>839.86</td>\n",
       "    </tr>\n",
       "    <tr>\n",
       "      <th>4</th>\n",
       "      <td>335154.0</td>\n",
       "      <td>374803</td>\n",
       "      <td>2023-05-12 14:24:23+00:00</td>\n",
       "      <td>fullTruck</td>\n",
       "      <td>481.0000000000000000</td>\n",
       "      <td>453.7400000000000000</td>\n",
       "      <td>-18.1400000000000000</td>\n",
       "      <td>45.3700000000000000</td>\n",
       "      <td>FR 08430</td>\n",
       "      <td>BE 2800</td>\n",
       "      <td>...</td>\n",
       "      <td>\"fortyTons\"</td>\n",
       "      <td>Semitrailer 40t</td>\n",
       "      <td>FR 08430</td>\n",
       "      <td>BE 2800</td>\n",
       "      <td>&lt;div class=\"container-fluid ps-0 pe-0\"&gt;&lt;div cl...</td>\n",
       "      <td>0.00</td>\n",
       "      <td>289.38</td>\n",
       "      <td>342.25</td>\n",
       "      <td>709.73</td>\n",
       "      <td>527.31</td>\n",
       "    </tr>\n",
       "  </tbody>\n",
       "</table>\n",
       "<p>5 rows × 23 columns</p>\n",
       "</div>"
      ],
      "text/plain": [
       "   shipment_id  quote_id                created_at fulfilment_strategy  \\\n",
       "0          NaN    374808 2023-05-12 16:22:35+00:00                None   \n",
       "1     335182.0    374807 2023-05-12 14:53:41+00:00           fullTruck   \n",
       "2     335170.0    374805 2023-05-12 14:51:10+00:00           fullTruck   \n",
       "3          NaN    374804 2023-05-12 14:51:09+00:00                None   \n",
       "4     335154.0    374803 2023-05-12 14:24:23+00:00           fullTruck   \n",
       "\n",
       "                  price        transport_base transport_locationpair  \\\n",
       "0  653.0000000000000000  611.5800000000000000  -159.0100000000000000   \n",
       "1  415.0000000000000000  334.8000000000000000    46.8700000000000000   \n",
       "2  835.0000000000000000  802.4400000000000000   -48.1400000000000000   \n",
       "3  835.0000000000000000  802.4400000000000000   -48.1400000000000000   \n",
       "4  481.0000000000000000  453.7400000000000000   -18.1400000000000000   \n",
       "\n",
       "     transport_seasonal pick_up_address drop_off_address  ... cargo_subtype  \\\n",
       "0  200.0000000000000000        DE 96317          BE 4460  ...            \"\"   \n",
       "1   33.4800000000000000         BE 2830         FR 57430  ...    \"sprinter\"   \n",
       "2   80.2400000000000000         BE 8830         DE 63741  ...   \"fortyTons\"   \n",
       "3   80.2400000000000000         BE 8830         DE 63741  ...   \"fortyTons\"   \n",
       "4   45.3700000000000000        FR 08430          BE 2800  ...   \"fortyTons\"   \n",
       "\n",
       "        truck_type   pick_up  drop_off  \\\n",
       "0                   DE 96317   BE 4460   \n",
       "1         sprinter   BE 2830  FR 57430   \n",
       "2        fortyTons   BE 8830  DE 63741   \n",
       "3        fortyTons   BE 8830  DE 63741   \n",
       "4  Semitrailer 40t  FR 08430   BE 2800   \n",
       "\n",
       "                                            response Semitrailer 40t  \\\n",
       "0  <div class=\"container-fluid ps-0 pe-0\"><div cl...         1247.16   \n",
       "1  <div class=\"container-fluid ps-0 pe-0\"><div cl...            0.00   \n",
       "2  <div class=\"container-fluid ps-0 pe-0\"><div cl...         1066.90   \n",
       "3  <div class=\"container-fluid ps-0 pe-0\"><div cl...         1066.90   \n",
       "4  <div class=\"container-fluid ps-0 pe-0\"><div cl...            0.00   \n",
       "\n",
       "  Tarp Sprinter Tarpaulin Sprinter XXL  Truck 12t  Truck 7.5t  \n",
       "0        529.43                 582.30    1135.79      839.86  \n",
       "1        395.12                 448.00     785.81      583.12  \n",
       "2        529.43                 582.30    1135.79      839.86  \n",
       "3        529.43                 582.30    1135.79      839.86  \n",
       "4        289.38                 342.25     709.73      527.31  \n",
       "\n",
       "[5 rows x 23 columns]"
      ]
     },
     "execution_count": 85,
     "metadata": {},
     "output_type": "execute_result"
    }
   ],
   "source": [
    "final_df.head()"
   ]
  },
  {
   "cell_type": "code",
   "execution_count": 12,
   "id": "32ea00fe-9482-4626-abef-bc932c97c927",
   "metadata": {},
   "outputs": [],
   "source": [
    "final_df = pd.merge(df, df_concatenate, on='quote_id', how='left')\n",
    "selection = ['Semitrailer 40t', 'Tarp Sprinter', 'Tarpaulin Sprinter XXL', 'Truck 12t', 'Truck 7.5t']\n",
    "\n",
    "def get_cargoboard_price(row):\n",
    "    if row['truck_type'] in selection:\n",
    "        return row[row['truck_type']]\n",
    "    else:\n",
    "        return np.nan\n",
    "\n",
    "final_df['cargoboard_price'] = final_df.apply(get_cargoboard_price, axis=1)\n",
    "final_df['cargoboard_price']=final_df['cargoboard_price'].astype(float)\n",
    "final_df['price']=final_df['price'].astype(float)\n",
    "final_df['price_difference']=(final_df['price'] /final_df['cargoboard_price'] -1)*100\n",
    "final_df['price_difference']=final_df['price_difference'].replace(np.inf,'no offer')\n",
    "\n",
    "\n",
    "#final_df['truck_type'].value_counts()\n",
    "#final_df['cargoboard_price'] = final_df.loc[final_df['truck_type'].isin(selection), 'truck_type']\n",
    "#final_df['cargoboard_price'] = final_df.loc[final_df['truck_type'].isin(selection),]\n",
    "#final_df[final_df['Semitrailer 40t'].isin(selection)]\n",
    "#result = final_df.loc[final_df['truck_type'].isin(selection), 'cargoboard_price'].fillna(0)\n",
    "#final_df #['cargoboard_price']\n",
    "# final_df['cargoboard_price']\n",
    "# final_df\n",
    "#final_df[0:1]\n",
    "#final_df['pick_up_country']=\n",
    "#\n",
    "#final_df['Semitrailer 40t']\n",
    "#final_df.to_csv('20230515.csv',index=False)\n",
    "\n",
    "\n",
    " #['truck_type'].value_counts().sum()\n",
    "# cargoboard_columns = final_df[selection].columns.isin(selection)\n",
    "# def match_value(row):\n",
    "#     for col in df.columns:\n",
    "#         if row[col] == col:\n",
    "#             return df.loc[row.name, col]\n",
    "#     return None\n",
    "\n",
    "# # Create a new column using the match_value function\n",
    "# final_df['cargoboard_price'] = final_df['truck_type'].where(match_value, axis=1)\n",
    "\n"
   ]
  },
  {
   "cell_type": "code",
   "execution_count": null,
   "id": "0a2aaefb-7769-4d52-a584-be5242ff0367",
   "metadata": {},
   "outputs": [],
   "source": []
  },
  {
   "cell_type": "code",
   "execution_count": 100,
   "id": "98a7db53-7fda-47fc-9c3f-2a50f328c93f",
   "metadata": {},
   "outputs": [
    {
     "data": {
      "application/vnd.plotly.v1+json": {
       "config": {
        "plotlyServerURL": "https://plot.ly"
       },
       "data": [
        {
         "customdata": [
          [
           335182,
           "Milliken Europe bv."
          ],
          [
           335170,
           "Rainer Bartsch GmbHInternationale Spedition"
          ],
          [
           null,
           null
          ],
          [
           null,
           null
          ],
          [
           null,
           null
          ],
          [
           null,
           null
          ],
          [
           null,
           null
          ],
          [
           null,
           null
          ],
          [
           null,
           null
          ],
          [
           335142,
           "Conwest Logistics GmbH"
          ],
          [
           null,
           null
          ],
          [
           null,
           null
          ],
          [
           null,
           null
          ],
          [
           335133,
           "AZIENDA SERVIZI TRASPORTI LOGISTICA S.R.L."
          ],
          [
           335128,
           "IKEA Supply AG"
          ],
          [
           335126,
           "IKEA Supply AG"
          ],
          [
           335124,
           "IKEA Supply AG"
          ],
          [
           335121,
           "IKEA Supply AG"
          ],
          [
           335119,
           "IKEA Supply AG"
          ],
          [
           null,
           null
          ],
          [
           335086,
           "Premium Pet Products GmbH"
          ],
          [
           null,
           null
          ],
          [
           335085,
           "Home24 Outlet GmbH"
          ],
          [
           null,
           null
          ],
          [
           335070,
           "Deutsche Saatveredelung AG"
          ],
          [
           335069,
           "VLH GmbH"
          ],
          [
           null,
           null
          ],
          [
           335059,
           "IKEA Supply AG"
          ],
          [
           335057,
           "IKEA Supply AG"
          ],
          [
           335058,
           "DACHSER FRANCE SAS"
          ],
          [
           null,
           null
          ],
          [
           335055,
           "IKEA Supply AG"
          ],
          [
           335053,
           "IKEA Supply AG"
          ],
          [
           335050,
           "IKEA Supply AG"
          ],
          [
           null,
           null
          ],
          [
           335041,
           "GEORG FISCHER PFCI S.R.L"
          ],
          [
           null,
           null
          ],
          [
           null,
           null
          ],
          [
           null,
           null
          ],
          [
           null,
           null
          ],
          [
           null,
           null
          ],
          [
           null,
           null
          ],
          [
           null,
           null
          ],
          [
           null,
           null
          ],
          [
           335024,
           "Home24 Outlet GmbH"
          ],
          [
           null,
           null
          ],
          [
           335018,
           "WEIG PACKAGING GMBH & CO.KG"
          ],
          [
           335012,
           "foodspring GmbH"
          ],
          [
           null,
           null
          ],
          [
           null,
           null
          ],
          [
           null,
           null
          ],
          [
           null,
           null
          ],
          [
           335007,
           "MERANO GmbH"
          ],
          [
           334999,
           "Home24 Outlet GmbH"
          ],
          [
           334998,
           "Home24 Outlet GmbH"
          ],
          [
           null,
           null
          ],
          [
           null,
           null
          ],
          [
           null,
           null
          ],
          [
           null,
           null
          ],
          [
           334983,
           "Danpower GmbH"
          ],
          [
           334981,
           "foodspring GmbH"
          ],
          [
           334971,
           "AZIENDA SERVIZI TRASPORTI LOGISTICA S.R.L."
          ],
          [
           334952,
           "foodspring GmbH"
          ],
          [
           null,
           null
          ],
          [
           334907,
           "Home24 Outlet GmbH"
          ],
          [
           334903,
           "IKEA Supply AG"
          ],
          [
           334902,
           "AZIENDA SERVIZI TRASPORTI LOGISTICA S.R.L."
          ],
          [
           334899,
           "IKEA Supply AG"
          ],
          [
           null,
           null
          ],
          [
           334897,
           "IKEA Supply AG"
          ],
          [
           null,
           null
          ],
          [
           null,
           null
          ],
          [
           null,
           null
          ],
          [
           null,
           null
          ],
          [
           null,
           null
          ],
          [
           334843,
           "foodspring GmbH"
          ],
          [
           null,
           null
          ],
          [
           334858,
           "Flender GmbH FLE WG FIN P"
          ],
          [
           334829,
           "Emma Matratzen GmbH"
          ],
          [
           null,
           null
          ],
          [
           334828,
           "Emma Matratzen GmbH"
          ],
          [
           null,
           null
          ],
          [
           null,
           null
          ],
          [
           334786,
           "Finsterwalder Transport & Logistik GmbH"
          ],
          [
           null,
           null
          ],
          [
           null,
           null
          ],
          [
           null,
           null
          ],
          [
           334771,
           "Corex Germany GmbH & Co.KG"
          ],
          [
           334734,
           "TdB Bevrachtingen B.V."
          ],
          [
           null,
           null
          ],
          [
           null,
           null
          ],
          [
           334725,
           "IKEA Supply AG"
          ],
          [
           334720,
           "IKEA Supply AG"
          ],
          [
           334714,
           "foodspring GmbH"
          ],
          [
           334702,
           "Premium Pet Products GmbH"
          ],
          [
           null,
           null
          ],
          [
           334685,
           "TeTrans s.r.o."
          ],
          [
           null,
           null
          ],
          [
           null,
           null
          ],
          [
           null,
           null
          ],
          [
           334665,
           "MACHAON S.A.S."
          ],
          [
           334659,
           "Robert Kukla GmbH"
          ],
          [
           null,
           null
          ],
          [
           null,
           null
          ],
          [
           334618,
           "Emma Matratzen GmbH"
          ],
          [
           334617,
           "Emma Matratzen GmbH"
          ],
          [
           334614,
           "Emma Matratzen GmbH"
          ],
          [
           334613,
           "IMR-INDUSTRIALESUD S.p.A."
          ],
          [
           null,
           null
          ],
          [
           334606,
           "Conwest Logistics GmbH"
          ],
          [
           null,
           null
          ],
          [
           null,
           null
          ],
          [
           334593,
           "Roadjet Logistics"
          ],
          [
           334571,
           "Galadtrans 2009 S.L."
          ],
          [
           334562,
           "Floors4Ever UAB"
          ],
          [
           334598,
           "Emma Matratzen GmbH"
          ],
          [
           334559,
           "WOEHL & CIE - TPT INTERNATIONAUX"
          ],
          [
           null,
           null
          ],
          [
           334549,
           "Conwest Logistics GmbH"
          ],
          [
           334548,
           "Conwest Logistics GmbH"
          ],
          [
           334546,
           "Conwest Logistics GmbH"
          ],
          [
           null,
           null
          ],
          [
           334533,
           "TDS Logistics NV"
          ],
          [
           334503,
           "AZIENDA SERVIZI TRASPORTI LOGISTICA S.R.L."
          ],
          [
           334494,
           "CT LOGISTICS GmbH"
          ],
          [
           null,
           null
          ],
          [
           334484,
           "Home24 Outlet GmbH"
          ],
          [
           null,
           null
          ],
          [
           null,
           null
          ],
          [
           null,
           null
          ],
          [
           334474,
           "Healthfood24 GmbH"
          ],
          [
           null,
           null
          ],
          [
           334467,
           "pets Premium GmbH"
          ],
          [
           334469,
           "Lightweight containers B.V."
          ],
          [
           334463,
           "J.T.L. INTER"
          ],
          [
           334461,
           "Healthfood24 GmbH"
          ],
          [
           334454,
           "foodspring GmbH"
          ],
          [
           334451,
           "IKEA Supply AG"
          ],
          [
           334447,
           "foodspring GmbH"
          ],
          [
           null,
           null
          ],
          [
           334455,
           "O'Neill Wetsuits Limited"
          ],
          [
           334433,
           "YSA WELL"
          ],
          [
           334435,
           "T.L.E. Group Sàrl"
          ],
          [
           null,
           null
          ],
          [
           null,
           null
          ],
          [
           334412,
           "IMR-INDUSTRIALESUD S.p.A."
          ],
          [
           334394,
           "IKEA Supply AG"
          ],
          [
           null,
           null
          ],
          [
           334352,
           "IMR-INDUSTRIALESUD S.p.A."
          ],
          [
           null,
           null
          ],
          [
           334346,
           "Premium Pet Products GmbH"
          ],
          [
           334329,
           "T.L.E. Group Sàrl"
          ],
          [
           null,
           null
          ],
          [
           null,
           null
          ],
          [
           334307,
           "Lightweight containers B.V."
          ],
          [
           null,
           null
          ],
          [
           334261,
           "Healthfood24 GmbH"
          ],
          [
           334294,
           "A-Climax-Klima Germany GmbH"
          ],
          [
           334228,
           "pets Premium GmbH"
          ],
          [
           null,
           null
          ],
          [
           334263,
           "Artis Engineering GmbH"
          ],
          [
           null,
           null
          ],
          [
           334176,
           "Lightweight containers B.V."
          ],
          [
           null,
           null
          ],
          [
           null,
           null
          ],
          [
           null,
           null
          ],
          [
           334153,
           "S4 Logistik GmbH"
          ],
          [
           334154,
           "Stephan-Service GmbH"
          ],
          [
           null,
           null
          ],
          [
           334148,
           "Home24 Outlet GmbH"
          ],
          [
           null,
           null
          ],
          [
           334113,
           "Lightweight containers B.V."
          ],
          [
           null,
           null
          ],
          [
           null,
           null
          ],
          [
           null,
           null
          ],
          [
           334101,
           "Lendis Assets GmbH"
          ],
          [
           334100,
           "Sirl interaktive Logistik GmbH"
          ],
          [
           null,
           null
          ],
          [
           334099,
           "foodspring GmbH"
          ],
          [
           334098,
           "foodspring GmbH"
          ],
          [
           334097,
           "foodspring GmbH"
          ],
          [
           null,
           null
          ],
          [
           null,
           null
          ],
          [
           null,
           null
          ],
          [
           334086,
           "Emma Matratzen GmbH"
          ],
          [
           334081,
           "AZIENDA SERVIZI TRASPORTI LOGISTICA S.R.L."
          ],
          [
           null,
           null
          ],
          [
           334074,
           "Premium Pet Products GmbH"
          ],
          [
           null,
           null
          ],
          [
           null,
           null
          ],
          [
           null,
           null
          ],
          [
           334045,
           "Premium Pet Products GmbH"
          ],
          [
           334044,
           "NOSTA Logistics GmbH -NL Piding"
          ],
          [
           null,
           null
          ],
          [
           null,
           null
          ],
          [
           null,
           null
          ],
          [
           null,
           null
          ],
          [
           null,
           null
          ],
          [
           334025,
           "Danpower GmbH"
          ],
          [
           334018,
           "Healthfood24 GmbH"
          ],
          [
           334014,
           "Emma Matratzen GmbH"
          ],
          [
           334007,
           "Logflex GmbH Internationale Spedition & Logistik"
          ],
          [
           333977,
           "CS Germany Schraubenfedern GmbH"
          ],
          [
           333974,
           "Healthfood24 GmbH"
          ],
          [
           333970,
           "foodspring GmbH"
          ],
          [
           null,
           null
          ],
          [
           null,
           null
          ],
          [
           333961,
           "Healthfood24 GmbH"
          ],
          [
           333959,
           "Basamro Transport B.V."
          ],
          [
           333956,
           "Healthfood24 GmbH"
          ],
          [
           333948,
           "Healthfood24 GmbH"
          ],
          [
           333936,
           "Healthfood24 GmbH"
          ],
          [
           333934,
           "Motatos GmbH"
          ],
          [
           null,
           null
          ],
          [
           null,
           null
          ],
          [
           333921,
           "Home24 Outlet GmbH"
          ],
          [
           333920,
           "AMSMA Group BV"
          ],
          [
           null,
           null
          ],
          [
           null,
           null
          ],
          [
           null,
           null
          ],
          [
           null,
           null
          ],
          [
           null,
           null
          ],
          [
           null,
           null
          ],
          [
           null,
           null
          ]
         ],
         "hovertemplate": "Price difference=%{x}<br>Price=%{y}<br>shipment_id=%{customdata[0]}<br>name=%{customdata[1]}<br>flag_conversion=%{marker.color}<extra></extra>",
         "legendgroup": "",
         "marker": {
          "color": [
           1,
           1,
           0,
           0,
           0,
           0,
           0,
           0,
           0,
           1,
           0,
           0,
           0,
           1,
           1,
           1,
           1,
           1,
           1,
           0,
           1,
           0,
           1,
           0,
           1,
           1,
           0,
           1,
           1,
           1,
           0,
           1,
           1,
           1,
           0,
           1,
           0,
           0,
           0,
           0,
           0,
           0,
           0,
           0,
           1,
           0,
           1,
           1,
           0,
           0,
           0,
           0,
           1,
           1,
           1,
           0,
           0,
           0,
           0,
           1,
           1,
           1,
           1,
           0,
           1,
           1,
           1,
           1,
           0,
           1,
           0,
           0,
           0,
           0,
           0,
           1,
           0,
           1,
           1,
           0,
           1,
           0,
           0,
           1,
           0,
           0,
           0,
           1,
           1,
           0,
           0,
           1,
           1,
           1,
           1,
           0,
           1,
           0,
           0,
           0,
           1,
           1,
           0,
           0,
           1,
           1,
           1,
           1,
           0,
           1,
           0,
           0,
           1,
           1,
           1,
           1,
           1,
           0,
           1,
           1,
           1,
           0,
           1,
           1,
           1,
           0,
           1,
           0,
           0,
           0,
           1,
           0,
           1,
           1,
           1,
           1,
           1,
           1,
           1,
           0,
           1,
           1,
           1,
           0,
           0,
           1,
           1,
           0,
           1,
           0,
           1,
           1,
           0,
           0,
           1,
           0,
           1,
           1,
           1,
           0,
           1,
           0,
           1,
           0,
           0,
           0,
           1,
           1,
           0,
           1,
           0,
           1,
           0,
           0,
           0,
           1,
           1,
           0,
           1,
           1,
           1,
           0,
           0,
           0,
           1,
           1,
           0,
           1,
           0,
           0,
           0,
           1,
           1,
           0,
           0,
           0,
           0,
           0,
           1,
           1,
           1,
           1,
           1,
           1,
           1,
           0,
           0,
           1,
           1,
           1,
           1,
           1,
           1,
           0,
           0,
           1,
           1,
           0,
           0,
           0,
           0,
           0,
           0,
           0
          ],
          "coloraxis": "coloraxis",
          "symbol": "circle"
         },
         "mode": "markers",
         "name": "",
         "orientation": "v",
         "showlegend": false,
         "type": "scatter",
         "x": [
          5.031382871026513,
          -21.735870278376613,
          -21.735870278376613,
          -7.590759075907593,
          -18.39479878937339,
          -18.39479878937339,
          -11.504424778761068,
          -37.08515641277496,
          -12.823311968352458,
          -22.884336059934263,
          -33.918105652362044,
          -35.341045612235256,
          -18.915631714799254,
          -18.915631714799254,
          -15.821307805877026,
          -15.821307805877026,
          -15.821307805877026,
          -15.821307805877026,
          -15.821307805877026,
          -35.341045612235256,
          -15.257562085605548,
          -19.278904625524728,
          -25.094293066375272,
          -14.678605692356895,
          -46.70687166917947,
          -19.076785786719675,
          -19.076785786719675,
          -28.671328671328666,
          -28.671328671328666,
          -38.07614250434017,
          -37.58710907890554,
          -28.671328671328666,
          -28.671328671328666,
          -28.671328671328666,
          -17.186250999200638,
          -38.82810508727379,
          -32.91845146690374,
          -11.88513622009314,
          -35.341045612235256,
          -4.535180108690429,
          -35.112941363361415,
          -35.112941363361415,
          -35.341045612235256,
          -35.341045612235256,
          -27.856447035902356,
          -40.07585691524611,
          1.783684964672183,
          -25.25047372774003,
          -25.638956147430726,
          -38.82810508727379,
          -38.82810508727379,
          -38.82810508727379,
          32.80083751769063,
          -22.97236067059356,
          -13.962536601018815,
          -16.20062139369729,
          -61.41280897491216,
          -40.07585691524611,
          -40.07585691524611,
          3.9628704034273543,
          6.738408344826263,
          -13.546480555817542,
          -5.6920110654707035,
          -34.711237128786756,
          -19.01053399412156,
          -21.09872611464968,
          -18.482140307797735,
          -32.197453026095225,
          -40.273086971886066,
          -32.197453026095225,
          -6.653490020839159,
          -40.273086971886066,
          -0.6340493990725893,
          -38.82810508727379,
          -38.82810508727379,
          -1.856317649038186,
          -15.766513128125393,
          -41.52199451768699,
          -27.535133496459586,
          -25.29395205820576,
          -31.663652388910513,
          -26.773455377574372,
          -16.87905209031969,
          -36.741544022721406,
          -32.39817475071827,
          -16.87905209031969,
          -31.735328456718047,
          -16.625514403292186,
          -34.63732681336593,
          -34.63732681336593,
          -30.165368228165434,
          -22.807017543859654,
          -6.269298962089376,
          48.504695020910596,
          -22.396933427208012,
          -27.247125088007508,
          -9.32582177111463,
          -29.901843428297823,
          -29.901843428297823,
          -32.39817475071827,
          -33.87103585152654,
          -24.965286431445154,
          -2.444208289054195,
          -12.825585229146064,
          -10.552462093680282,
          -10.552462093680282,
          -1.740259740259742,
          -13.73652133145804,
          -20.378568157533206,
          -2.1960878435137277,
          -28.516430764550993,
          -36.07769619330313,
          -33.23918346385929,
          -13.991540895122977,
          -17.381247523993302,
          -30.002175888594508,
          -55.894145950280674,
          -55.894145950280674,
          -7.841783154335246,
          4.0786302313206235,
          -23.91378720492644,
          -33.742331288343564,
          -33.742331288343564,
          -32.70556622785824,
          -33.71665037742518,
          -33.01038062283737,
          -22.97236067059356,
          -34.04142470522636,
          -34.04142470522636,
          -32.39817475071827,
          -12.436103268190957,
          -27.00384501626738,
          -6.980624439485272,
          -33.64776370681224,
          -39.321041954652344,
          -13.543339054051561,
          6.986251689690426,
          -37.702602365127944,
          162.81833616298812,
          -18.362383461694364,
          -34.847110821542714,
          -38.50972204097612,
          -16.896120150187734,
          -27.00384501626738,
          -27.00384501626738,
          -60.399636693914616,
          -30.458929705617354,
          -18.79278158058494,
          -12.303843529679327,
          -1.8181818181818188,
          -24.520929902143617,
          -17.78914684140156,
          -35.700649102710955,
          36.27088161034828,
          -33.17120808839018,
          -16.725476358503887,
          -15.986877105869834,
          -27.111619265399455,
          -15.251023813135156,
          -14.492643713028974,
          3.295388088729312,
          -17.717218992979543,
          -37.8979139028728,
          -18.453086286760744,
          -30.79310781705309,
          -28.419452887538,
          -42.87652794344557,
          -19.658853389071375,
          -3.112620260328236,
          -25.37087953590961,
          -31.92612137203166,
          -41.016384337683974,
          -7.124731099689551,
          -20.81691852374512,
          -38.14520044755009,
          2.911006376490155,
          -30.24663483248623,
          -24.135086177520314,
          -21.078902262153655,
          -21.078902262153655,
          -41.18308772719238,
          -12.275594371664244,
          -33.69669045344721,
          -7.970244420828909,
          -31.663652388910513,
          -12.316135502562952,
          -12.316135502562952,
          -33.98601398601399,
          -11.32010650176072,
          -35.119925695241214,
          -35.119925695241214,
          -27.453127351416427,
          -34.32203389830508,
          -14.753884461068411,
          -15.766513128125393,
          -15.766513128125393,
          -7.611254628981556,
          -11.32010650176072,
          6.961799357372378,
          -17.730449635686984,
          -9.387620955763843,
          -41.2946083732427,
          -58.02110463367654,
          -11.402231926249396,
          -15.522854725126578,
          -34.61528217966815,
          -31.022236791782763,
          -9.29893520825259,
          -23.897581792318633,
          -9.590028405477591,
          -1.5118425316669737,
          -37.29372937293729,
          -5.717839831853477,
          -33.76667807047554,
          7.918394925020178,
          -62.61616528576953,
          -35.424889714418384,
          -14.190790587438629,
          -37.94695694210605,
          -37.94695694210605,
          -37.94695694210605,
          -28.203674838222092,
          0.6671713826062353,
          -6.430396517460013
         ],
         "xaxis": "x",
         "y": [
          415,
          835,
          835,
          994,
          1092,
          1092,
          820,
          845.5,
          806.55,
          807,
          504,
          479,
          1200,
          1200,
          707,
          707,
          707,
          707,
          707,
          479,
          864,
          823,
          425,
          2001,
          661,
          798,
          798,
          612,
          612,
          1013,
          1021,
          612,
          612,
          612,
          1036,
          1296,
          498,
          1317,
          479,
          1588,
          2124,
          2124,
          479,
          479,
          511,
          1275,
          824,
          714,
          691,
          1296,
          1296,
          1296,
          685,
          425,
          429,
          1416,
          1252,
          1275,
          1275,
          728,
          1099,
          1375,
          1350,
          525,
          755,
          991,
          1142,
          542,
          1031,
          542,
          1738,
          1031,
          840,
          1296,
          1296,
          525,
          726,
          2688,
          669.3,
          690,
          597,
          464,
          1859,
          931,
          560,
          1859,
          573,
          1013,
          401,
          401,
          3106,
          2156,
          941,
          941,
          496,
          465,
          779,
          732,
          732,
          560,
          783,
          843,
          459,
          1322,
          1415.23,
          1415.23,
          945.75,
          1564,
          1304,
          1141,
          752,
          491,
          416,
          1517,
          1293,
          2734.43,
          363,
          363,
          774,
          665,
          556,
          486,
          486,
          1142,
          1275,
          484,
          425,
          485,
          485,
          560,
          949,
          617,
          892,
          1072,
          676,
          937,
          649,
          688,
          1161,
          1007,
          740,
          1178,
          830,
          617,
          617,
          872,
          2354,
          1305,
          1928,
          945,
          425,
          744,
          421,
          1182,
          1047,
          1003,
          758,
          816,
          894,
          902,
          1519,
          436,
          1072,
          757,
          437,
          471,
          522,
          861,
          428,
          988,
          516,
          1062,
          1442,
          808,
          586,
          928,
          726,
          423,
          838,
          838,
          1098,
          904,
          472,
          433,
          597,
          1259,
          1259,
          472,
          826,
          475,
          475,
          1398,
          465,
          784,
          726,
          726,
          726,
          826,
          749,
          997,
          1433.66,
          570,
          656,
          913,
          1178,
          491,
          505,
          983,
          535,
          853,
          699,
          779,
          1099,
          484,
          575,
          319,
          445,
          811,
          1489,
          1489,
          1489,
          760,
          851,
          791
         ],
         "yaxis": "y"
        }
       ],
       "layout": {
        "coloraxis": {
         "colorbar": {
          "title": {
           "text": "flag_conversion"
          }
         },
         "colorscale": [
          [
           0,
           "rgb(165,0,38)"
          ],
          [
           0.1,
           "rgb(215,48,39)"
          ],
          [
           0.2,
           "rgb(244,109,67)"
          ],
          [
           0.3,
           "rgb(253,174,97)"
          ],
          [
           0.4,
           "rgb(254,224,139)"
          ],
          [
           0.5,
           "rgb(255,255,191)"
          ],
          [
           0.6,
           "rgb(217,239,139)"
          ],
          [
           0.7,
           "rgb(166,217,106)"
          ],
          [
           0.8,
           "rgb(102,189,99)"
          ],
          [
           0.9,
           "rgb(26,152,80)"
          ],
          [
           1,
           "rgb(0,104,55)"
          ]
         ]
        },
        "height": 400,
        "legend": {
         "orientation": "h",
         "tracegroupgap": 0,
         "x": 0.01,
         "y": 0.999,
         "yanchor": "bottom"
        },
        "margin": {
         "t": 120
        },
        "showlegend": false,
        "template": {
         "data": {
          "bar": [
           {
            "error_x": {
             "color": "#2a3f5f"
            },
            "error_y": {
             "color": "#2a3f5f"
            },
            "marker": {
             "line": {
              "color": "#E5ECF6",
              "width": 0.5
             },
             "pattern": {
              "fillmode": "overlay",
              "size": 10,
              "solidity": 0.2
             }
            },
            "type": "bar"
           }
          ],
          "barpolar": [
           {
            "marker": {
             "line": {
              "color": "#E5ECF6",
              "width": 0.5
             },
             "pattern": {
              "fillmode": "overlay",
              "size": 10,
              "solidity": 0.2
             }
            },
            "type": "barpolar"
           }
          ],
          "carpet": [
           {
            "aaxis": {
             "endlinecolor": "#2a3f5f",
             "gridcolor": "white",
             "linecolor": "white",
             "minorgridcolor": "white",
             "startlinecolor": "#2a3f5f"
            },
            "baxis": {
             "endlinecolor": "#2a3f5f",
             "gridcolor": "white",
             "linecolor": "white",
             "minorgridcolor": "white",
             "startlinecolor": "#2a3f5f"
            },
            "type": "carpet"
           }
          ],
          "choropleth": [
           {
            "colorbar": {
             "outlinewidth": 0,
             "ticks": ""
            },
            "type": "choropleth"
           }
          ],
          "contour": [
           {
            "colorbar": {
             "outlinewidth": 0,
             "ticks": ""
            },
            "colorscale": [
             [
              0,
              "#0d0887"
             ],
             [
              0.1111111111111111,
              "#46039f"
             ],
             [
              0.2222222222222222,
              "#7201a8"
             ],
             [
              0.3333333333333333,
              "#9c179e"
             ],
             [
              0.4444444444444444,
              "#bd3786"
             ],
             [
              0.5555555555555556,
              "#d8576b"
             ],
             [
              0.6666666666666666,
              "#ed7953"
             ],
             [
              0.7777777777777778,
              "#fb9f3a"
             ],
             [
              0.8888888888888888,
              "#fdca26"
             ],
             [
              1,
              "#f0f921"
             ]
            ],
            "type": "contour"
           }
          ],
          "contourcarpet": [
           {
            "colorbar": {
             "outlinewidth": 0,
             "ticks": ""
            },
            "type": "contourcarpet"
           }
          ],
          "heatmap": [
           {
            "colorbar": {
             "outlinewidth": 0,
             "ticks": ""
            },
            "colorscale": [
             [
              0,
              "#0d0887"
             ],
             [
              0.1111111111111111,
              "#46039f"
             ],
             [
              0.2222222222222222,
              "#7201a8"
             ],
             [
              0.3333333333333333,
              "#9c179e"
             ],
             [
              0.4444444444444444,
              "#bd3786"
             ],
             [
              0.5555555555555556,
              "#d8576b"
             ],
             [
              0.6666666666666666,
              "#ed7953"
             ],
             [
              0.7777777777777778,
              "#fb9f3a"
             ],
             [
              0.8888888888888888,
              "#fdca26"
             ],
             [
              1,
              "#f0f921"
             ]
            ],
            "type": "heatmap"
           }
          ],
          "heatmapgl": [
           {
            "colorbar": {
             "outlinewidth": 0,
             "ticks": ""
            },
            "colorscale": [
             [
              0,
              "#0d0887"
             ],
             [
              0.1111111111111111,
              "#46039f"
             ],
             [
              0.2222222222222222,
              "#7201a8"
             ],
             [
              0.3333333333333333,
              "#9c179e"
             ],
             [
              0.4444444444444444,
              "#bd3786"
             ],
             [
              0.5555555555555556,
              "#d8576b"
             ],
             [
              0.6666666666666666,
              "#ed7953"
             ],
             [
              0.7777777777777778,
              "#fb9f3a"
             ],
             [
              0.8888888888888888,
              "#fdca26"
             ],
             [
              1,
              "#f0f921"
             ]
            ],
            "type": "heatmapgl"
           }
          ],
          "histogram": [
           {
            "marker": {
             "pattern": {
              "fillmode": "overlay",
              "size": 10,
              "solidity": 0.2
             }
            },
            "type": "histogram"
           }
          ],
          "histogram2d": [
           {
            "colorbar": {
             "outlinewidth": 0,
             "ticks": ""
            },
            "colorscale": [
             [
              0,
              "#0d0887"
             ],
             [
              0.1111111111111111,
              "#46039f"
             ],
             [
              0.2222222222222222,
              "#7201a8"
             ],
             [
              0.3333333333333333,
              "#9c179e"
             ],
             [
              0.4444444444444444,
              "#bd3786"
             ],
             [
              0.5555555555555556,
              "#d8576b"
             ],
             [
              0.6666666666666666,
              "#ed7953"
             ],
             [
              0.7777777777777778,
              "#fb9f3a"
             ],
             [
              0.8888888888888888,
              "#fdca26"
             ],
             [
              1,
              "#f0f921"
             ]
            ],
            "type": "histogram2d"
           }
          ],
          "histogram2dcontour": [
           {
            "colorbar": {
             "outlinewidth": 0,
             "ticks": ""
            },
            "colorscale": [
             [
              0,
              "#0d0887"
             ],
             [
              0.1111111111111111,
              "#46039f"
             ],
             [
              0.2222222222222222,
              "#7201a8"
             ],
             [
              0.3333333333333333,
              "#9c179e"
             ],
             [
              0.4444444444444444,
              "#bd3786"
             ],
             [
              0.5555555555555556,
              "#d8576b"
             ],
             [
              0.6666666666666666,
              "#ed7953"
             ],
             [
              0.7777777777777778,
              "#fb9f3a"
             ],
             [
              0.8888888888888888,
              "#fdca26"
             ],
             [
              1,
              "#f0f921"
             ]
            ],
            "type": "histogram2dcontour"
           }
          ],
          "mesh3d": [
           {
            "colorbar": {
             "outlinewidth": 0,
             "ticks": ""
            },
            "type": "mesh3d"
           }
          ],
          "parcoords": [
           {
            "line": {
             "colorbar": {
              "outlinewidth": 0,
              "ticks": ""
             }
            },
            "type": "parcoords"
           }
          ],
          "pie": [
           {
            "automargin": true,
            "type": "pie"
           }
          ],
          "scatter": [
           {
            "marker": {
             "colorbar": {
              "outlinewidth": 0,
              "ticks": ""
             }
            },
            "type": "scatter"
           }
          ],
          "scatter3d": [
           {
            "line": {
             "colorbar": {
              "outlinewidth": 0,
              "ticks": ""
             }
            },
            "marker": {
             "colorbar": {
              "outlinewidth": 0,
              "ticks": ""
             }
            },
            "type": "scatter3d"
           }
          ],
          "scattercarpet": [
           {
            "marker": {
             "colorbar": {
              "outlinewidth": 0,
              "ticks": ""
             }
            },
            "type": "scattercarpet"
           }
          ],
          "scattergeo": [
           {
            "marker": {
             "colorbar": {
              "outlinewidth": 0,
              "ticks": ""
             }
            },
            "type": "scattergeo"
           }
          ],
          "scattergl": [
           {
            "marker": {
             "colorbar": {
              "outlinewidth": 0,
              "ticks": ""
             }
            },
            "type": "scattergl"
           }
          ],
          "scattermapbox": [
           {
            "marker": {
             "colorbar": {
              "outlinewidth": 0,
              "ticks": ""
             }
            },
            "type": "scattermapbox"
           }
          ],
          "scatterpolar": [
           {
            "marker": {
             "colorbar": {
              "outlinewidth": 0,
              "ticks": ""
             }
            },
            "type": "scatterpolar"
           }
          ],
          "scatterpolargl": [
           {
            "marker": {
             "colorbar": {
              "outlinewidth": 0,
              "ticks": ""
             }
            },
            "type": "scatterpolargl"
           }
          ],
          "scatterternary": [
           {
            "marker": {
             "colorbar": {
              "outlinewidth": 0,
              "ticks": ""
             }
            },
            "type": "scatterternary"
           }
          ],
          "surface": [
           {
            "colorbar": {
             "outlinewidth": 0,
             "ticks": ""
            },
            "colorscale": [
             [
              0,
              "#0d0887"
             ],
             [
              0.1111111111111111,
              "#46039f"
             ],
             [
              0.2222222222222222,
              "#7201a8"
             ],
             [
              0.3333333333333333,
              "#9c179e"
             ],
             [
              0.4444444444444444,
              "#bd3786"
             ],
             [
              0.5555555555555556,
              "#d8576b"
             ],
             [
              0.6666666666666666,
              "#ed7953"
             ],
             [
              0.7777777777777778,
              "#fb9f3a"
             ],
             [
              0.8888888888888888,
              "#fdca26"
             ],
             [
              1,
              "#f0f921"
             ]
            ],
            "type": "surface"
           }
          ],
          "table": [
           {
            "cells": {
             "fill": {
              "color": "#EBF0F8"
             },
             "line": {
              "color": "white"
             }
            },
            "header": {
             "fill": {
              "color": "#C8D4E3"
             },
             "line": {
              "color": "white"
             }
            },
            "type": "table"
           }
          ]
         },
         "layout": {
          "annotationdefaults": {
           "arrowcolor": "#2a3f5f",
           "arrowhead": 0,
           "arrowwidth": 1
          },
          "autotypenumbers": "strict",
          "coloraxis": {
           "colorbar": {
            "outlinewidth": 0,
            "ticks": ""
           }
          },
          "colorscale": {
           "diverging": [
            [
             0,
             "#8e0152"
            ],
            [
             0.1,
             "#c51b7d"
            ],
            [
             0.2,
             "#de77ae"
            ],
            [
             0.3,
             "#f1b6da"
            ],
            [
             0.4,
             "#fde0ef"
            ],
            [
             0.5,
             "#f7f7f7"
            ],
            [
             0.6,
             "#e6f5d0"
            ],
            [
             0.7,
             "#b8e186"
            ],
            [
             0.8,
             "#7fbc41"
            ],
            [
             0.9,
             "#4d9221"
            ],
            [
             1,
             "#276419"
            ]
           ],
           "sequential": [
            [
             0,
             "#0d0887"
            ],
            [
             0.1111111111111111,
             "#46039f"
            ],
            [
             0.2222222222222222,
             "#7201a8"
            ],
            [
             0.3333333333333333,
             "#9c179e"
            ],
            [
             0.4444444444444444,
             "#bd3786"
            ],
            [
             0.5555555555555556,
             "#d8576b"
            ],
            [
             0.6666666666666666,
             "#ed7953"
            ],
            [
             0.7777777777777778,
             "#fb9f3a"
            ],
            [
             0.8888888888888888,
             "#fdca26"
            ],
            [
             1,
             "#f0f921"
            ]
           ],
           "sequentialminus": [
            [
             0,
             "#0d0887"
            ],
            [
             0.1111111111111111,
             "#46039f"
            ],
            [
             0.2222222222222222,
             "#7201a8"
            ],
            [
             0.3333333333333333,
             "#9c179e"
            ],
            [
             0.4444444444444444,
             "#bd3786"
            ],
            [
             0.5555555555555556,
             "#d8576b"
            ],
            [
             0.6666666666666666,
             "#ed7953"
            ],
            [
             0.7777777777777778,
             "#fb9f3a"
            ],
            [
             0.8888888888888888,
             "#fdca26"
            ],
            [
             1,
             "#f0f921"
            ]
           ]
          },
          "colorway": [
           "#636efa",
           "#EF553B",
           "#00cc96",
           "#ab63fa",
           "#FFA15A",
           "#19d3f3",
           "#FF6692",
           "#B6E880",
           "#FF97FF",
           "#FECB52"
          ],
          "font": {
           "color": "#2a3f5f"
          },
          "geo": {
           "bgcolor": "white",
           "lakecolor": "white",
           "landcolor": "#E5ECF6",
           "showlakes": true,
           "showland": true,
           "subunitcolor": "white"
          },
          "hoverlabel": {
           "align": "left"
          },
          "hovermode": "closest",
          "mapbox": {
           "style": "light"
          },
          "paper_bgcolor": "white",
          "plot_bgcolor": "#E5ECF6",
          "polar": {
           "angularaxis": {
            "gridcolor": "white",
            "linecolor": "white",
            "ticks": ""
           },
           "bgcolor": "#E5ECF6",
           "radialaxis": {
            "gridcolor": "white",
            "linecolor": "white",
            "ticks": ""
           }
          },
          "scene": {
           "xaxis": {
            "backgroundcolor": "#E5ECF6",
            "gridcolor": "white",
            "gridwidth": 2,
            "linecolor": "white",
            "showbackground": true,
            "ticks": "",
            "zerolinecolor": "white"
           },
           "yaxis": {
            "backgroundcolor": "#E5ECF6",
            "gridcolor": "white",
            "gridwidth": 2,
            "linecolor": "white",
            "showbackground": true,
            "ticks": "",
            "zerolinecolor": "white"
           },
           "zaxis": {
            "backgroundcolor": "#E5ECF6",
            "gridcolor": "white",
            "gridwidth": 2,
            "linecolor": "white",
            "showbackground": true,
            "ticks": "",
            "zerolinecolor": "white"
           }
          },
          "shapedefaults": {
           "line": {
            "color": "#2a3f5f"
           }
          },
          "ternary": {
           "aaxis": {
            "gridcolor": "white",
            "linecolor": "white",
            "ticks": ""
           },
           "baxis": {
            "gridcolor": "white",
            "linecolor": "white",
            "ticks": ""
           },
           "bgcolor": "#E5ECF6",
           "caxis": {
            "gridcolor": "white",
            "linecolor": "white",
            "ticks": ""
           }
          },
          "title": {
           "x": 0.05
          },
          "xaxis": {
           "automargin": true,
           "gridcolor": "white",
           "linecolor": "white",
           "ticks": "",
           "title": {
            "standoff": 15
           },
           "zerolinecolor": "white",
           "zerolinewidth": 2
          },
          "yaxis": {
           "automargin": true,
           "gridcolor": "white",
           "linecolor": "white",
           "ticks": "",
           "title": {
            "standoff": 15
           },
           "zerolinecolor": "white",
           "zerolinewidth": 2
          }
         }
        },
        "title": {
         "text": "Spot Funnel offer price vs Cargoboard"
        },
        "width": 600,
        "xaxis": {
         "anchor": "y",
         "autorange": true,
         "domain": [
          0,
          1
         ],
         "range": [
          -78.02605056145266,
          178.22822143867126
         ],
         "title": {
          "text": "Price offer vs Cargoboard (%)"
         },
         "type": "linear"
        },
        "yaxis": {
         "anchor": "x",
         "autorange": true,
         "domain": [
          0,
          1
         ],
         "range": [
          96.8478260869565,
          3328.1521739130435
         ],
         "title": {
          "text": "Price offer"
         },
         "type": "linear"
        }
       }
      },
      "image/png": "[encoded data removed]",
      "text/html": [
       "<div>                            <div id=\"577335e9-a533-4cb8-b33e-49a05d1ded14\" class=\"plotly-graph-div\" style=\"height:400px; width:600px;\"></div>            <script type=\"text/javascript\">                require([\"plotly\"], function(Plotly) {                    window.PLOTLYENV=window.PLOTLYENV || {};                                    if (document.getElementById(\"577335e9-a533-4cb8-b33e-49a05d1ded14\")) {                    Plotly.newPlot(                        \"577335e9-a533-4cb8-b33e-49a05d1ded14\",                        [{\"customdata\":[[335182.0,\"Milliken Europe bv.\"],[335170.0,\"Rainer Bartsch GmbHInternationale Spedition\"],[null,null],[null,null],[null,null],[null,null],[null,null],[null,null],[null,null],[335142.0,\"Conwest Logistics GmbH\"],[null,null],[null,null],[null,null],[335133.0,\"AZIENDA SERVIZI TRASPORTI LOGISTICA S.R.L.\"],[335128.0,\"IKEA Supply AG\"],[335126.0,\"IKEA Supply AG\"],[335124.0,\"IKEA Supply AG\"],[335121.0,\"IKEA Supply AG\"],[335119.0,\"IKEA Supply AG\"],[null,null],[335086.0,\"Premium Pet Products GmbH\"],[null,null],[335085.0,\"Home24 Outlet GmbH\"],[null,null],[335070.0,\"Deutsche Saatveredelung AG\"],[335069.0,\"VLH GmbH\"],[null,null],[335059.0,\"IKEA Supply AG\"],[335057.0,\"IKEA Supply AG\"],[335058.0,\"DACHSER FRANCE SAS\"],[null,null],[335055.0,\"IKEA Supply AG\"],[335053.0,\"IKEA Supply AG\"],[335050.0,\"IKEA Supply AG\"],[null,null],[335041.0,\"GEORG FISCHER PFCI S.R.L\"],[null,null],[null,null],[null,null],[null,null],[null,null],[null,null],[null,null],[null,null],[335024.0,\"Home24 Outlet GmbH\"],[null,null],[335018.0,\"WEIG PACKAGING GMBH & CO.KG\"],[335012.0,\"foodspring GmbH\"],[null,null],[null,null],[null,null],[null,null],[335007.0,\"MERANO GmbH\"],[334999.0,\"Home24 Outlet GmbH\"],[334998.0,\"Home24 Outlet GmbH\"],[null,null],[null,null],[null,null],[null,null],[334983.0,\"Danpower GmbH\"],[334981.0,\"foodspring GmbH\"],[334971.0,\"AZIENDA SERVIZI TRASPORTI LOGISTICA S.R.L.\"],[334952.0,\"foodspring GmbH\"],[null,null],[334907.0,\"Home24 Outlet GmbH\"],[334903.0,\"IKEA Supply AG\"],[334902.0,\"AZIENDA SERVIZI TRASPORTI LOGISTICA S.R.L.\"],[334899.0,\"IKEA Supply AG\"],[null,null],[334897.0,\"IKEA Supply AG\"],[null,null],[null,null],[null,null],[null,null],[null,null],[334843.0,\"foodspring GmbH\"],[null,null],[334858.0,\"Flender GmbH FLE WG FIN P\"],[334829.0,\"Emma Matratzen GmbH\"],[null,null],[334828.0,\"Emma Matratzen GmbH\"],[null,null],[null,null],[334786.0,\"Finsterwalder Transport & Logistik GmbH\"],[null,null],[null,null],[null,null],[334771.0,\"Corex Germany GmbH & Co.KG\"],[334734.0,\"TdB Bevrachtingen B.V.\"],[null,null],[null,null],[334725.0,\"IKEA Supply AG\"],[334720.0,\"IKEA Supply AG\"],[334714.0,\"foodspring GmbH\"],[334702.0,\"Premium Pet Products GmbH\"],[null,null],[334685.0,\"TeTrans s.r.o.\"],[null,null],[null,null],[null,null],[334665.0,\"MACHAON S.A.S.\"],[334659.0,\"Robert Kukla GmbH\"],[null,null],[null,null],[334618.0,\"Emma Matratzen GmbH\"],[334617.0,\"Emma Matratzen GmbH\"],[334614.0,\"Emma Matratzen GmbH\"],[334613.0,\"IMR-INDUSTRIALESUD S.p.A.\"],[null,null],[334606.0,\"Conwest Logistics GmbH\"],[null,null],[null,null],[334593.0,\"Roadjet Logistics\"],[334571.0,\"Galadtrans 2009 S.L.\"],[334562.0,\"Floors4Ever UAB\"],[334598.0,\"Emma Matratzen GmbH\"],[334559.0,\"WOEHL & CIE - TPT INTERNATIONAUX\"],[null,null],[334549.0,\"Conwest Logistics GmbH\"],[334548.0,\"Conwest Logistics GmbH\"],[334546.0,\"Conwest Logistics GmbH\"],[null,null],[334533.0,\"TDS Logistics NV\"],[334503.0,\"AZIENDA SERVIZI TRASPORTI LOGISTICA S.R.L.\"],[334494.0,\"CT LOGISTICS GmbH\"],[null,null],[334484.0,\"Home24 Outlet GmbH\"],[null,null],[null,null],[null,null],[334474.0,\"Healthfood24 GmbH\"],[null,null],[334467.0,\"pets Premium GmbH\"],[334469.0,\"Lightweight containers B.V.\"],[334463.0,\"J.T.L. INTER\"],[334461.0,\"Healthfood24 GmbH\"],[334454.0,\"foodspring GmbH\"],[334451.0,\"IKEA Supply AG\"],[334447.0,\"foodspring GmbH\"],[null,null],[334455.0,\"O'Neill Wetsuits Limited\"],[334433.0,\"YSA WELL\"],[334435.0,\"T.L.E. Group S\\u00e0rl\"],[null,null],[null,null],[334412.0,\"IMR-INDUSTRIALESUD S.p.A.\"],[334394.0,\"IKEA Supply AG\"],[null,null],[334352.0,\"IMR-INDUSTRIALESUD S.p.A.\"],[null,null],[334346.0,\"Premium Pet Products GmbH\"],[334329.0,\"T.L.E. Group S\\u00e0rl\"],[null,null],[null,null],[334307.0,\"Lightweight containers B.V.\"],[null,null],[334261.0,\"Healthfood24 GmbH\"],[334294.0,\"A-Climax-Klima Germany GmbH\"],[334228.0,\"pets Premium GmbH\"],[null,null],[334263.0,\"Artis Engineering GmbH\"],[null,null],[334176.0,\"Lightweight containers B.V.\"],[null,null],[null,null],[null,null],[334153.0,\"S4 Logistik GmbH\"],[334154.0,\"Stephan-Service GmbH\"],[null,null],[334148.0,\"Home24 Outlet GmbH\"],[null,null],[334113.0,\"Lightweight containers B.V.\"],[null,null],[null,null],[null,null],[334101.0,\"Lendis Assets GmbH\"],[334100.0,\"Sirl interaktive Logistik GmbH\"],[null,null],[334099.0,\"foodspring GmbH\"],[334098.0,\"foodspring GmbH\"],[334097.0,\"foodspring GmbH\"],[null,null],[null,null],[null,null],[334086.0,\"Emma Matratzen GmbH\"],[334081.0,\"AZIENDA SERVIZI TRASPORTI LOGISTICA S.R.L.\"],[null,null],[334074.0,\"Premium Pet Products GmbH\"],[null,null],[null,null],[null,null],[334045.0,\"Premium Pet Products GmbH\"],[334044.0,\"NOSTA Logistics GmbH -NL Piding\"],[null,null],[null,null],[null,null],[null,null],[null,null],[334025.0,\"Danpower GmbH\"],[334018.0,\"Healthfood24 GmbH\"],[334014.0,\"Emma Matratzen GmbH\"],[334007.0,\"Logflex GmbH Internationale Spedition & Logistik\"],[333977.0,\"CS Germany Schraubenfedern GmbH\"],[333974.0,\"Healthfood24 GmbH\"],[333970.0,\"foodspring GmbH\"],[null,null],[null,null],[333961.0,\"Healthfood24 GmbH\"],[333959.0,\"Basamro Transport B.V.\"],[333956.0,\"Healthfood24 GmbH\"],[333948.0,\"Healthfood24 GmbH\"],[333936.0,\"Healthfood24 GmbH\"],[333934.0,\"Motatos GmbH\"],[null,null],[null,null],[333921.0,\"Home24 Outlet GmbH\"],[333920.0,\"AMSMA Group BV\"],[null,null],[null,null],[null,null],[null,null],[null,null],[null,null],[null,null]],\"hovertemplate\":\"Price difference=%{x}<br>Price=%{y}<br>shipment_id=%{customdata[0]}<br>name=%{customdata[1]}<br>flag_conversion=%{marker.color}<extra></extra>\",\"legendgroup\":\"\",\"marker\":{\"color\":[1,1,0,0,0,0,0,0,0,1,0,0,0,1,1,1,1,1,1,0,1,0,1,0,1,1,0,1,1,1,0,1,1,1,0,1,0,0,0,0,0,0,0,0,1,0,1,1,0,0,0,0,1,1,1,0,0,0,0,1,1,1,1,0,1,1,1,1,0,1,0,0,0,0,0,1,0,1,1,0,1,0,0,1,0,0,0,1,1,0,0,1,1,1,1,0,1,0,0,0,1,1,0,0,1,1,1,1,0,1,0,0,1,1,1,1,1,0,1,1,1,0,1,1,1,0,1,0,0,0,1,0,1,1,1,1,1,1,1,0,1,1,1,0,0,1,1,0,1,0,1,1,0,0,1,0,1,1,1,0,1,0,1,0,0,0,1,1,0,1,0,1,0,0,0,1,1,0,1,1,1,0,0,0,1,1,0,1,0,0,0,1,1,0,0,0,0,0,1,1,1,1,1,1,1,0,0,1,1,1,1,1,1,0,0,1,1,0,0,0,0,0,0,0],\"coloraxis\":\"coloraxis\",\"symbol\":\"circle\"},\"mode\":\"markers\",\"name\":\"\",\"orientation\":\"v\",\"showlegend\":false,\"x\":[5.031382871026513,-21.735870278376613,-21.735870278376613,-7.590759075907593,-18.39479878937339,-18.39479878937339,-11.504424778761068,-37.08515641277496,-12.823311968352458,-22.884336059934263,-33.918105652362044,-35.341045612235256,-18.915631714799254,-18.915631714799254,-15.821307805877026,-15.821307805877026,-15.821307805877026,-15.821307805877026,-15.821307805877026,-35.341045612235256,-15.257562085605548,-19.278904625524728,-25.094293066375272,-14.678605692356895,-46.70687166917947,-19.076785786719675,-19.076785786719675,-28.671328671328666,-28.671328671328666,-38.07614250434017,-37.58710907890554,-28.671328671328666,-28.671328671328666,-28.671328671328666,-17.186250999200638,-38.82810508727379,-32.91845146690374,-11.88513622009314,-35.341045612235256,-4.535180108690429,-35.112941363361415,-35.112941363361415,-35.341045612235256,-35.341045612235256,-27.856447035902356,-40.07585691524611,1.783684964672183,-25.25047372774003,-25.638956147430726,-38.82810508727379,-38.82810508727379,-38.82810508727379,32.80083751769063,-22.97236067059356,-13.962536601018815,-16.20062139369729,-61.41280897491216,-40.07585691524611,-40.07585691524611,3.9628704034273543,6.738408344826263,-13.546480555817542,-5.6920110654707035,-34.711237128786756,-19.01053399412156,-21.09872611464968,-18.482140307797735,-32.197453026095225,-40.273086971886066,-32.197453026095225,-6.653490020839159,-40.273086971886066,-0.6340493990725893,-38.82810508727379,-38.82810508727379,-1.856317649038186,-15.766513128125393,-41.52199451768699,-27.535133496459586,-25.29395205820576,-31.663652388910513,-26.773455377574372,-16.87905209031969,-36.741544022721406,-32.39817475071827,-16.87905209031969,-31.735328456718047,-16.625514403292186,-34.63732681336593,-34.63732681336593,-30.165368228165434,-22.807017543859654,-6.269298962089376,48.504695020910596,-22.396933427208012,-27.247125088007508,-9.32582177111463,-29.901843428297823,-29.901843428297823,-32.39817475071827,-33.87103585152654,-24.965286431445154,-2.444208289054195,-12.825585229146064,-10.552462093680282,-10.552462093680282,-1.740259740259742,-13.73652133145804,-20.378568157533206,-2.1960878435137277,-28.516430764550993,-36.07769619330313,-33.23918346385929,-13.991540895122977,-17.381247523993302,-30.002175888594508,-55.894145950280674,-55.894145950280674,-7.841783154335246,4.0786302313206235,-23.91378720492644,-33.742331288343564,-33.742331288343564,-32.70556622785824,-33.71665037742518,-33.01038062283737,-22.97236067059356,-34.04142470522636,-34.04142470522636,-32.39817475071827,-12.436103268190957,-27.00384501626738,-6.980624439485272,-33.64776370681224,-39.321041954652344,-13.543339054051561,6.986251689690426,-37.702602365127944,162.81833616298812,-18.362383461694364,-34.847110821542714,-38.50972204097612,-16.896120150187734,-27.00384501626738,-27.00384501626738,-60.399636693914616,-30.458929705617354,-18.79278158058494,-12.303843529679327,-1.8181818181818188,-24.520929902143617,-17.78914684140156,-35.700649102710955,36.27088161034828,-33.17120808839018,-16.725476358503887,-15.986877105869834,-27.111619265399455,-15.251023813135156,-14.492643713028974,3.295388088729312,-17.717218992979543,-37.8979139028728,-18.453086286760744,-30.79310781705309,-28.419452887538,-42.87652794344557,-19.658853389071375,-3.112620260328236,-25.37087953590961,-31.92612137203166,-41.016384337683974,-7.124731099689551,-20.81691852374512,-38.14520044755009,2.911006376490155,-30.24663483248623,-24.135086177520314,-21.078902262153655,-21.078902262153655,-41.18308772719238,-12.275594371664244,-33.69669045344721,-7.970244420828909,-31.663652388910513,-12.316135502562952,-12.316135502562952,-33.98601398601399,-11.32010650176072,-35.119925695241214,-35.119925695241214,-27.453127351416427,-34.32203389830508,-14.753884461068411,-15.766513128125393,-15.766513128125393,-7.611254628981556,-11.32010650176072,6.961799357372378,-17.730449635686984,-9.387620955763843,-41.2946083732427,-58.02110463367654,-11.402231926249396,-15.522854725126578,-34.61528217966815,-31.022236791782763,-9.29893520825259,-23.897581792318633,-9.590028405477591,-1.5118425316669737,-37.29372937293729,-5.717839831853477,-33.76667807047554,7.918394925020178,-62.61616528576953,-35.424889714418384,-14.190790587438629,-37.94695694210605,-37.94695694210605,-37.94695694210605,-28.203674838222092,0.6671713826062353,-6.430396517460013],\"xaxis\":\"x\",\"y\":[415.0,835.0,835.0,994.0,1092.0,1092.0,820.0,845.5,806.55,807.0,504.0,479.0,1200.0,1200.0,707.0,707.0,707.0,707.0,707.0,479.0,864.0,823.0,425.0,2001.0,661.0,798.0,798.0,612.0,612.0,1013.0,1021.0,612.0,612.0,612.0,1036.0,1296.0,498.0,1317.0,479.0,1588.0,2124.0,2124.0,479.0,479.0,511.0,1275.0,824.0,714.0,691.0,1296.0,1296.0,1296.0,685.0,425.0,429.0,1416.0,1252.0,1275.0,1275.0,728.0,1099.0,1375.0,1350.0,525.0,755.0,991.0,1142.0,542.0,1031.0,542.0,1738.0,1031.0,840.0,1296.0,1296.0,525.0,726.0,2688.0,669.3,690.0,597.0,464.0,1859.0,931.0,560.0,1859.0,573.0,1013.0,401.0,401.0,3106.0,2156.0,941.0,941.0,496.0,465.0,779.0,732.0,732.0,560.0,783.0,843.0,459.0,1322.0,1415.23,1415.23,945.75,1564.0,1304.0,1141.0,752.0,491.0,416.0,1517.0,1293.0,2734.43,363.0,363.0,774.0,665.0,556.0,486.0,486.0,1142.0,1275.0,484.0,425.0,485.0,485.0,560.0,949.0,617.0,892.0,1072.0,676.0,937.0,649.0,688.0,1161.0,1007.0,740.0,1178.0,830.0,617.0,617.0,872.0,2354.0,1305.0,1928.0,945.0,425.0,744.0,421.0,1182.0,1047.0,1003.0,758.0,816.0,894.0,902.0,1519.0,436.0,1072.0,757.0,437.0,471.0,522.0,861.0,428.0,988.0,516.0,1062.0,1442.0,808.0,586.0,928.0,726.0,423.0,838.0,838.0,1098.0,904.0,472.0,433.0,597.0,1259.0,1259.0,472.0,826.0,475.0,475.0,1398.0,465.0,784.0,726.0,726.0,726.0,826.0,749.0,997.0,1433.66,570.0,656.0,913.0,1178.0,491.0,505.0,983.0,535.0,853.0,699.0,779.0,1099.0,484.0,575.0,319.0,445.0,811.0,1489.0,1489.0,1489.0,760.0,851.0,791.0],\"yaxis\":\"y\",\"type\":\"scatter\"}],                        {\"template\":{\"data\":{\"bar\":[{\"error_x\":{\"color\":\"#2a3f5f\"},\"error_y\":{\"color\":\"#2a3f5f\"},\"marker\":{\"line\":{\"color\":\"#E5ECF6\",\"width\":0.5},\"pattern\":{\"fillmode\":\"overlay\",\"size\":10,\"solidity\":0.2}},\"type\":\"bar\"}],\"barpolar\":[{\"marker\":{\"line\":{\"color\":\"#E5ECF6\",\"width\":0.5},\"pattern\":{\"fillmode\":\"overlay\",\"size\":10,\"solidity\":0.2}},\"type\":\"barpolar\"}],\"carpet\":[{\"aaxis\":{\"endlinecolor\":\"#2a3f5f\",\"gridcolor\":\"white\",\"linecolor\":\"white\",\"minorgridcolor\":\"white\",\"startlinecolor\":\"#2a3f5f\"},\"baxis\":{\"endlinecolor\":\"#2a3f5f\",\"gridcolor\":\"white\",\"linecolor\":\"white\",\"minorgridcolor\":\"white\",\"startlinecolor\":\"#2a3f5f\"},\"type\":\"carpet\"}],\"choropleth\":[{\"colorbar\":{\"outlinewidth\":0,\"ticks\":\"\"},\"type\":\"choropleth\"}],\"contour\":[{\"colorbar\":{\"outlinewidth\":0,\"ticks\":\"\"},\"colorscale\":[[0.0,\"#0d0887\"],[0.1111111111111111,\"#46039f\"],[0.2222222222222222,\"#7201a8\"],[0.3333333333333333,\"#9c179e\"],[0.4444444444444444,\"#bd3786\"],[0.5555555555555556,\"#d8576b\"],[0.6666666666666666,\"#ed7953\"],[0.7777777777777778,\"#fb9f3a\"],[0.8888888888888888,\"#fdca26\"],[1.0,\"#f0f921\"]],\"type\":\"contour\"}],\"contourcarpet\":[{\"colorbar\":{\"outlinewidth\":0,\"ticks\":\"\"},\"type\":\"contourcarpet\"}],\"heatmap\":[{\"colorbar\":{\"outlinewidth\":0,\"ticks\":\"\"},\"colorscale\":[[0.0,\"#0d0887\"],[0.1111111111111111,\"#46039f\"],[0.2222222222222222,\"#7201a8\"],[0.3333333333333333,\"#9c179e\"],[0.4444444444444444,\"#bd3786\"],[0.5555555555555556,\"#d8576b\"],[0.6666666666666666,\"#ed7953\"],[0.7777777777777778,\"#fb9f3a\"],[0.8888888888888888,\"#fdca26\"],[1.0,\"#f0f921\"]],\"type\":\"heatmap\"}],\"heatmapgl\":[{\"colorbar\":{\"outlinewidth\":0,\"ticks\":\"\"},\"colorscale\":[[0.0,\"#0d0887\"],[0.1111111111111111,\"#46039f\"],[0.2222222222222222,\"#7201a8\"],[0.3333333333333333,\"#9c179e\"],[0.4444444444444444,\"#bd3786\"],[0.5555555555555556,\"#d8576b\"],[0.6666666666666666,\"#ed7953\"],[0.7777777777777778,\"#fb9f3a\"],[0.8888888888888888,\"#fdca26\"],[1.0,\"#f0f921\"]],\"type\":\"heatmapgl\"}],\"histogram\":[{\"marker\":{\"pattern\":{\"fillmode\":\"overlay\",\"size\":10,\"solidity\":0.2}},\"type\":\"histogram\"}],\"histogram2d\":[{\"colorbar\":{\"outlinewidth\":0,\"ticks\":\"\"},\"colorscale\":[[0.0,\"#0d0887\"],[0.1111111111111111,\"#46039f\"],[0.2222222222222222,\"#7201a8\"],[0.3333333333333333,\"#9c179e\"],[0.4444444444444444,\"#bd3786\"],[0.5555555555555556,\"#d8576b\"],[0.6666666666666666,\"#ed7953\"],[0.7777777777777778,\"#fb9f3a\"],[0.8888888888888888,\"#fdca26\"],[1.0,\"#f0f921\"]],\"type\":\"histogram2d\"}],\"histogram2dcontour\":[{\"colorbar\":{\"outlinewidth\":0,\"ticks\":\"\"},\"colorscale\":[[0.0,\"#0d0887\"],[0.1111111111111111,\"#46039f\"],[0.2222222222222222,\"#7201a8\"],[0.3333333333333333,\"#9c179e\"],[0.4444444444444444,\"#bd3786\"],[0.5555555555555556,\"#d8576b\"],[0.6666666666666666,\"#ed7953\"],[0.7777777777777778,\"#fb9f3a\"],[0.8888888888888888,\"#fdca26\"],[1.0,\"#f0f921\"]],\"type\":\"histogram2dcontour\"}],\"mesh3d\":[{\"colorbar\":{\"outlinewidth\":0,\"ticks\":\"\"},\"type\":\"mesh3d\"}],\"parcoords\":[{\"line\":{\"colorbar\":{\"outlinewidth\":0,\"ticks\":\"\"}},\"type\":\"parcoords\"}],\"pie\":[{\"automargin\":true,\"type\":\"pie\"}],\"scatter\":[{\"marker\":{\"colorbar\":{\"outlinewidth\":0,\"ticks\":\"\"}},\"type\":\"scatter\"}],\"scatter3d\":[{\"line\":{\"colorbar\":{\"outlinewidth\":0,\"ticks\":\"\"}},\"marker\":{\"colorbar\":{\"outlinewidth\":0,\"ticks\":\"\"}},\"type\":\"scatter3d\"}],\"scattercarpet\":[{\"marker\":{\"colorbar\":{\"outlinewidth\":0,\"ticks\":\"\"}},\"type\":\"scattercarpet\"}],\"scattergeo\":[{\"marker\":{\"colorbar\":{\"outlinewidth\":0,\"ticks\":\"\"}},\"type\":\"scattergeo\"}],\"scattergl\":[{\"marker\":{\"colorbar\":{\"outlinewidth\":0,\"ticks\":\"\"}},\"type\":\"scattergl\"}],\"scattermapbox\":[{\"marker\":{\"colorbar\":{\"outlinewidth\":0,\"ticks\":\"\"}},\"type\":\"scattermapbox\"}],\"scatterpolar\":[{\"marker\":{\"colorbar\":{\"outlinewidth\":0,\"ticks\":\"\"}},\"type\":\"scatterpolar\"}],\"scatterpolargl\":[{\"marker\":{\"colorbar\":{\"outlinewidth\":0,\"ticks\":\"\"}},\"type\":\"scatterpolargl\"}],\"scatterternary\":[{\"marker\":{\"colorbar\":{\"outlinewidth\":0,\"ticks\":\"\"}},\"type\":\"scatterternary\"}],\"surface\":[{\"colorbar\":{\"outlinewidth\":0,\"ticks\":\"\"},\"colorscale\":[[0.0,\"#0d0887\"],[0.1111111111111111,\"#46039f\"],[0.2222222222222222,\"#7201a8\"],[0.3333333333333333,\"#9c179e\"],[0.4444444444444444,\"#bd3786\"],[0.5555555555555556,\"#d8576b\"],[0.6666666666666666,\"#ed7953\"],[0.7777777777777778,\"#fb9f3a\"],[0.8888888888888888,\"#fdca26\"],[1.0,\"#f0f921\"]],\"type\":\"surface\"}],\"table\":[{\"cells\":{\"fill\":{\"color\":\"#EBF0F8\"},\"line\":{\"color\":\"white\"}},\"header\":{\"fill\":{\"color\":\"#C8D4E3\"},\"line\":{\"color\":\"white\"}},\"type\":\"table\"}]},\"layout\":{\"annotationdefaults\":{\"arrowcolor\":\"#2a3f5f\",\"arrowhead\":0,\"arrowwidth\":1},\"autotypenumbers\":\"strict\",\"coloraxis\":{\"colorbar\":{\"outlinewidth\":0,\"ticks\":\"\"}},\"colorscale\":{\"diverging\":[[0,\"#8e0152\"],[0.1,\"#c51b7d\"],[0.2,\"#de77ae\"],[0.3,\"#f1b6da\"],[0.4,\"#fde0ef\"],[0.5,\"#f7f7f7\"],[0.6,\"#e6f5d0\"],[0.7,\"#b8e186\"],[0.8,\"#7fbc41\"],[0.9,\"#4d9221\"],[1,\"#276419\"]],\"sequential\":[[0.0,\"#0d0887\"],[0.1111111111111111,\"#46039f\"],[0.2222222222222222,\"#7201a8\"],[0.3333333333333333,\"#9c179e\"],[0.4444444444444444,\"#bd3786\"],[0.5555555555555556,\"#d8576b\"],[0.6666666666666666,\"#ed7953\"],[0.7777777777777778,\"#fb9f3a\"],[0.8888888888888888,\"#fdca26\"],[1.0,\"#f0f921\"]],\"sequentialminus\":[[0.0,\"#0d0887\"],[0.1111111111111111,\"#46039f\"],[0.2222222222222222,\"#7201a8\"],[0.3333333333333333,\"#9c179e\"],[0.4444444444444444,\"#bd3786\"],[0.5555555555555556,\"#d8576b\"],[0.6666666666666666,\"#ed7953\"],[0.7777777777777778,\"#fb9f3a\"],[0.8888888888888888,\"#fdca26\"],[1.0,\"#f0f921\"]]},\"colorway\":[\"#636efa\",\"#EF553B\",\"#00cc96\",\"#ab63fa\",\"#FFA15A\",\"#19d3f3\",\"#FF6692\",\"#B6E880\",\"#FF97FF\",\"#FECB52\"],\"font\":{\"color\":\"#2a3f5f\"},\"geo\":{\"bgcolor\":\"white\",\"lakecolor\":\"white\",\"landcolor\":\"#E5ECF6\",\"showlakes\":true,\"showland\":true,\"subunitcolor\":\"white\"},\"hoverlabel\":{\"align\":\"left\"},\"hovermode\":\"closest\",\"mapbox\":{\"style\":\"light\"},\"paper_bgcolor\":\"white\",\"plot_bgcolor\":\"#E5ECF6\",\"polar\":{\"angularaxis\":{\"gridcolor\":\"white\",\"linecolor\":\"white\",\"ticks\":\"\"},\"bgcolor\":\"#E5ECF6\",\"radialaxis\":{\"gridcolor\":\"white\",\"linecolor\":\"white\",\"ticks\":\"\"}},\"scene\":{\"xaxis\":{\"backgroundcolor\":\"#E5ECF6\",\"gridcolor\":\"white\",\"gridwidth\":2,\"linecolor\":\"white\",\"showbackground\":true,\"ticks\":\"\",\"zerolinecolor\":\"white\"},\"yaxis\":{\"backgroundcolor\":\"#E5ECF6\",\"gridcolor\":\"white\",\"gridwidth\":2,\"linecolor\":\"white\",\"showbackground\":true,\"ticks\":\"\",\"zerolinecolor\":\"white\"},\"zaxis\":{\"backgroundcolor\":\"#E5ECF6\",\"gridcolor\":\"white\",\"gridwidth\":2,\"linecolor\":\"white\",\"showbackground\":true,\"ticks\":\"\",\"zerolinecolor\":\"white\"}},\"shapedefaults\":{\"line\":{\"color\":\"#2a3f5f\"}},\"ternary\":{\"aaxis\":{\"gridcolor\":\"white\",\"linecolor\":\"white\",\"ticks\":\"\"},\"baxis\":{\"gridcolor\":\"white\",\"linecolor\":\"white\",\"ticks\":\"\"},\"bgcolor\":\"#E5ECF6\",\"caxis\":{\"gridcolor\":\"white\",\"linecolor\":\"white\",\"ticks\":\"\"}},\"title\":{\"x\":0.05},\"xaxis\":{\"automargin\":true,\"gridcolor\":\"white\",\"linecolor\":\"white\",\"ticks\":\"\",\"title\":{\"standoff\":15},\"zerolinecolor\":\"white\",\"zerolinewidth\":2},\"yaxis\":{\"automargin\":true,\"gridcolor\":\"white\",\"linecolor\":\"white\",\"ticks\":\"\",\"title\":{\"standoff\":15},\"zerolinecolor\":\"white\",\"zerolinewidth\":2}}},\"xaxis\":{\"anchor\":\"y\",\"domain\":[0.0,1.0],\"title\":{\"text\":\"Price offer vs Cargoboard (%)\"}},\"yaxis\":{\"anchor\":\"x\",\"domain\":[0.0,1.0],\"title\":{\"text\":\"Price offer\"}},\"coloraxis\":{\"colorbar\":{\"title\":{\"text\":\"flag_conversion\"}},\"colorscale\":[[0.0,\"rgb(165,0,38)\"],[0.1,\"rgb(215,48,39)\"],[0.2,\"rgb(244,109,67)\"],[0.3,\"rgb(253,174,97)\"],[0.4,\"rgb(254,224,139)\"],[0.5,\"rgb(255,255,191)\"],[0.6,\"rgb(217,239,139)\"],[0.7,\"rgb(166,217,106)\"],[0.8,\"rgb(102,189,99)\"],[0.9,\"rgb(26,152,80)\"],[1.0,\"rgb(0,104,55)\"]]},\"legend\":{\"tracegroupgap\":0,\"orientation\":\"h\",\"yanchor\":\"bottom\",\"y\":0.999,\"x\":0.01},\"margin\":{\"t\":120},\"title\":{\"text\":\"Spot Funnel offer price vs Cargoboard\"},\"height\":400,\"width\":600,\"showlegend\":false},                        {\"responsive\": true}                    ).then(function(){\n",
       "                            \n",
       "var gd = document.getElementById('577335e9-a533-4cb8-b33e-49a05d1ded14');\n",
       "var x = new MutationObserver(function (mutations, observer) {{\n",
       "        var display = window.getComputedStyle(gd).display;\n",
       "        if (!display || display === 'none') {{\n",
       "            console.log([gd, 'removed!']);\n",
       "            Plotly.purge(gd);\n",
       "            observer.disconnect();\n",
       "        }}\n",
       "}});\n",
       "\n",
       "// Listen for the removal of the full notebook cells\n",
       "var notebookContainer = gd.closest('#notebook-container');\n",
       "if (notebookContainer) {{\n",
       "    x.observe(notebookContainer, {childList: true});\n",
       "}}\n",
       "\n",
       "// Listen for the clearing of the current output cell\n",
       "var outputEl = gd.closest('.output');\n",
       "if (outputEl) {{\n",
       "    x.observe(outputEl, {childList: true});\n",
       "}}\n",
       "\n",
       "                        })                };                });            </script>        </div>"
      ]
     },
     "metadata": {},
     "output_type": "display_data"
    }
   ],
   "source": [
    "import pandas as pd\n",
    "import plotly.express as px\n",
    "\n",
    "# Sample DataFrame (replace with your own data)\n",
    "scatter_data = final_df[pd.to_numeric(final_df['price_difference'], errors='coerce').notnull()]\n",
    "#scatter_data=scatter_data[(scatter_data['price_difference'])<50]\n",
    "# Create a scatter plot for each category\n",
    "\n",
    "# Define color mapping dictionary\n",
    "\n",
    "fig = px.scatter(scatter_data, x='price_difference', y='price',\n",
    "                 color='flag_conversion',\n",
    "                color_discrete_map={1: 'red', 0: 'green'},\n",
    "                color_continuous_scale='RdYlGn',\n",
    "               #  symbol='truck_type', \n",
    "                 hover_data=['shipment_id', 'name'],\n",
    "                 labels={'price_difference': 'Price difference', 'price': 'Price'})\n",
    "\n",
    "\n",
    "# Add labels and title\n",
    "fig.update_layout(\n",
    "    title='Spot Funnel offer price vs Cargoboard',\n",
    "    xaxis_title='Price offer vs Cargoboard (%)', yaxis_title='Price offer',\n",
    "    legend=dict(orientation=\"h\", yanchor=\"bottom\", y=.999, x=0.01),\n",
    "    height=400, width=600,\n",
    "    showlegend=False,\n",
    "    margin=dict(t=120) )\n",
    "#fig.update_traces(showlegend=False)\n",
    "# Display the plot\n",
    "fig.show()"
   ]
  },
  {
   "cell_type": "code",
   "execution_count": null,
   "id": "aac1652f-a1ca-4bb5-8832-67a1aa75ba3d",
   "metadata": {},
   "outputs": [],
   "source": []
  },
  {
   "cell_type": "code",
   "execution_count": 431,
   "id": "f3bc8f39-53a3-4e77-a46f-4cd533013af8",
   "metadata": {},
   "outputs": [
    {
     "data": {
      "application/vnd.plotly.v1+json": {
       "config": {
        "plotlyServerURL": "https://plot.ly"
       },
       "data": [
        {
         "alignmentgroup": "True",
         "bingroup": "x",
         "hovertemplate": "flag_conversion=1<br>price_difference=%{x}<br>count=%{y}<extra></extra>",
         "legendgroup": "1",
         "marker": {
          "color": "#636efa",
          "pattern": {
           "shape": ""
          }
         },
         "name": "1",
         "offsetgroup": "1",
         "orientation": "v",
         "showlegend": true,
         "type": "histogram",
         "x": [
          5.031382871026513,
          -21.735870278376613,
          -22.884336059934263,
          -18.915631714799254,
          -15.821307805877026,
          -15.821307805877026,
          -15.821307805877026,
          -15.821307805877026,
          -15.821307805877026,
          -15.257562085605548,
          -25.094293066375272,
          -46.70687166917947,
          -19.076785786719675,
          -28.671328671328666,
          -28.671328671328666,
          -38.07614250434017,
          -28.671328671328666,
          -28.671328671328666,
          -28.671328671328666,
          -38.82810508727379,
          -27.856447035902356,
          1.783684964672183,
          -25.25047372774003,
          32.80083751769063,
          -22.97236067059356,
          -13.962536601018815,
          3.9628704034273543,
          6.738408344826263,
          -13.546480555817542,
          -5.6920110654707035,
          -19.01053399412156,
          -21.09872611464968,
          -18.482140307797735,
          -32.197453026095225,
          -32.197453026095225,
          -1.856317649038186,
          -41.52199451768699,
          -27.535133496459586,
          -31.663652388910513,
          -36.741544022721406,
          -16.625514403292186,
          -34.63732681336593,
          -22.807017543859654,
          -6.269298962089376,
          48.504695020910596,
          -22.396933427208012,
          -9.32582177111463,
          -33.87103585152654,
          -24.965286431445154,
          -10.552462093680282,
          -10.552462093680282,
          -1.740259740259742,
          -13.73652133145804,
          -2.1960878435137277,
          -33.23918346385929,
          -13.991540895122977,
          -17.381247523993302,
          -30.002175888594508,
          -55.894145950280674,
          -7.841783154335246,
          4.0786302313206235,
          -23.91378720492644,
          -33.742331288343564,
          -32.70556622785824,
          -33.71665037742518,
          -22.97236067059356,
          -12.436103268190957,
          -6.980624439485272,
          -33.64776370681224,
          -39.321041954652344,
          -13.543339054051561,
          6.986251689690426,
          -37.702602365127944,
          162.81833616298812,
          -34.847110821542714,
          -38.50972204097612,
          -16.896120150187734,
          -60.399636693914616,
          -30.458929705617354,
          -12.303843529679327,
          -24.520929902143617,
          -17.78914684140156,
          -33.17120808839018,
          -15.986877105869834,
          -27.111619265399455,
          -15.251023813135156,
          3.295388088729312,
          -37.8979139028728,
          -42.87652794344557,
          -19.658853389071375,
          -25.37087953590961,
          -41.016384337683974,
          2.911006376490155,
          -30.24663483248623,
          -21.078902262153655,
          -21.078902262153655,
          -41.18308772719238,
          -31.663652388910513,
          -12.316135502562952,
          -33.98601398601399,
          -27.453127351416427,
          -34.32203389830508,
          6.961799357372378,
          -17.730449635686984,
          -9.387620955763843,
          -41.2946083732427,
          -58.02110463367654,
          -11.402231926249396,
          -15.522854725126578,
          -9.29893520825259,
          -23.897581792318633,
          -9.590028405477591,
          -1.5118425316669737,
          -37.29372937293729,
          -5.717839831853477,
          -62.61616528576953,
          -35.424889714418384
         ],
         "xaxis": "x",
         "yaxis": "y"
        },
        {
         "alignmentgroup": "True",
         "bingroup": "x",
         "hovertemplate": "flag_conversion=0<br>price_difference=%{x}<br>count=%{y}<extra></extra>",
         "legendgroup": "0",
         "marker": {
          "color": "#EF553B",
          "pattern": {
           "shape": ""
          }
         },
         "name": "0",
         "offsetgroup": "0",
         "orientation": "v",
         "showlegend": true,
         "type": "histogram",
         "x": [
          -21.735870278376613,
          -7.590759075907593,
          -18.39479878937339,
          -18.39479878937339,
          -11.504424778761068,
          -37.08515641277496,
          -12.823311968352458,
          -33.918105652362044,
          -35.341045612235256,
          -18.915631714799254,
          -35.341045612235256,
          -19.278904625524728,
          -14.678605692356895,
          -19.076785786719675,
          -37.58710907890554,
          -17.186250999200638,
          -32.91845146690374,
          -11.88513622009314,
          -35.341045612235256,
          -4.535180108690429,
          -35.112941363361415,
          -35.112941363361415,
          -35.341045612235256,
          -35.341045612235256,
          -40.07585691524611,
          -25.638956147430726,
          -38.82810508727379,
          -38.82810508727379,
          -38.82810508727379,
          -16.20062139369729,
          -61.41280897491216,
          -40.07585691524611,
          -40.07585691524611,
          -34.711237128786756,
          -40.273086971886066,
          -6.653490020839159,
          -40.273086971886066,
          -0.6340493990725893,
          -38.82810508727379,
          -38.82810508727379,
          -15.766513128125393,
          -25.29395205820576,
          -26.773455377574372,
          -16.87905209031969,
          -32.39817475071827,
          -16.87905209031969,
          -31.735328456718047,
          -34.63732681336593,
          -30.165368228165434,
          -27.247125088007508,
          -29.901843428297823,
          -29.901843428297823,
          -32.39817475071827,
          -2.444208289054195,
          -12.825585229146064,
          -20.378568157533206,
          -28.516430764550993,
          -36.07769619330313,
          -55.894145950280674,
          -33.742331288343564,
          -33.01038062283737,
          -34.04142470522636,
          -34.04142470522636,
          -32.39817475071827,
          -27.00384501626738,
          -18.362383461694364,
          -27.00384501626738,
          -27.00384501626738,
          -18.79278158058494,
          -1.8181818181818188,
          -35.700649102710955,
          36.27088161034828,
          -16.725476358503887,
          -14.492643713028974,
          -17.717218992979543,
          -18.453086286760744,
          -30.79310781705309,
          -28.419452887538,
          -3.112620260328236,
          -31.92612137203166,
          -7.124731099689551,
          -20.81691852374512,
          -38.14520044755009,
          -24.135086177520314,
          -12.275594371664244,
          -33.69669045344721,
          -7.970244420828909,
          -12.316135502562952,
          -11.32010650176072,
          -35.119925695241214,
          -35.119925695241214,
          -14.753884461068411,
          -15.766513128125393,
          -15.766513128125393,
          -7.611254628981556,
          -11.32010650176072,
          -34.61528217966815,
          -31.022236791782763,
          -33.76667807047554,
          7.918394925020178,
          -14.190790587438629,
          -37.94695694210605,
          -37.94695694210605,
          -37.94695694210605,
          -28.203674838222092,
          0.6671713826062353,
          -6.430396517460013
         ],
         "xaxis": "x",
         "yaxis": "y"
        }
       ],
       "layout": {
        "autosize": true,
        "barmode": "relative",
        "legend": {
         "title": {
          "text": "flag_conversion"
         },
         "tracegroupgap": 0
        },
        "margin": {
         "t": 60
        },
        "template": {
         "data": {
          "bar": [
           {
            "error_x": {
             "color": "#2a3f5f"
            },
            "error_y": {
             "color": "#2a3f5f"
            },
            "marker": {
             "line": {
              "color": "#E5ECF6",
              "width": 0.5
             },
             "pattern": {
              "fillmode": "overlay",
              "size": 10,
              "solidity": 0.2
             }
            },
            "type": "bar"
           }
          ],
          "barpolar": [
           {
            "marker": {
             "line": {
              "color": "#E5ECF6",
              "width": 0.5
             },
             "pattern": {
              "fillmode": "overlay",
              "size": 10,
              "solidity": 0.2
             }
            },
            "type": "barpolar"
           }
          ],
          "carpet": [
           {
            "aaxis": {
             "endlinecolor": "#2a3f5f",
             "gridcolor": "white",
             "linecolor": "white",
             "minorgridcolor": "white",
             "startlinecolor": "#2a3f5f"
            },
            "baxis": {
             "endlinecolor": "#2a3f5f",
             "gridcolor": "white",
             "linecolor": "white",
             "minorgridcolor": "white",
             "startlinecolor": "#2a3f5f"
            },
            "type": "carpet"
           }
          ],
          "choropleth": [
           {
            "colorbar": {
             "outlinewidth": 0,
             "ticks": ""
            },
            "type": "choropleth"
           }
          ],
          "contour": [
           {
            "colorbar": {
             "outlinewidth": 0,
             "ticks": ""
            },
            "colorscale": [
             [
              0,
              "#0d0887"
             ],
             [
              0.1111111111111111,
              "#46039f"
             ],
             [
              0.2222222222222222,
              "#7201a8"
             ],
             [
              0.3333333333333333,
              "#9c179e"
             ],
             [
              0.4444444444444444,
              "#bd3786"
             ],
             [
              0.5555555555555556,
              "#d8576b"
             ],
             [
              0.6666666666666666,
              "#ed7953"
             ],
             [
              0.7777777777777778,
              "#fb9f3a"
             ],
             [
              0.8888888888888888,
              "#fdca26"
             ],
             [
              1,
              "#f0f921"
             ]
            ],
            "type": "contour"
           }
          ],
          "contourcarpet": [
           {
            "colorbar": {
             "outlinewidth": 0,
             "ticks": ""
            },
            "type": "contourcarpet"
           }
          ],
          "heatmap": [
           {
            "colorbar": {
             "outlinewidth": 0,
             "ticks": ""
            },
            "colorscale": [
             [
              0,
              "#0d0887"
             ],
             [
              0.1111111111111111,
              "#46039f"
             ],
             [
              0.2222222222222222,
              "#7201a8"
             ],
             [
              0.3333333333333333,
              "#9c179e"
             ],
             [
              0.4444444444444444,
              "#bd3786"
             ],
             [
              0.5555555555555556,
              "#d8576b"
             ],
             [
              0.6666666666666666,
              "#ed7953"
             ],
             [
              0.7777777777777778,
              "#fb9f3a"
             ],
             [
              0.8888888888888888,
              "#fdca26"
             ],
             [
              1,
              "#f0f921"
             ]
            ],
            "type": "heatmap"
           }
          ],
          "heatmapgl": [
           {
            "colorbar": {
             "outlinewidth": 0,
             "ticks": ""
            },
            "colorscale": [
             [
              0,
              "#0d0887"
             ],
             [
              0.1111111111111111,
              "#46039f"
             ],
             [
              0.2222222222222222,
              "#7201a8"
             ],
             [
              0.3333333333333333,
              "#9c179e"
             ],
             [
              0.4444444444444444,
              "#bd3786"
             ],
             [
              0.5555555555555556,
              "#d8576b"
             ],
             [
              0.6666666666666666,
              "#ed7953"
             ],
             [
              0.7777777777777778,
              "#fb9f3a"
             ],
             [
              0.8888888888888888,
              "#fdca26"
             ],
             [
              1,
              "#f0f921"
             ]
            ],
            "type": "heatmapgl"
           }
          ],
          "histogram": [
           {
            "marker": {
             "pattern": {
              "fillmode": "overlay",
              "size": 10,
              "solidity": 0.2
             }
            },
            "type": "histogram"
           }
          ],
          "histogram2d": [
           {
            "colorbar": {
             "outlinewidth": 0,
             "ticks": ""
            },
            "colorscale": [
             [
              0,
              "#0d0887"
             ],
             [
              0.1111111111111111,
              "#46039f"
             ],
             [
              0.2222222222222222,
              "#7201a8"
             ],
             [
              0.3333333333333333,
              "#9c179e"
             ],
             [
              0.4444444444444444,
              "#bd3786"
             ],
             [
              0.5555555555555556,
              "#d8576b"
             ],
             [
              0.6666666666666666,
              "#ed7953"
             ],
             [
              0.7777777777777778,
              "#fb9f3a"
             ],
             [
              0.8888888888888888,
              "#fdca26"
             ],
             [
              1,
              "#f0f921"
             ]
            ],
            "type": "histogram2d"
           }
          ],
          "histogram2dcontour": [
           {
            "colorbar": {
             "outlinewidth": 0,
             "ticks": ""
            },
            "colorscale": [
             [
              0,
              "#0d0887"
             ],
             [
              0.1111111111111111,
              "#46039f"
             ],
             [
              0.2222222222222222,
              "#7201a8"
             ],
             [
              0.3333333333333333,
              "#9c179e"
             ],
             [
              0.4444444444444444,
              "#bd3786"
             ],
             [
              0.5555555555555556,
              "#d8576b"
             ],
             [
              0.6666666666666666,
              "#ed7953"
             ],
             [
              0.7777777777777778,
              "#fb9f3a"
             ],
             [
              0.8888888888888888,
              "#fdca26"
             ],
             [
              1,
              "#f0f921"
             ]
            ],
            "type": "histogram2dcontour"
           }
          ],
          "mesh3d": [
           {
            "colorbar": {
             "outlinewidth": 0,
             "ticks": ""
            },
            "type": "mesh3d"
           }
          ],
          "parcoords": [
           {
            "line": {
             "colorbar": {
              "outlinewidth": 0,
              "ticks": ""
             }
            },
            "type": "parcoords"
           }
          ],
          "pie": [
           {
            "automargin": true,
            "type": "pie"
           }
          ],
          "scatter": [
           {
            "marker": {
             "colorbar": {
              "outlinewidth": 0,
              "ticks": ""
             }
            },
            "type": "scatter"
           }
          ],
          "scatter3d": [
           {
            "line": {
             "colorbar": {
              "outlinewidth": 0,
              "ticks": ""
             }
            },
            "marker": {
             "colorbar": {
              "outlinewidth": 0,
              "ticks": ""
             }
            },
            "type": "scatter3d"
           }
          ],
          "scattercarpet": [
           {
            "marker": {
             "colorbar": {
              "outlinewidth": 0,
              "ticks": ""
             }
            },
            "type": "scattercarpet"
           }
          ],
          "scattergeo": [
           {
            "marker": {
             "colorbar": {
              "outlinewidth": 0,
              "ticks": ""
             }
            },
            "type": "scattergeo"
           }
          ],
          "scattergl": [
           {
            "marker": {
             "colorbar": {
              "outlinewidth": 0,
              "ticks": ""
             }
            },
            "type": "scattergl"
           }
          ],
          "scattermapbox": [
           {
            "marker": {
             "colorbar": {
              "outlinewidth": 0,
              "ticks": ""
             }
            },
            "type": "scattermapbox"
           }
          ],
          "scatterpolar": [
           {
            "marker": {
             "colorbar": {
              "outlinewidth": 0,
              "ticks": ""
             }
            },
            "type": "scatterpolar"
           }
          ],
          "scatterpolargl": [
           {
            "marker": {
             "colorbar": {
              "outlinewidth": 0,
              "ticks": ""
             }
            },
            "type": "scatterpolargl"
           }
          ],
          "scatterternary": [
           {
            "marker": {
             "colorbar": {
              "outlinewidth": 0,
              "ticks": ""
             }
            },
            "type": "scatterternary"
           }
          ],
          "surface": [
           {
            "colorbar": {
             "outlinewidth": 0,
             "ticks": ""
            },
            "colorscale": [
             [
              0,
              "#0d0887"
             ],
             [
              0.1111111111111111,
              "#46039f"
             ],
             [
              0.2222222222222222,
              "#7201a8"
             ],
             [
              0.3333333333333333,
              "#9c179e"
             ],
             [
              0.4444444444444444,
              "#bd3786"
             ],
             [
              0.5555555555555556,
              "#d8576b"
             ],
             [
              0.6666666666666666,
              "#ed7953"
             ],
             [
              0.7777777777777778,
              "#fb9f3a"
             ],
             [
              0.8888888888888888,
              "#fdca26"
             ],
             [
              1,
              "#f0f921"
             ]
            ],
            "type": "surface"
           }
          ],
          "table": [
           {
            "cells": {
             "fill": {
              "color": "#EBF0F8"
             },
             "line": {
              "color": "white"
             }
            },
            "header": {
             "fill": {
              "color": "#C8D4E3"
             },
             "line": {
              "color": "white"
             }
            },
            "type": "table"
           }
          ]
         },
         "layout": {
          "annotationdefaults": {
           "arrowcolor": "#2a3f5f",
           "arrowhead": 0,
           "arrowwidth": 1
          },
          "autotypenumbers": "strict",
          "coloraxis": {
           "colorbar": {
            "outlinewidth": 0,
            "ticks": ""
           }
          },
          "colorscale": {
           "diverging": [
            [
             0,
             "#8e0152"
            ],
            [
             0.1,
             "#c51b7d"
            ],
            [
             0.2,
             "#de77ae"
            ],
            [
             0.3,
             "#f1b6da"
            ],
            [
             0.4,
             "#fde0ef"
            ],
            [
             0.5,
             "#f7f7f7"
            ],
            [
             0.6,
             "#e6f5d0"
            ],
            [
             0.7,
             "#b8e186"
            ],
            [
             0.8,
             "#7fbc41"
            ],
            [
             0.9,
             "#4d9221"
            ],
            [
             1,
             "#276419"
            ]
           ],
           "sequential": [
            [
             0,
             "#0d0887"
            ],
            [
             0.1111111111111111,
             "#46039f"
            ],
            [
             0.2222222222222222,
             "#7201a8"
            ],
            [
             0.3333333333333333,
             "#9c179e"
            ],
            [
             0.4444444444444444,
             "#bd3786"
            ],
            [
             0.5555555555555556,
             "#d8576b"
            ],
            [
             0.6666666666666666,
             "#ed7953"
            ],
            [
             0.7777777777777778,
             "#fb9f3a"
            ],
            [
             0.8888888888888888,
             "#fdca26"
            ],
            [
             1,
             "#f0f921"
            ]
           ],
           "sequentialminus": [
            [
             0,
             "#0d0887"
            ],
            [
             0.1111111111111111,
             "#46039f"
            ],
            [
             0.2222222222222222,
             "#7201a8"
            ],
            [
             0.3333333333333333,
             "#9c179e"
            ],
            [
             0.4444444444444444,
             "#bd3786"
            ],
            [
             0.5555555555555556,
             "#d8576b"
            ],
            [
             0.6666666666666666,
             "#ed7953"
            ],
            [
             0.7777777777777778,
             "#fb9f3a"
            ],
            [
             0.8888888888888888,
             "#fdca26"
            ],
            [
             1,
             "#f0f921"
            ]
           ]
          },
          "colorway": [
           "#636efa",
           "#EF553B",
           "#00cc96",
           "#ab63fa",
           "#FFA15A",
           "#19d3f3",
           "#FF6692",
           "#B6E880",
           "#FF97FF",
           "#FECB52"
          ],
          "font": {
           "color": "#2a3f5f"
          },
          "geo": {
           "bgcolor": "white",
           "lakecolor": "white",
           "landcolor": "#E5ECF6",
           "showlakes": true,
           "showland": true,
           "subunitcolor": "white"
          },
          "hoverlabel": {
           "align": "left"
          },
          "hovermode": "closest",
          "mapbox": {
           "style": "light"
          },
          "paper_bgcolor": "white",
          "plot_bgcolor": "#E5ECF6",
          "polar": {
           "angularaxis": {
            "gridcolor": "white",
            "linecolor": "white",
            "ticks": ""
           },
           "bgcolor": "#E5ECF6",
           "radialaxis": {
            "gridcolor": "white",
            "linecolor": "white",
            "ticks": ""
           }
          },
          "scene": {
           "xaxis": {
            "backgroundcolor": "#E5ECF6",
            "gridcolor": "white",
            "gridwidth": 2,
            "linecolor": "white",
            "showbackground": true,
            "ticks": "",
            "zerolinecolor": "white"
           },
           "yaxis": {
            "backgroundcolor": "#E5ECF6",
            "gridcolor": "white",
            "gridwidth": 2,
            "linecolor": "white",
            "showbackground": true,
            "ticks": "",
            "zerolinecolor": "white"
           },
           "zaxis": {
            "backgroundcolor": "#E5ECF6",
            "gridcolor": "white",
            "gridwidth": 2,
            "linecolor": "white",
            "showbackground": true,
            "ticks": "",
            "zerolinecolor": "white"
           }
          },
          "shapedefaults": {
           "line": {
            "color": "#2a3f5f"
           }
          },
          "ternary": {
           "aaxis": {
            "gridcolor": "white",
            "linecolor": "white",
            "ticks": ""
           },
           "baxis": {
            "gridcolor": "white",
            "linecolor": "white",
            "ticks": ""
           },
           "bgcolor": "#E5ECF6",
           "caxis": {
            "gridcolor": "white",
            "linecolor": "white",
            "ticks": ""
           }
          },
          "title": {
           "x": 0.05
          },
          "xaxis": {
           "automargin": true,
           "gridcolor": "white",
           "linecolor": "white",
           "ticks": "",
           "title": {
            "standoff": 15
           },
           "zerolinecolor": "white",
           "zerolinewidth": 2
          },
          "yaxis": {
           "automargin": true,
           "gridcolor": "white",
           "linecolor": "white",
           "ticks": "",
           "title": {
            "standoff": 15
           },
           "zerolinecolor": "white",
           "zerolinewidth": 2
          }
         }
        },
        "xaxis": {
         "anchor": "y",
         "autorange": true,
         "domain": [
          0,
          1
         ],
         "range": [
          -65,
          165
         ],
         "title": {
          "text": "price_difference"
         },
         "type": "linear"
        },
        "yaxis": {
         "anchor": "x",
         "autorange": true,
         "domain": [
          0,
          1
         ],
         "range": [
          0,
          38.94736842105263
         ],
         "title": {
          "text": "count"
         }
        }
       }
      },
      "image/png": "[encoded data removed]",
      "text/html": [
       "<div>                            <div id=\"8f232007-0d4a-443f-b4af-254eecc33743\" class=\"plotly-graph-div\" style=\"height:525px; width:100%;\"></div>            <script type=\"text/javascript\">                require([\"plotly\"], function(Plotly) {                    window.PLOTLYENV=window.PLOTLYENV || {};                                    if (document.getElementById(\"8f232007-0d4a-443f-b4af-254eecc33743\")) {                    Plotly.newPlot(                        \"8f232007-0d4a-443f-b4af-254eecc33743\",                        [{\"alignmentgroup\":\"True\",\"bingroup\":\"x\",\"hovertemplate\":\"flag_conversion=1<br>price_difference=%{x}<br>count=%{y}<extra></extra>\",\"legendgroup\":\"1\",\"marker\":{\"color\":\"#636efa\",\"pattern\":{\"shape\":\"\"}},\"name\":\"1\",\"offsetgroup\":\"1\",\"orientation\":\"v\",\"showlegend\":true,\"x\":[5.031382871026513,-21.735870278376613,-22.884336059934263,-18.915631714799254,-15.821307805877026,-15.821307805877026,-15.821307805877026,-15.821307805877026,-15.821307805877026,-15.257562085605548,-25.094293066375272,-46.70687166917947,-19.076785786719675,-28.671328671328666,-28.671328671328666,-38.07614250434017,-28.671328671328666,-28.671328671328666,-28.671328671328666,-38.82810508727379,-27.856447035902356,1.783684964672183,-25.25047372774003,32.80083751769063,-22.97236067059356,-13.962536601018815,3.9628704034273543,6.738408344826263,-13.546480555817542,-5.6920110654707035,-19.01053399412156,-21.09872611464968,-18.482140307797735,-32.197453026095225,-32.197453026095225,-1.856317649038186,-41.52199451768699,-27.535133496459586,-31.663652388910513,-36.741544022721406,-16.625514403292186,-34.63732681336593,-22.807017543859654,-6.269298962089376,48.504695020910596,-22.396933427208012,-9.32582177111463,-33.87103585152654,-24.965286431445154,-10.552462093680282,-10.552462093680282,-1.740259740259742,-13.73652133145804,-2.1960878435137277,-33.23918346385929,-13.991540895122977,-17.381247523993302,-30.002175888594508,-55.894145950280674,-7.841783154335246,4.0786302313206235,-23.91378720492644,-33.742331288343564,-32.70556622785824,-33.71665037742518,-22.97236067059356,-12.436103268190957,-6.980624439485272,-33.64776370681224,-39.321041954652344,-13.543339054051561,6.986251689690426,-37.702602365127944,162.81833616298812,-34.847110821542714,-38.50972204097612,-16.896120150187734,-60.399636693914616,-30.458929705617354,-12.303843529679327,-24.520929902143617,-17.78914684140156,-33.17120808839018,-15.986877105869834,-27.111619265399455,-15.251023813135156,3.295388088729312,-37.8979139028728,-42.87652794344557,-19.658853389071375,-25.37087953590961,-41.016384337683974,2.911006376490155,-30.24663483248623,-21.078902262153655,-21.078902262153655,-41.18308772719238,-31.663652388910513,-12.316135502562952,-33.98601398601399,-27.453127351416427,-34.32203389830508,6.961799357372378,-17.730449635686984,-9.387620955763843,-41.2946083732427,-58.02110463367654,-11.402231926249396,-15.522854725126578,-9.29893520825259,-23.897581792318633,-9.590028405477591,-1.5118425316669737,-37.29372937293729,-5.717839831853477,-62.61616528576953,-35.424889714418384],\"xaxis\":\"x\",\"yaxis\":\"y\",\"type\":\"histogram\"},{\"alignmentgroup\":\"True\",\"bingroup\":\"x\",\"hovertemplate\":\"flag_conversion=0<br>price_difference=%{x}<br>count=%{y}<extra></extra>\",\"legendgroup\":\"0\",\"marker\":{\"color\":\"#EF553B\",\"pattern\":{\"shape\":\"\"}},\"name\":\"0\",\"offsetgroup\":\"0\",\"orientation\":\"v\",\"showlegend\":true,\"x\":[-21.735870278376613,-7.590759075907593,-18.39479878937339,-18.39479878937339,-11.504424778761068,-37.08515641277496,-12.823311968352458,-33.918105652362044,-35.341045612235256,-18.915631714799254,-35.341045612235256,-19.278904625524728,-14.678605692356895,-19.076785786719675,-37.58710907890554,-17.186250999200638,-32.91845146690374,-11.88513622009314,-35.341045612235256,-4.535180108690429,-35.112941363361415,-35.112941363361415,-35.341045612235256,-35.341045612235256,-40.07585691524611,-25.638956147430726,-38.82810508727379,-38.82810508727379,-38.82810508727379,-16.20062139369729,-61.41280897491216,-40.07585691524611,-40.07585691524611,-34.711237128786756,-40.273086971886066,-6.653490020839159,-40.273086971886066,-0.6340493990725893,-38.82810508727379,-38.82810508727379,-15.766513128125393,-25.29395205820576,-26.773455377574372,-16.87905209031969,-32.39817475071827,-16.87905209031969,-31.735328456718047,-34.63732681336593,-30.165368228165434,-27.247125088007508,-29.901843428297823,-29.901843428297823,-32.39817475071827,-2.444208289054195,-12.825585229146064,-20.378568157533206,-28.516430764550993,-36.07769619330313,-55.894145950280674,-33.742331288343564,-33.01038062283737,-34.04142470522636,-34.04142470522636,-32.39817475071827,-27.00384501626738,-18.362383461694364,-27.00384501626738,-27.00384501626738,-18.79278158058494,-1.8181818181818188,-35.700649102710955,36.27088161034828,-16.725476358503887,-14.492643713028974,-17.717218992979543,-18.453086286760744,-30.79310781705309,-28.419452887538,-3.112620260328236,-31.92612137203166,-7.124731099689551,-20.81691852374512,-38.14520044755009,-24.135086177520314,-12.275594371664244,-33.69669045344721,-7.970244420828909,-12.316135502562952,-11.32010650176072,-35.119925695241214,-35.119925695241214,-14.753884461068411,-15.766513128125393,-15.766513128125393,-7.611254628981556,-11.32010650176072,-34.61528217966815,-31.022236791782763,-33.76667807047554,7.918394925020178,-14.190790587438629,-37.94695694210605,-37.94695694210605,-37.94695694210605,-28.203674838222092,0.6671713826062353,-6.430396517460013],\"xaxis\":\"x\",\"yaxis\":\"y\",\"type\":\"histogram\"}],                        {\"template\":{\"data\":{\"bar\":[{\"error_x\":{\"color\":\"#2a3f5f\"},\"error_y\":{\"color\":\"#2a3f5f\"},\"marker\":{\"line\":{\"color\":\"#E5ECF6\",\"width\":0.5},\"pattern\":{\"fillmode\":\"overlay\",\"size\":10,\"solidity\":0.2}},\"type\":\"bar\"}],\"barpolar\":[{\"marker\":{\"line\":{\"color\":\"#E5ECF6\",\"width\":0.5},\"pattern\":{\"fillmode\":\"overlay\",\"size\":10,\"solidity\":0.2}},\"type\":\"barpolar\"}],\"carpet\":[{\"aaxis\":{\"endlinecolor\":\"#2a3f5f\",\"gridcolor\":\"white\",\"linecolor\":\"white\",\"minorgridcolor\":\"white\",\"startlinecolor\":\"#2a3f5f\"},\"baxis\":{\"endlinecolor\":\"#2a3f5f\",\"gridcolor\":\"white\",\"linecolor\":\"white\",\"minorgridcolor\":\"white\",\"startlinecolor\":\"#2a3f5f\"},\"type\":\"carpet\"}],\"choropleth\":[{\"colorbar\":{\"outlinewidth\":0,\"ticks\":\"\"},\"type\":\"choropleth\"}],\"contour\":[{\"colorbar\":{\"outlinewidth\":0,\"ticks\":\"\"},\"colorscale\":[[0.0,\"#0d0887\"],[0.1111111111111111,\"#46039f\"],[0.2222222222222222,\"#7201a8\"],[0.3333333333333333,\"#9c179e\"],[0.4444444444444444,\"#bd3786\"],[0.5555555555555556,\"#d8576b\"],[0.6666666666666666,\"#ed7953\"],[0.7777777777777778,\"#fb9f3a\"],[0.8888888888888888,\"#fdca26\"],[1.0,\"#f0f921\"]],\"type\":\"contour\"}],\"contourcarpet\":[{\"colorbar\":{\"outlinewidth\":0,\"ticks\":\"\"},\"type\":\"contourcarpet\"}],\"heatmap\":[{\"colorbar\":{\"outlinewidth\":0,\"ticks\":\"\"},\"colorscale\":[[0.0,\"#0d0887\"],[0.1111111111111111,\"#46039f\"],[0.2222222222222222,\"#7201a8\"],[0.3333333333333333,\"#9c179e\"],[0.4444444444444444,\"#bd3786\"],[0.5555555555555556,\"#d8576b\"],[0.6666666666666666,\"#ed7953\"],[0.7777777777777778,\"#fb9f3a\"],[0.8888888888888888,\"#fdca26\"],[1.0,\"#f0f921\"]],\"type\":\"heatmap\"}],\"heatmapgl\":[{\"colorbar\":{\"outlinewidth\":0,\"ticks\":\"\"},\"colorscale\":[[0.0,\"#0d0887\"],[0.1111111111111111,\"#46039f\"],[0.2222222222222222,\"#7201a8\"],[0.3333333333333333,\"#9c179e\"],[0.4444444444444444,\"#bd3786\"],[0.5555555555555556,\"#d8576b\"],[0.6666666666666666,\"#ed7953\"],[0.7777777777777778,\"#fb9f3a\"],[0.8888888888888888,\"#fdca26\"],[1.0,\"#f0f921\"]],\"type\":\"heatmapgl\"}],\"histogram\":[{\"marker\":{\"pattern\":{\"fillmode\":\"overlay\",\"size\":10,\"solidity\":0.2}},\"type\":\"histogram\"}],\"histogram2d\":[{\"colorbar\":{\"outlinewidth\":0,\"ticks\":\"\"},\"colorscale\":[[0.0,\"#0d0887\"],[0.1111111111111111,\"#46039f\"],[0.2222222222222222,\"#7201a8\"],[0.3333333333333333,\"#9c179e\"],[0.4444444444444444,\"#bd3786\"],[0.5555555555555556,\"#d8576b\"],[0.6666666666666666,\"#ed7953\"],[0.7777777777777778,\"#fb9f3a\"],[0.8888888888888888,\"#fdca26\"],[1.0,\"#f0f921\"]],\"type\":\"histogram2d\"}],\"histogram2dcontour\":[{\"colorbar\":{\"outlinewidth\":0,\"ticks\":\"\"},\"colorscale\":[[0.0,\"#0d0887\"],[0.1111111111111111,\"#46039f\"],[0.2222222222222222,\"#7201a8\"],[0.3333333333333333,\"#9c179e\"],[0.4444444444444444,\"#bd3786\"],[0.5555555555555556,\"#d8576b\"],[0.6666666666666666,\"#ed7953\"],[0.7777777777777778,\"#fb9f3a\"],[0.8888888888888888,\"#fdca26\"],[1.0,\"#f0f921\"]],\"type\":\"histogram2dcontour\"}],\"mesh3d\":[{\"colorbar\":{\"outlinewidth\":0,\"ticks\":\"\"},\"type\":\"mesh3d\"}],\"parcoords\":[{\"line\":{\"colorbar\":{\"outlinewidth\":0,\"ticks\":\"\"}},\"type\":\"parcoords\"}],\"pie\":[{\"automargin\":true,\"type\":\"pie\"}],\"scatter\":[{\"marker\":{\"colorbar\":{\"outlinewidth\":0,\"ticks\":\"\"}},\"type\":\"scatter\"}],\"scatter3d\":[{\"line\":{\"colorbar\":{\"outlinewidth\":0,\"ticks\":\"\"}},\"marker\":{\"colorbar\":{\"outlinewidth\":0,\"ticks\":\"\"}},\"type\":\"scatter3d\"}],\"scattercarpet\":[{\"marker\":{\"colorbar\":{\"outlinewidth\":0,\"ticks\":\"\"}},\"type\":\"scattercarpet\"}],\"scattergeo\":[{\"marker\":{\"colorbar\":{\"outlinewidth\":0,\"ticks\":\"\"}},\"type\":\"scattergeo\"}],\"scattergl\":[{\"marker\":{\"colorbar\":{\"outlinewidth\":0,\"ticks\":\"\"}},\"type\":\"scattergl\"}],\"scattermapbox\":[{\"marker\":{\"colorbar\":{\"outlinewidth\":0,\"ticks\":\"\"}},\"type\":\"scattermapbox\"}],\"scatterpolar\":[{\"marker\":{\"colorbar\":{\"outlinewidth\":0,\"ticks\":\"\"}},\"type\":\"scatterpolar\"}],\"scatterpolargl\":[{\"marker\":{\"colorbar\":{\"outlinewidth\":0,\"ticks\":\"\"}},\"type\":\"scatterpolargl\"}],\"scatterternary\":[{\"marker\":{\"colorbar\":{\"outlinewidth\":0,\"ticks\":\"\"}},\"type\":\"scatterternary\"}],\"surface\":[{\"colorbar\":{\"outlinewidth\":0,\"ticks\":\"\"},\"colorscale\":[[0.0,\"#0d0887\"],[0.1111111111111111,\"#46039f\"],[0.2222222222222222,\"#7201a8\"],[0.3333333333333333,\"#9c179e\"],[0.4444444444444444,\"#bd3786\"],[0.5555555555555556,\"#d8576b\"],[0.6666666666666666,\"#ed7953\"],[0.7777777777777778,\"#fb9f3a\"],[0.8888888888888888,\"#fdca26\"],[1.0,\"#f0f921\"]],\"type\":\"surface\"}],\"table\":[{\"cells\":{\"fill\":{\"color\":\"#EBF0F8\"},\"line\":{\"color\":\"white\"}},\"header\":{\"fill\":{\"color\":\"#C8D4E3\"},\"line\":{\"color\":\"white\"}},\"type\":\"table\"}]},\"layout\":{\"annotationdefaults\":{\"arrowcolor\":\"#2a3f5f\",\"arrowhead\":0,\"arrowwidth\":1},\"autotypenumbers\":\"strict\",\"coloraxis\":{\"colorbar\":{\"outlinewidth\":0,\"ticks\":\"\"}},\"colorscale\":{\"diverging\":[[0,\"#8e0152\"],[0.1,\"#c51b7d\"],[0.2,\"#de77ae\"],[0.3,\"#f1b6da\"],[0.4,\"#fde0ef\"],[0.5,\"#f7f7f7\"],[0.6,\"#e6f5d0\"],[0.7,\"#b8e186\"],[0.8,\"#7fbc41\"],[0.9,\"#4d9221\"],[1,\"#276419\"]],\"sequential\":[[0.0,\"#0d0887\"],[0.1111111111111111,\"#46039f\"],[0.2222222222222222,\"#7201a8\"],[0.3333333333333333,\"#9c179e\"],[0.4444444444444444,\"#bd3786\"],[0.5555555555555556,\"#d8576b\"],[0.6666666666666666,\"#ed7953\"],[0.7777777777777778,\"#fb9f3a\"],[0.8888888888888888,\"#fdca26\"],[1.0,\"#f0f921\"]],\"sequentialminus\":[[0.0,\"#0d0887\"],[0.1111111111111111,\"#46039f\"],[0.2222222222222222,\"#7201a8\"],[0.3333333333333333,\"#9c179e\"],[0.4444444444444444,\"#bd3786\"],[0.5555555555555556,\"#d8576b\"],[0.6666666666666666,\"#ed7953\"],[0.7777777777777778,\"#fb9f3a\"],[0.8888888888888888,\"#fdca26\"],[1.0,\"#f0f921\"]]},\"colorway\":[\"#636efa\",\"#EF553B\",\"#00cc96\",\"#ab63fa\",\"#FFA15A\",\"#19d3f3\",\"#FF6692\",\"#B6E880\",\"#FF97FF\",\"#FECB52\"],\"font\":{\"color\":\"#2a3f5f\"},\"geo\":{\"bgcolor\":\"white\",\"lakecolor\":\"white\",\"landcolor\":\"#E5ECF6\",\"showlakes\":true,\"showland\":true,\"subunitcolor\":\"white\"},\"hoverlabel\":{\"align\":\"left\"},\"hovermode\":\"closest\",\"mapbox\":{\"style\":\"light\"},\"paper_bgcolor\":\"white\",\"plot_bgcolor\":\"#E5ECF6\",\"polar\":{\"angularaxis\":{\"gridcolor\":\"white\",\"linecolor\":\"white\",\"ticks\":\"\"},\"bgcolor\":\"#E5ECF6\",\"radialaxis\":{\"gridcolor\":\"white\",\"linecolor\":\"white\",\"ticks\":\"\"}},\"scene\":{\"xaxis\":{\"backgroundcolor\":\"#E5ECF6\",\"gridcolor\":\"white\",\"gridwidth\":2,\"linecolor\":\"white\",\"showbackground\":true,\"ticks\":\"\",\"zerolinecolor\":\"white\"},\"yaxis\":{\"backgroundcolor\":\"#E5ECF6\",\"gridcolor\":\"white\",\"gridwidth\":2,\"linecolor\":\"white\",\"showbackground\":true,\"ticks\":\"\",\"zerolinecolor\":\"white\"},\"zaxis\":{\"backgroundcolor\":\"#E5ECF6\",\"gridcolor\":\"white\",\"gridwidth\":2,\"linecolor\":\"white\",\"showbackground\":true,\"ticks\":\"\",\"zerolinecolor\":\"white\"}},\"shapedefaults\":{\"line\":{\"color\":\"#2a3f5f\"}},\"ternary\":{\"aaxis\":{\"gridcolor\":\"white\",\"linecolor\":\"white\",\"ticks\":\"\"},\"baxis\":{\"gridcolor\":\"white\",\"linecolor\":\"white\",\"ticks\":\"\"},\"bgcolor\":\"#E5ECF6\",\"caxis\":{\"gridcolor\":\"white\",\"linecolor\":\"white\",\"ticks\":\"\"}},\"title\":{\"x\":0.05},\"xaxis\":{\"automargin\":true,\"gridcolor\":\"white\",\"linecolor\":\"white\",\"ticks\":\"\",\"title\":{\"standoff\":15},\"zerolinecolor\":\"white\",\"zerolinewidth\":2},\"yaxis\":{\"automargin\":true,\"gridcolor\":\"white\",\"linecolor\":\"white\",\"ticks\":\"\",\"title\":{\"standoff\":15},\"zerolinecolor\":\"white\",\"zerolinewidth\":2}}},\"xaxis\":{\"anchor\":\"y\",\"domain\":[0.0,1.0],\"title\":{\"text\":\"price_difference\"}},\"yaxis\":{\"anchor\":\"x\",\"domain\":[0.0,1.0],\"title\":{\"text\":\"count\"}},\"legend\":{\"title\":{\"text\":\"flag_conversion\"},\"tracegroupgap\":0},\"margin\":{\"t\":60},\"barmode\":\"relative\"},                        {\"responsive\": true}                    ).then(function(){\n",
       "                            \n",
       "var gd = document.getElementById('8f232007-0d4a-443f-b4af-254eecc33743');\n",
       "var x = new MutationObserver(function (mutations, observer) {{\n",
       "        var display = window.getComputedStyle(gd).display;\n",
       "        if (!display || display === 'none') {{\n",
       "            console.log([gd, 'removed!']);\n",
       "            Plotly.purge(gd);\n",
       "            observer.disconnect();\n",
       "        }}\n",
       "}});\n",
       "\n",
       "// Listen for the removal of the full notebook cells\n",
       "var notebookContainer = gd.closest('#notebook-container');\n",
       "if (notebookContainer) {{\n",
       "    x.observe(notebookContainer, {childList: true});\n",
       "}}\n",
       "\n",
       "// Listen for the clearing of the current output cell\n",
       "var outputEl = gd.closest('.output');\n",
       "if (outputEl) {{\n",
       "    x.observe(outputEl, {childList: true});\n",
       "}}\n",
       "\n",
       "                        })                };                });            </script>        </div>"
      ]
     },
     "metadata": {},
     "output_type": "display_data"
    }
   ],
   "source": [
    "# fig = px.histogram(scatter_data[scatter_data['flag_conversion']==1], x='price_difference', color='flag_conversion')\n",
    "# fig.show()\n",
    "# fig = px.histogram(scatter_data[scatter_data['flag_conversion']==0], x='price_difference', color='flag_conversion')\n",
    "# fig.show()\n",
    "fig = px.histogram(scatter_data, x='price_difference', color='flag_conversion')\n",
    "fig.show()"
   ]
  }
 ],
 "metadata": {
  "kernelspec": {
   "display_name": "Python 3 (ipykernel)",
   "language": "python",
   "name": "python3"
  },
  "language_info": {
   "codemirror_mode": {
    "name": "ipython",
    "version": 3
   },
   "file_extension": ".py",
   "mimetype": "text/x-python",
   "name": "python",
   "nbconvert_exporter": "python",
   "pygments_lexer": "ipython3",
   "version": "3.9.12"
  }
 },
 "nbformat": 4,
 "nbformat_minor": 5
}
